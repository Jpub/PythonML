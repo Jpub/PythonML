{
 "cells": [
  {
   "cell_type": "code",
   "execution_count": null,
   "metadata": {},
   "outputs": [],
   "source": [
    "# Google Colaboratory를 사용할 때는 다음 주석을 해제하고 실행하기 바랍니다."
   ]
  },
  {
   "cell_type": "code",
   "execution_count": null,
   "metadata": {},
   "outputs": [],
   "source": [
    "# # 다음을 실행하면 authorization code 입력을 요청받습니다.\n",
    "# # 출력된 링크를 클릭하고 Google 계정으로 로그인한 뒤,\n",
    "# # authorization code를 복사해서 붙여 넣습니다.\n",
    "# import os\n",
    "# from google.colab import drive\n",
    "# drive.mount('/content/drive')"
   ]
  },
  {
   "cell_type": "code",
   "execution_count": null,
   "metadata": {},
   "outputs": [],
   "source": [
    "# working_dir = 'MLSys_100Knocks' #　※※ 여러분이 만든 폴더 경로가 다를 때는 다음을 변경합니다. ※※\n",
    "# path = f'/content/drive/MyDrive/{working_dir}/MainChapter/chapter05'\n",
    "# os.chdir(path)"
   ]
  },
  {
   "cell_type": "code",
   "execution_count": null,
   "metadata": {},
   "outputs": [],
   "source": [
    "# Jupyter notebook ipywidgets 활성화\n",
    "# for jupyter notebook (virtualenv 사용 시)\n",
    "#!jupyter nbextension enable --user --py widgetsnbextension\n",
    "\n",
    "# for jupyter lab\n",
    "#!jupyter labextension install @jupyter-widgets/jupyterlab-manager"
   ]
  },
  {
   "cell_type": "markdown",
   "metadata": {},
   "source": [
    "# 5장 분석 시스템을 구축하기 위한 테크닉 10\n",
    "\n"
   ]
  },
  {
   "cell_type": "markdown",
   "metadata": {},
   "source": [
    "### 테크닉 41: 기본 폴더를 만들자"
   ]
  },
  {
   "cell_type": "code",
   "execution_count": 1,
   "metadata": {},
   "outputs": [
    {
     "name": "stdout",
     "output_type": "stream",
     "text": [
      "data\\0_input\n"
     ]
    }
   ],
   "source": [
    "import os\n",
    "\n",
    "data_dir = \"data\"\n",
    "input_dir = os.path.join(data_dir, \"0_input\")\n",
    "output_dir = os.path.join(data_dir, \"10_output\")\n",
    "master_dir = os.path.join(data_dir, \"99_master\")\n",
    "print(input_dir)"
   ]
  },
  {
   "cell_type": "code",
   "execution_count": 2,
   "metadata": {},
   "outputs": [],
   "source": [
    "os.makedirs(input_dir, exist_ok=True)\n",
    "os.makedirs(output_dir, exist_ok=True)\n",
    "os.makedirs(master_dir, exist_ok=True)"
   ]
  },
  {
   "cell_type": "markdown",
   "metadata": {},
   "source": [
    "##### **반드시 데이터를 폴더에 복사합니다.**"
   ]
  },
  {
   "cell_type": "markdown",
   "metadata": {},
   "source": [
    "### 테크닉 42: 입력 데이터 확인 구조를 만들자"
   ]
  },
  {
   "cell_type": "code",
   "execution_count": 3,
   "metadata": {
    "scrolled": true
   },
   "outputs": [
    {
     "data": {
      "text/html": [
       "<div>\n",
       "<style scoped>\n",
       "    .dataframe tbody tr th:only-of-type {\n",
       "        vertical-align: middle;\n",
       "    }\n",
       "\n",
       "    .dataframe tbody tr th {\n",
       "        vertical-align: top;\n",
       "    }\n",
       "\n",
       "    .dataframe thead th {\n",
       "        text-align: right;\n",
       "    }\n",
       "</style>\n",
       "<table border=\"1\" class=\"dataframe\">\n",
       "  <thead>\n",
       "    <tr style=\"text-align: right;\">\n",
       "      <th></th>\n",
       "      <th>area_cd</th>\n",
       "      <th>wide_area</th>\n",
       "      <th>narrow_area</th>\n",
       "    </tr>\n",
       "  </thead>\n",
       "  <tbody>\n",
       "    <tr>\n",
       "      <th>0</th>\n",
       "      <td>SL</td>\n",
       "      <td>서울</td>\n",
       "      <td>서울</td>\n",
       "    </tr>\n",
       "    <tr>\n",
       "      <th>1</th>\n",
       "      <td>BS</td>\n",
       "      <td>부산</td>\n",
       "      <td>부산</td>\n",
       "    </tr>\n",
       "    <tr>\n",
       "      <th>2</th>\n",
       "      <td>DJ</td>\n",
       "      <td>대전</td>\n",
       "      <td>대전</td>\n",
       "    </tr>\n",
       "  </tbody>\n",
       "</table>\n",
       "</div>"
      ],
      "text/plain": [
       "  area_cd wide_area narrow_area\n",
       "0      SL        서울          서울\n",
       "1      BS        부산          부산\n",
       "2      DJ        대전          대전"
      ]
     },
     "execution_count": 3,
     "metadata": {},
     "output_type": "execute_result"
    }
   ],
   "source": [
    "import pandas as pd\n",
    "\n",
    "m_area_file = \"m_area.csv\"\n",
    "m_store_file = \"m_store.csv\"\n",
    "m_area = pd.read_csv(os.path.join(master_dir, m_area_file))\n",
    "m_store = pd.read_csv(os.path.join(master_dir, m_store_file))\n",
    "m_area.head(3)"
   ]
  },
  {
   "cell_type": "code",
   "execution_count": 4,
   "metadata": {},
   "outputs": [],
   "source": [
    "tg_ym = \"202107\"\n",
    "target_file = \"tbl_order_\" + tg_ym + \".csv\"\n",
    "target_data = pd.read_csv(os.path.join(input_dir, target_file))"
   ]
  },
  {
   "cell_type": "code",
   "execution_count": 5,
   "metadata": {
    "scrolled": true
   },
   "outputs": [
    {
     "name": "stdout",
     "output_type": "stream",
     "text": [
      "날짜가 일치합니다\n"
     ]
    }
   ],
   "source": [
    "import datetime\n",
    "\n",
    "max_date = pd.to_datetime(target_data[\"order_accept_date\"]).max()\n",
    "min_date = pd.to_datetime(target_data[\"order_accept_date\"]).min()\n",
    "max_str_date = max_date.strftime(\"%Y%m\")\n",
    "min_str_date = min_date.strftime(\"%Y%m\")\n",
    "\n",
    "if tg_ym == min_str_date and tg_ym == max_str_date:\n",
    "    print(\"날짜가 일치합니다\")\n",
    "else:\n",
    "    raise Exception(\"날짜가 일치하지 않습니다\")"
   ]
  },
  {
   "cell_type": "code",
   "execution_count": null,
   "metadata": {},
   "outputs": [],
   "source": [
    "def calc_delta(t):\n",
    "    t1, t2 = t\n",
    "    delta = t2 - t1\n",
    "    return delta.total_seconds() / 60\n",
    "\n",
    "\n",
    "def init_tran_df(trg_df):\n",
    "    # 유지 보슈용 매장 데이터 삭제\n",
    "    trg_df = trg_df.loc[trg_df['store_id'] != 999]\n",
    "\n",
    "    trg_df = pd.merge(trg_df, m_store, on='store_id', how='left')\n",
    "    trg_df = pd.merge(trg_df, m_area, on='area_cd', how='left')\n",
    "\n",
    "    # 마스터 데이터에 없는 코드 대응 문자열 설정\n",
    "    trg_df.loc[trg_df['takeout_flag'] == 0, 'takeout_name'] = 'delivery'\n",
    "    trg_df.loc[trg_df['takeout_flag'] == 1, 'takeout_name'] = 'takeout'\n",
    "\n",
    "    trg_df.loc[trg_df['status'] == 0, 'status_name'] = '주문 접수'\n",
    "    trg_df.loc[trg_df['status'] == 1, 'status_name'] = '결제 완료'\n",
    "    trg_df.loc[trg_df['status'] == 2, 'status_name'] = '배달 완료'\n",
    "    trg_df.loc[trg_df['status'] == 9, 'status_name'] = '주문 취소'\n",
    "\n",
    "    trg_df.loc[:, 'order_date'] = pd.to_datetime(\n",
    "        trg_df['order_accept_date']).dt.date\n",
    "\n",
    "    # 배달 시간 계산\n",
    "    trg_df.loc[:, 'order_accept_datetime'] = pd.to_datetime(\n",
    "        trg_df['order_accept_date'])\n",
    "    trg_df.loc[:, 'delivered_datetime'] = pd.to_datetime(\n",
    "        trg_df['delivered_date'])\n",
    "    trg_df.loc[:, 'delta'] = trg_df[[\n",
    "        'order_accept_datetime', 'delivered_datetime']].apply(\n",
    "        calc_delta, axis=1)\n",
    "\n",
    "    return trg_df\n",
    "\n",
    "\n",
    "# 해당 월 데이터 초기화\n",
    "target_data = init_tran_df(target_data)"
   ]
  },
  {
   "cell_type": "markdown",
   "metadata": {},
   "source": [
    "### 테크닉 43: 보고서(본부용) 작성 처리를 함수화하자"
   ]
  },
  {
   "cell_type": "code",
   "execution_count": null,
   "metadata": {},
   "outputs": [],
   "source": [
    "import openpyxl\n",
    "from openpyxl.utils.dataframe import dataframe_to_rows\n",
    "from openpyxl.styles import PatternFill, Border, Side, Font\n",
    "\n",
    "\n",
    "def get_rank_df(target_data):\n",
    "    # 매장 데이터 작성, 순위 DF 반환\n",
    "    tmp = target_data.loc[target_data['status'].isin([1, 2])]\n",
    "    rank = tmp.groupby(['store_id'])['total_amount'].sum().sort_values(\n",
    "        ascending=False)\n",
    "    rank = pd.merge(rank, m_store, on='store_id', how='left')\n",
    "    return rank"
   ]
  },
  {
   "cell_type": "code",
   "execution_count": null,
   "metadata": {},
   "outputs": [],
   "source": [
    "def get_cancel_rank_df(target_data):\n",
    "    # 주문 취소율 계산, 순위 DF 반환\n",
    "    cancel_df = pd.DataFrame()\n",
    "    cancel_cnt = target_data.loc[target_data['status'] == 9].groupby(\n",
    "        ['store_id'])['store_id'].count()\n",
    "    order_cnt = target_data.loc[target_data['status'].isin([1, 2, 9])].groupby(\n",
    "        ['store_id'])['store_id'].count()\n",
    "    cancel_rate = (cancel_cnt / order_cnt) * 100\n",
    "    cancel_df['cancel_rate'] = cancel_rate\n",
    "    cancel_df = pd.merge(cancel_df, m_store, on='store_id', how='left')\n",
    "    cancel_df = cancel_df.sort_values('cancel_rate', ascending=True)\n",
    "    return cancel_df"
   ]
  },
  {
   "cell_type": "code",
   "execution_count": null,
   "metadata": {},
   "outputs": [],
   "source": [
    "def data_export(df, ws, row_start, col_start):\n",
    "    # 스타일 정의\n",
    "    side = Side(style='thin', color='008080')\n",
    "    border = Border(top=side, bottom=side, left=side, right=side)\n",
    "    \n",
    "    rows = dataframe_to_rows(df, index=False, header=True)\n",
    "    \n",
    "    for row_no, row in enumerate(rows, row_start):\n",
    "        for col_no, value in enumerate(row, col_start):\n",
    "            cell = ws.cell(row_no, col_no)\n",
    "            cell.value = value\n",
    "            cell.border = border\n",
    "            if row_no == row_start:\n",
    "                cell.fill = PatternFill(patternType='solid', fgColor='008080')\n",
    "                cell.font = Font(bold=True, color='FFFFFF')"
   ]
  },
  {
   "cell_type": "code",
   "execution_count": null,
   "metadata": {},
   "outputs": [],
   "source": [
    "# 본부용 보고서 데이터 처리\n",
    "def make_report_hq(target_data, output_folder):\n",
    "    rank = get_rank_df(target_data)\n",
    "    cancel_rank = get_cancel_rank_df(target_data)\n",
    "            \n",
    "    # Excel 출력 처리\n",
    "    wb = openpyxl.Workbook()\n",
    "    ws = wb.active\n",
    "    ws.title = '요약 보고서(본부용)'\n",
    "    \n",
    "    cell = ws.cell(1,1)\n",
    "    cell.value = f'본부용 {max_str_date}월분 요약 보고서'\n",
    "    cell.font = Font(bold=True, color='008080', size=20)\n",
    "    \n",
    "    cell = ws.cell(3,2)\n",
    "    cell.value = f'{max_str_date}월분 매출 총액'\n",
    "    cell.font = Font(bold=True, color='008080', size=20)\n",
    "    \n",
    "    cell = ws.cell(3,6)\n",
    "    cell.value = f\"{'{:,}'.format(rank['total_amount'].sum())}\"\n",
    "    cell.font = Font(bold=True, color='008080', size=20)\n",
    "    \n",
    "    # 매출 순위 직접 출력\n",
    "    cell = ws.cell(5,2)\n",
    "    cell.value = f'매출 순위'\n",
    "    cell.font = Font(bold=True, color='008080', size=16)\n",
    "\n",
    "    # 테이블 삽입 위치\n",
    "    data_export(rank, ws, 6, 2)\n",
    "        \n",
    "    # 주문 취소율 순위 직접 출력\n",
    "    cell = ws.cell(5,8)\n",
    "    cell.value = f'주문 취소율 순위'\n",
    "    cell.font = Font(bold=True, color='008080', size=16)\n",
    "    \n",
    "    # 테이블 삽입 위치\n",
    "    data_export(cancel_rank, ws, 6, 8)\n",
    "    \n",
    "    wb.save(os.path.join(output_folder, f'report_hq_{max_str_date}.xlsx'))\n",
    "    wb.close()"
   ]
  },
  {
   "cell_type": "markdown",
   "metadata": {},
   "source": [
    "### 테크닉 44: 보고서(매장용) 작성 처리를 함수화하자"
   ]
  },
  {
   "cell_type": "code",
   "execution_count": null,
   "metadata": {
    "scrolled": true
   },
   "outputs": [],
   "source": [
    "def get_store_rank(target_id, target_df):\n",
    "    rank = get_rank_df(target_df)\n",
    "    store_rank = rank.loc[rank['store_id'] == target_id].index + 1\n",
    "    return store_rank[0]\n",
    "\n",
    "\n",
    "def get_store_sale(target_id, target_df):\n",
    "    rank = get_rank_df(target_df)\n",
    "    store_sale = rank.loc[rank['store_id'] == target_id]['total_amount']\n",
    "    return store_sale"
   ]
  },
  {
   "cell_type": "code",
   "execution_count": null,
   "metadata": {},
   "outputs": [],
   "source": [
    "def get_store_cancel_rank(target_id, target_df):\n",
    "    cancel_df = get_cancel_rank_df(target_df)\n",
    "    cancel_df = cancel_df.reset_index()\n",
    "    store_cancel_rank = cancel_df.loc[cancel_df['store_id'] == target_id\n",
    "                                      ].index + 1\n",
    "    return store_cancel_rank[0]\n",
    "\n",
    "\n",
    "def get_store_cancel_count(target_id, target_df):\n",
    "    store_cancel_count = target_df.loc[(target_df['status'] == 9) &\n",
    "                                       (target_df['store_id'] == target_id)\n",
    "                                       ].groupby(['store_id'])['store_id'].count()\n",
    "    return store_cancel_count"
   ]
  },
  {
   "cell_type": "code",
   "execution_count": null,
   "metadata": {},
   "outputs": [],
   "source": [
    "def get_delivery_rank_df(target_id, target_df):\n",
    "    delivery = target_df.loc[target_df['status'] == 2]\n",
    "    delivery_rank = delivery.groupby(['store_id'])['delta'].mean().sort_values()\n",
    "    delivery_rank = pd.merge(delivery_rank, m_store, on='store_id', how='left')\n",
    "    \n",
    "    return delivery_rank\n",
    "\n",
    "def get_delivery_rank_store(target_id, target_df):\n",
    "    delivery_rank = get_delivery_rank_df(target_id, target_df)\n",
    "    store_delivery_rank =  delivery_rank.loc[delivery_rank['store_id']==target_id].index + 1\n",
    "    \n",
    "    return store_delivery_rank[0]"
   ]
  },
  {
   "cell_type": "code",
   "execution_count": null,
   "metadata": {},
   "outputs": [],
   "source": [
    "# 매장용 보고서 데이터 처리\n",
    "def make_report_store(target_data, target_id, output_folder):\n",
    "    rank = get_store_rank(target_id, target_data)\n",
    "    sale = get_store_sale(target_id, target_data)\n",
    "    cancel_rank = get_store_cancel_rank(target_id, target_data)\n",
    "    cancel_count = get_store_cancel_count(target_id, target_data)\n",
    "    delivery_df = get_delivery_rank_df(target_id, target_data)\n",
    "    delivery_rank = get_delivery_rank_store(target_id, target_data)\n",
    "\n",
    "    store_name = m_store.loc[\n",
    "        m_store['store_id'] == target_id]['store_name'].values[0]\n",
    "\n",
    "    # Excel 출력 처리\n",
    "    wb = openpyxl.Workbook()\n",
    "    ws = wb.active\n",
    "    ws.title = '매장용 보고서'\n",
    "\n",
    "    cell = ws.cell(1, 1)\n",
    "    cell.value = f'{store_name} {max_str_date}월분 요약 보고서'\n",
    "    cell.font = Font(bold=True, color='008080', size=20)\n",
    "\n",
    "    cell = ws.cell(3, 2)\n",
    "    cell.value = f'{max_str_date}월분 매출총액'\n",
    "    cell.font = Font(bold=True, color='008080', size=20)\n",
    "\n",
    "    cell = ws.cell(3, 6)\n",
    "    cell.value = f\"{'{:,}'.format(sale.values[0])}\"\n",
    "    cell.font = Font(bold=True, color='008080', size=20)\n",
    "\n",
    "    # 매출 순위 직접 출력\n",
    "    cell = ws.cell(5, 2)\n",
    "    cell.value = f'매출 순위'\n",
    "    cell.font = Font(bold=True, color='008080', size=16)\n",
    "\n",
    "    cell = ws.cell(5, 5)\n",
    "    cell.value = f'{rank}위'\n",
    "    cell.font = Font(bold=True, color='008080', size=16)\n",
    "\n",
    "    cell = ws.cell(6, 2)\n",
    "    cell.value = f'매출 데이터'\n",
    "    cell.font = Font(bold=True, color='008080', size=16)\n",
    "\n",
    "    # 테이블 삽입\n",
    "    tmp_df = target_data.loc[(target_data['store_id'] == target_id) &\n",
    "                             (target_data['status'].isin([1, 2]))]\n",
    "    tmp_df = tmp_df[['order_accept_date', 'customer_id', 'total_amount',\n",
    "                     'takeout_name', 'status_name']]\n",
    "    data_export(tmp_df, ws, 7, 2)\n",
    "\n",
    "    # 주문 취소율 순위 직접 출력\n",
    "    cell = ws.cell(5, 8)\n",
    "    cell.value = f'매출 취소율 순위'\n",
    "    cell.font = Font(bold=True, color='008080', size=16)\n",
    "\n",
    "    cell = ws.cell(5, 12)\n",
    "    cell.value = f'{cancel_rank}위, {cancel_count.values[0]}회'\n",
    "    cell.font = Font(bold=True, color='008080', size=16)\n",
    "\n",
    "    cell = ws.cell(6, 8)\n",
    "    cell.value = f'매출 취소 데이터'\n",
    "    cell.font = Font(bold=True, color='008080', size=16)\n",
    "\n",
    "    # 테이블 삽입\n",
    "    tmp_df = target_data.loc[(target_data['store_id'] == target_id) &\n",
    "                             (target_data['status'] == 9)]\n",
    "    tmp_df = tmp_df[['order_accept_date', 'customer_id', 'total_amount',\n",
    "                     'takeout_name', 'status_name']]\n",
    "    data_export(tmp_df, ws, 7, 8)\n",
    "\n",
    "    # 배달 시간 직접 출력\n",
    "    ave_time = delivery_df.loc[\n",
    "        delivery_df['store_id'] == target_id]['delta'].values[0]\n",
    "    cell = ws.cell(5, 14)\n",
    "    cell.value = f'배달 완료 소요 시간 순위'\n",
    "    cell.font = Font(bold=True, color='008080', size=16)\n",
    "\n",
    "    cell = ws.cell(5, 18)\n",
    "    cell.value = f'{delivery_rank}위, 평균 {ave_time}분'\n",
    "    cell.font = Font(bold=True, color='008080', size=16)\n",
    "\n",
    "    cell = ws.cell(6, 14)\n",
    "    cell.value = f'각 매장 배달 시간 순위'\n",
    "    cell.font = Font(bold=True, color='008080', size=16)\n",
    "\n",
    "    # 테이블 삽입\n",
    "    data_export(delivery_df, ws, 7, 14)\n",
    "\n",
    "    wb.save(os.path.join(\n",
    "        output_folder, f'{target_id}_{store_name}_report_{max_str_date}.xlsx'))\n",
    "    wb.close()"
   ]
  },
  {
   "cell_type": "markdown",
   "metadata": {},
   "source": [
    "### 테크닉 45: 함수를 실행하고 동작을 확인하자"
   ]
  },
  {
   "cell_type": "code",
   "execution_count": null,
   "metadata": {},
   "outputs": [],
   "source": [
    "# 본부용 보고서\n",
    "make_report_hq(target_data, output_dir)"
   ]
  },
  {
   "cell_type": "code",
   "execution_count": null,
   "metadata": {},
   "outputs": [],
   "source": [
    "# 각 매장용 보고서(모든 지점 대상)\n",
    "for store_id in m_store.loc[m_store['store_id'] != 999]['store_id']:\n",
    "    make_report_store(target_data, store_id, output_dir)"
   ]
  },
  {
   "cell_type": "markdown",
   "metadata": {},
   "source": [
    "### 테크닉 46: 데이터 업데이트에 대응해 폴더를 만들자"
   ]
  },
  {
   "cell_type": "code",
   "execution_count": null,
   "metadata": {},
   "outputs": [],
   "source": [
    "def make_active_folder(targetYM):\n",
    "    now = datetime.datetime.now().strftime(\"%Y%m%d%H%M%S\")\n",
    "    target_output_dir_name = targetYM + \"_\" + now\n",
    "    target_output_dir = os.path.join(output_dir, target_output_dir_name)\n",
    "    os.makedirs(target_output_dir)\n",
    "    print(target_output_dir_name)\n",
    "    return target_output_dir\n",
    "\n",
    "\n",
    "target_output_dir = make_active_folder(tg_ym)"
   ]
  },
  {
   "cell_type": "markdown",
   "metadata": {},
   "source": [
    "### 테크닉 47: 시도군구별로 폴더를 만들고 데이터를 출력하자"
   ]
  },
  {
   "cell_type": "code",
   "execution_count": null,
   "metadata": {},
   "outputs": [],
   "source": [
    "# 본부용 보고서(생성 위치 변경)\n",
    "make_report_hq(target_data, target_output_dir)"
   ]
  },
  {
   "cell_type": "code",
   "execution_count": null,
   "metadata": {},
   "outputs": [],
   "source": [
    "# 각 매장용 보고서(모든 지점 대상)\n",
    "for store_id in m_store.loc[m_store['store_id'] != 999]['store_id']:\n",
    "    # narrow_area 폴더 생성\n",
    "    area_cd = m_store.loc[m_store['store_id'] == store_id]['area_cd']\n",
    "    area_name = m_area.loc[\n",
    "        m_area['area_cd'] == area_cd.values[0]]['narrow_area'].values[0]\n",
    "    target_store_output_dir = os.path.join(target_output_dir, area_name)\n",
    "    os.makedirs(target_store_output_dir, exist_ok=True)\n",
    "    make_report_store(target_data, store_id, target_store_output_dir)"
   ]
  },
  {
   "cell_type": "markdown",
   "metadata": {},
   "source": [
    "### 테크닉 48: 지난달 데이터를 동적으로 로딩하자"
   ]
  },
  {
   "cell_type": "code",
   "execution_count": null,
   "metadata": {},
   "outputs": [],
   "source": [
    "# 본부용 보고서 데이터 처리(지난달 데이터 대응 버전)\n",
    "def make_report_hq_r2(target_data_list, output_folder):\n",
    "    # 엑셀 생성 처리\n",
    "    wb = openpyxl.Workbook()\n",
    "\n",
    "    file_date = ''\n",
    "    \n",
    "    for tmp in target_data_list:\n",
    "        df = pd.DataFrame(tmp)\n",
    "        \n",
    "        df_date = pd.to_datetime(df[\"order_accept_date\"]).max()\n",
    "        trg_date = df_date.strftime(\"%Y%m\")\n",
    "        \n",
    "        if file_date == '':\n",
    "            # 처음에만 파일명용으로 연월 저장\n",
    "            file_date = trg_date\n",
    "        \n",
    "        rank = get_rank_df(df)\n",
    "        cancel_rank = get_cancel_rank_df(df)\n",
    "        \n",
    "        # 워크시트 생성\n",
    "        ws = wb.create_sheet(title=f'{trg_date}월분')\n",
    "\n",
    "        cell = ws.cell(1,1)\n",
    "        cell.value = f'본부용 {trg_date}월분 요약 보고서'\n",
    "        cell.font = Font(bold=True, color='008080', size=20)\n",
    "\n",
    "        cell = ws.cell(3,2)\n",
    "        cell.value = f'{max_str_date}월분 매출 총액'\n",
    "        cell.font = Font(bold=True, color='008080', size=20)\n",
    "\n",
    "        cell = ws.cell(3,6)\n",
    "        cell.value = f\"{'{:,}'.format(rank['total_amount'].sum())}\"\n",
    "        cell.font = Font(bold=True, color='008080', size=20)\n",
    "\n",
    "        # 매출 순위를 직접 출력\n",
    "        cell = ws.cell(5,2)\n",
    "        cell.value = f'매출 순위'\n",
    "        cell.font = Font(bold=True, color='008080', size=16)\n",
    "\n",
    "        # 표 삽입\n",
    "        data_export(rank, ws, 6, 2)\n",
    "\n",
    "        # 주문 취소율 순위를 직접 출력\n",
    "        cell = ws.cell(5,8)\n",
    "        cell.value = f'주문 취소율 순위'\n",
    "        cell.font = Font(bold=True, color='008080', size=16)\n",
    "\n",
    "        # 테이블 삽입 위치\n",
    "        data_export(cancel_rank, ws, 6, 8)\n",
    "        \n",
    "    \n",
    "    # 기본 시트 삭제\n",
    "    wb.remove(wb.worksheets[0])\n",
    "    \n",
    "    # DF 반복 처리 완료 후 워크북을 저장\n",
    "    wb.save(os.path.join(output_folder, f'report_hq_{file_date}.xlsx'))\n",
    "    wb.close()\n"
   ]
  },
  {
   "cell_type": "code",
   "execution_count": null,
   "metadata": {},
   "outputs": [],
   "source": [
    "# 매장용 보고서 데이터 처리(지난달 데이터 대응 버전)\n",
    "def make_report_store_r2(target_data_list, target_id, output_folder):\n",
    "    # 엑셀 생성 처리\n",
    "    wb = openpyxl.Workbook()\n",
    "\n",
    "    file_date = ''\n",
    "\n",
    "    for tmp in target_data_list:\n",
    "        df = pd.DataFrame(tmp)\n",
    "\n",
    "        df_date = pd.to_datetime(df[\"order_accept_date\"]).max()\n",
    "        trg_date = df_date.strftime(\"%Y%m\")\n",
    "\n",
    "        if file_date == '':\n",
    "            # 처음에만 파일명용으로 연월 저장\n",
    "            file_date = trg_date\n",
    "\n",
    "        rank = get_store_rank(target_id, df)\n",
    "        sale = get_store_sale(target_id, df)\n",
    "        cancel_rank = get_store_cancel_rank(target_id, df)\n",
    "        cancel_count = get_store_cancel_count(target_id, df)\n",
    "        delivery_df = get_delivery_rank_df(target_id, df)\n",
    "        delivery_rank = get_delivery_rank_store(target_id, df)\n",
    "\n",
    "        store_name = m_store.loc[\n",
    "            m_store['store_id'] == target_id]['store_name'].values[0]\n",
    "\n",
    "        # 워크 시트 생성\n",
    "        ws = wb.create_sheet(title=f'{trg_date}년도')\n",
    "\n",
    "        # 엑셀 생성 처리\n",
    "        cell = ws.cell(1, 1)\n",
    "        cell.value = f'{store_name} {max_str_date}월분 요약 보고서'\n",
    "        cell.font = Font(bold=True, color='008080', size=20)\n",
    "\n",
    "        cell = ws.cell(3, 2)\n",
    "        cell.value = f'{max_str_date}월분 매출 총액'\n",
    "        cell.font = Font(bold=True, color='008080', size=20)\n",
    "\n",
    "        cell = ws.cell(3, 6)\n",
    "        cell.value = f\"{'{:,}'.format(sale.values[0])}\"\n",
    "        cell.font = Font(bold=True, color='008080', size=20)\n",
    "\n",
    "        # 매출 순위를 직접 생성\n",
    "        cell = ws.cell(5, 2)\n",
    "        cell.value = f'매출 순위'\n",
    "        cell.font = Font(bold=True, color='008080', size=16)\n",
    "\n",
    "        cell = ws.cell(5, 5)\n",
    "        cell.value = f'{rank}위'\n",
    "        cell.font = Font(bold=True, color='008080', size=16)\n",
    "\n",
    "        cell = ws.cell(6, 2)\n",
    "        cell.value = f'매출 데이터'\n",
    "        cell.font = Font(bold=True, color='008080', size=16)\n",
    "\n",
    "        # 테이블 삽입\n",
    "        tmp_df = df.loc[(df['store_id'] == target_id) &\n",
    "                        (df['status'].isin([1, 2]))]\n",
    "        tmp_df = tmp_df[['order_accept_date', 'customer_id', 'total_amount',\n",
    "                         'takeout_name', 'status_name']]\n",
    "        data_export(tmp_df, ws, 7, 2)\n",
    "\n",
    "        # 주문 취소율 순위를 직접 출력\n",
    "        cell = ws.cell(5, 8)\n",
    "        cell.value = f'매출 취소율 순위'\n",
    "        cell.font = Font(bold=True, color='008080', size=16)\n",
    "\n",
    "        cell = ws.cell(5, 12)\n",
    "        cell.value = f'{cancel_rank}위, {cancel_count.values[0]}회'\n",
    "        cell.font = Font(bold=True, color='008080', size=16)\n",
    "\n",
    "        cell = ws.cell(6, 8)\n",
    "        cell.value = f'주문 취소 데이터'\n",
    "        cell.font = Font(bold=True, color='008080', size=16)\n",
    "\n",
    "        # 테이블 삽입\n",
    "        tmp_df = df.loc[(df['store_id'] == target_id) &\n",
    "                        (df['status'] == 9)]\n",
    "        tmp_df = tmp_df[['order_accept_date', 'customer_id', 'total_amount',\n",
    "                         'takeout_name', 'status_name']]\n",
    "        data_export(tmp_df, ws, 7, 8)\n",
    "\n",
    "        # 배달 완료 소요 시간 직접 출력\n",
    "        ave_time = delivery_df.loc[\n",
    "            delivery_df['store_id'] == target_id]['delta'].values[0]\n",
    "        cell = ws.cell(5, 14)\n",
    "        cell.value = f'배달 완료 소요 시간 순위'\n",
    "        cell.font = Font(bold=True, color='008080', size=16)\n",
    "\n",
    "        cell = ws.cell(5, 18)\n",
    "        cell.value = f'{delivery_rank}위, 평균 {ave_time}분'\n",
    "        cell.font = Font(bold=True, color='008080', size=16)\n",
    "\n",
    "        cell = ws.cell(6, 14)\n",
    "        cell.value = f'각 매장의 배달 시간 순위'\n",
    "        cell.font = Font(bold=True, color='008080', size=16)\n",
    "\n",
    "        # 테이블 삽입\n",
    "        data_export(delivery_df, ws, 7, 14)\n",
    "\n",
    "    # 기본 시트 삭제\n",
    "    wb.remove(wb.worksheets[0])\n",
    "\n",
    "    # DF 반복 처리 완료 후 워크북을 저장\n",
    "    wb.save(os.path.join(\n",
    "        output_folder, f'{target_id}_{store_name}_report_{file_date}.xlsx'))\n",
    "    wb.close()"
   ]
  },
  {
   "cell_type": "markdown",
   "metadata": {},
   "source": [
    "### 테크닉 49: 과거 데이터와 비교하자"
   ]
  },
  {
   "cell_type": "code",
   "execution_count": null,
   "metadata": {},
   "outputs": [],
   "source": [
    "# 자동으로 지정한 연월의 1개월 데이터를 로딩해 배열에 저장한다.\n",
    "tg_ym_old = str(int(tg_ym) - 1)\n",
    "target_file = \"tbl_order_\" + tg_ym_old + \".csv\"\n",
    "target_data_old = pd.read_csv(os.path.join(input_dir, target_file))\n",
    "\n",
    "# 과거 데이터 초기화\n",
    "target_data_old = init_tran_df(target_data_old)\n",
    "\n",
    "df_array = [target_data, target_data_old]"
   ]
  },
  {
   "cell_type": "code",
   "execution_count": null,
   "metadata": {},
   "outputs": [],
   "source": [
    "# 폴더 동적 생성\n",
    "target_output_dir = make_active_folder(tg_ym)\n",
    "\n",
    "# 본부용 보고서 R2 호출\n",
    "make_report_hq_r2(df_array, target_output_dir)"
   ]
  },
  {
   "cell_type": "code",
   "execution_count": null,
   "metadata": {},
   "outputs": [],
   "source": [
    "# 각 매장용 보고서(모든 매장 대상)\n",
    "for store_id in m_store.loc[m_store['store_id'] != 999]['store_id']:\n",
    "    # narrow_area 폴더 작성\n",
    "    area_cd = m_store.loc[m_store['store_id'] == store_id]['area_cd']\n",
    "    area_name = m_area.loc[\n",
    "        m_area['area_cd'] == area_cd.values[0]]['narrow_area'].values[0]\n",
    "    target_store_output_dir = os.path.join(target_output_dir, area_name)\n",
    "    os.makedirs(target_store_output_dir, exist_ok=True)\n",
    "    make_report_store_r2(df_array, store_id, target_store_output_dir)"
   ]
  },
  {
   "cell_type": "markdown",
   "metadata": {},
   "source": [
    "### 테크닉 50: 화면에서 실행할 수 있게 하자"
   ]
  },
  {
   "cell_type": "code",
   "execution_count": null,
   "metadata": {
    "scrolled": true
   },
   "outputs": [],
   "source": [
    "from IPython.display import display, clear_output\n",
    "from ipywidgets import DatePicker\n",
    "import datetime\n",
    "\n",
    "\n",
    "def order_by_date(val):\n",
    "    clear_output()\n",
    "    display(date_picker)\n",
    "\n",
    "    df_array = []\n",
    "\n",
    "    print('데이터 확인. 데이터를 준비합니다...')\n",
    "\n",
    "    date_str = str(val['new'])\n",
    "    date_dt = datetime.datetime.strptime(date_str, '%Y-%m-%d')\n",
    "    target_ym = date_dt.strftime('%Y%m')\n",
    "\n",
    "    # 폴더 자동 생성\n",
    "    target_output_dir = make_active_folder(target_ym)\n",
    "\n",
    "    # 선택한 기준 월 데이터 확인\n",
    "    target_file = \"tbl_order_\" + target_ym + \".csv\"\n",
    "    if os.path.exists(os.path.join(input_dir, target_file)) == False:\n",
    "        print(f'{target_file}가 없습니다')\n",
    "        return\n",
    "    else:\n",
    "        # 데이터 로딩\n",
    "        df = pd.read_csv(os.path.join(input_dir, target_file))\n",
    "        df = init_tran_df(df)\n",
    "        df_array.append(df)\n",
    "\n",
    "    # 선택한 기준 월의 전월 데이터 확인\n",
    "    target_ym_old = str(int(target_ym) - 1)\n",
    "    target_file = \"tbl_order_\" + target_ym_old + \".csv\"\n",
    "    if os.path.exists(os.path.join(input_dir, target_file)) == True:\n",
    "        # 데이터가 존재하는 경우\n",
    "        df = pd.read_csv(os.path.join(input_dir, target_file))\n",
    "        df = init_tran_df(df)\n",
    "        df_array.append(df)\n",
    "\n",
    "    print('데이터 준비 완료. 보고서를 생성합니다...')\n",
    "\n",
    "    # 본부용 보고서 R2 호출\n",
    "    make_report_hq_r2(df_array, target_output_dir)\n",
    "\n",
    "    print(f'관리 보고서 생성 완료. 매장용 보고서를 생성합니다...')\n",
    "    # 각 매장용 보고서(모든 매장 대상)\n",
    "    for store_id in m_store.loc[m_store['store_id'] != 999]['store_id']:\n",
    "        # narrow_area 폴더 생성\n",
    "        area_cd = m_store.loc[m_store['store_id'] == store_id]['area_cd']\n",
    "        area_name = m_area.loc[m_area['area_cd'] == area_cd.values[0]][\n",
    "            'narrow_area'].values[0]\n",
    "        target_store_output_dir = os.path.join(target_output_dir, area_name)\n",
    "        os.makedirs(target_store_output_dir, exist_ok=True)\n",
    "        make_report_store_r2(df_array, store_id, target_store_output_dir)\n",
    "\n",
    "    print('처리를 완료했습니다.')\n",
    "\n",
    "\n",
    "date_picker = DatePicker(value=datetime.datetime(2021, 4, 1))\n",
    "date_picker.observe(order_by_date, names='value')\n",
    "print(f'데이터를 0_input 폴더에 복사한 뒤, 기준 월을 선택하십시오.')\n",
    "display(date_picker)"
   ]
  },
  {
   "cell_type": "code",
   "execution_count": null,
   "metadata": {},
   "outputs": [],
   "source": []
  }
 ],
 "metadata": {
  "kernelspec": {
   "display_name": "Python 3 (ipykernel)",
   "language": "python",
   "name": "python3"
  },
  "language_info": {
   "codemirror_mode": {
    "name": "ipython",
    "version": 3
   },
   "file_extension": ".py",
   "mimetype": "text/x-python",
   "name": "python",
   "nbconvert_exporter": "python",
   "pygments_lexer": "ipython3",
   "version": "3.8.10"
  }
 },
 "nbformat": 4,
 "nbformat_minor": 4
}
