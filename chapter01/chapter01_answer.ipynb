{
 "cells": [
  {
   "cell_type": "code",
   "execution_count": null,
   "metadata": {},
   "outputs": [],
   "source": [
    "# Google Colaboratory를 사용할 때는 다음 주석을 해제하고 실행하기 바랍니다."
   ]
  },
  {
   "cell_type": "code",
   "execution_count": null,
   "metadata": {},
   "outputs": [],
   "source": [
    "# # 다음을 실행하면 authorization code 입력을 요청받습니다.\n",
    "# # 출력된 링크를 클릭하고 Google 계정으로 로그인한 뒤,\n",
    "# # authorization code를 복사해서 붙여 넣습니다.\n",
    "# import os\n",
    "# from google.colab import drive\n",
    "# drive.mount('/content/drive')"
   ]
  },
  {
   "cell_type": "code",
   "execution_count": null,
   "metadata": {},
   "outputs": [],
   "source": [
    "# working_dir = 'MLSys_100Knocks' #　※※ 여러분이 만든 폴더 경로가 다를 때는 다음을 변경합니다. ※※\n",
    "# path = f'/content/drive/MyDrive/{working_dir}/MainChapter/chapter01'\n",
    "# os.chdir(path)"
   ]
  },
  {
   "cell_type": "markdown",
   "metadata": {},
   "source": [
    "# １장 분석을 위한 준비 테크닉 10\n",
    "\n",
    "모 피자 체인의 매출 추이를 분석합니다.<br>\n",
    "데이터의 내용을 이해하고 분석하기 용이한 형태로 가공하는 절차를 학습합니다."
   ]
  },
  {
   "cell_type": "markdown",
   "metadata": {},
   "source": [
    "### 테크닉 1: 데이터를 모두 로딩하자"
   ]
  },
  {
   "cell_type": "code",
   "execution_count": null,
   "metadata": {},
   "outputs": [],
   "source": [
    "import pandas as pd\n",
    "m_store = pd.read_csv('m_store.csv')\n",
    "m_store"
   ]
  },
  {
   "cell_type": "code",
   "execution_count": null,
   "metadata": {},
   "outputs": [],
   "source": [
    "len(m_store)"
   ]
  },
  {
   "cell_type": "code",
   "execution_count": null,
   "metadata": {},
   "outputs": [],
   "source": [
    "m_store.head()"
   ]
  },
  {
   "cell_type": "code",
   "execution_count": null,
   "metadata": {},
   "outputs": [],
   "source": [
    "m_area = pd.read_csv('m_area.csv')\n",
    "m_area"
   ]
  },
  {
   "cell_type": "code",
   "execution_count": null,
   "metadata": {
    "scrolled": false
   },
   "outputs": [],
   "source": [
    "tbl_order_4 = pd.read_csv('tbl_order_202104.csv')\n",
    "tbl_order_4"
   ]
  },
  {
   "cell_type": "markdown",
   "metadata": {},
   "source": [
    "### 테크닉 2: 데이터를 결합(유니온)하자"
   ]
  },
  {
   "cell_type": "code",
   "execution_count": null,
   "metadata": {},
   "outputs": [],
   "source": [
    "tbl_order_5 = pd.read_csv('tbl_order_202105.csv')\n",
    "tbl_order_5"
   ]
  },
  {
   "cell_type": "code",
   "execution_count": null,
   "metadata": {},
   "outputs": [],
   "source": [
    "order_all = pd.concat([tbl_order_4, tbl_order_5], ignore_index=True)\n",
    "order_all"
   ]
  },
  {
   "cell_type": "code",
   "execution_count": null,
   "metadata": {},
   "outputs": [],
   "source": [
    "len(order_all) == len(tbl_order_4) + len(tbl_order_5)"
   ]
  },
  {
   "cell_type": "markdown",
   "metadata": {},
   "source": [
    "### 테크닉 3: 폴더 안에 있는 파일을 확인하자"
   ]
  },
  {
   "cell_type": "code",
   "execution_count": null,
   "metadata": {},
   "outputs": [],
   "source": [
    "import os\n",
    "current_dir = os.getcwd()\n",
    "current_dir"
   ]
  },
  {
   "cell_type": "code",
   "execution_count": null,
   "metadata": {},
   "outputs": [],
   "source": [
    "# 모든 파일 목록을 표시한다\n",
    "os.listdir(current_dir)"
   ]
  },
  {
   "cell_type": "code",
   "execution_count": null,
   "metadata": {},
   "outputs": [],
   "source": [
    "tbl_order_file = os.path.join(current_dir, 'tbl_order_*.csv')\n",
    "tbl_order_file"
   ]
  },
  {
   "cell_type": "code",
   "execution_count": null,
   "metadata": {},
   "outputs": [],
   "source": [
    "# 특정 파일 목록을 표시한다\n",
    "import glob\n",
    "tbl_order_files = glob.glob(tbl_order_file)\n",
    "tbl_order_files"
   ]
  },
  {
   "cell_type": "markdown",
   "metadata": {},
   "source": [
    "### 테크닉 4: 여러 데이터를 결합(유니온)하자"
   ]
  },
  {
   "cell_type": "code",
   "execution_count": null,
   "metadata": {},
   "outputs": [],
   "source": [
    "# 반복 전에 1개만 처리해서 확인한다\n",
    "order_all = pd.DataFrame()\n",
    "file = tbl_order_files[0]\n",
    "order_data = pd.read_csv(file)\n",
    "print(f'{file}:{len(order_data)}')\n",
    "order_all = pd.concat([order_all, order_data], ignore_index=True)\n",
    "order_all"
   ]
  },
  {
   "cell_type": "code",
   "execution_count": null,
   "metadata": {},
   "outputs": [],
   "source": [
    "# 반복 처리\n",
    "order_all = pd.DataFrame()\n",
    "for file in tbl_order_files:\n",
    "    order_data = pd.read_csv(file)\n",
    "    print(f'{file}:{len(order_data)}')\n",
    "    order_all = pd.concat([order_all, order_data], ignore_index=True)"
   ]
  },
  {
   "cell_type": "code",
   "execution_count": null,
   "metadata": {},
   "outputs": [],
   "source": [
    "order_all"
   ]
  },
  {
   "cell_type": "markdown",
   "metadata": {},
   "source": [
    "### 테크닉 5: 데이터 통계량을 확인해 보자"
   ]
  },
  {
   "cell_type": "code",
   "execution_count": null,
   "metadata": {},
   "outputs": [],
   "source": [
    "order_all.isnull().sum()"
   ]
  },
  {
   "cell_type": "code",
   "execution_count": null,
   "metadata": {},
   "outputs": [],
   "source": [
    "# pd.options.display.float_format = '{:.3f}'.format  # 소수점이하 3자리로 표시\n",
    "order_all.describe()"
   ]
  },
  {
   "cell_type": "code",
   "execution_count": null,
   "metadata": {},
   "outputs": [],
   "source": [
    "order_all['total_amount'].describe()"
   ]
  },
  {
   "cell_type": "code",
   "execution_count": null,
   "metadata": {},
   "outputs": [],
   "source": [
    "print(order_all['order_accept_date'].min())\n",
    "print(order_all['order_accept_date'].max())\n",
    "print(order_all['delivered_date'].min())\n",
    "print(order_all['delivered_date'].max())"
   ]
  },
  {
   "cell_type": "markdown",
   "metadata": {},
   "source": [
    "### 테크닉 6: 불필요한 데이터를 제거하자"
   ]
  },
  {
   "cell_type": "code",
   "execution_count": null,
   "metadata": {},
   "outputs": [],
   "source": [
    "order_data = order_all.loc[order_all['store_id'] != 999]\n",
    "order_data"
   ]
  },
  {
   "cell_type": "markdown",
   "metadata": {},
   "source": [
    "### 테크닉 7: 마스터 데이터를 결합(조인)하자"
   ]
  },
  {
   "cell_type": "code",
   "execution_count": null,
   "metadata": {},
   "outputs": [],
   "source": [
    "order_data = pd.merge(order_data, m_store, on='store_id', how='left')\n",
    "order_data"
   ]
  },
  {
   "cell_type": "code",
   "execution_count": null,
   "metadata": {},
   "outputs": [],
   "source": [
    "order_data = pd.merge(order_data, m_area, on='area_cd', how='left')\n",
    "order_data"
   ]
  },
  {
   "cell_type": "markdown",
   "metadata": {},
   "source": [
    "### 테크닉 8: 마스터가 존재하지 않는 코드에 이름을 설정하자"
   ]
  },
  {
   "cell_type": "code",
   "execution_count": null,
   "metadata": {},
   "outputs": [],
   "source": [
    "order_data.loc[order_data['takeout_flag'] == 0, 'takeout_name'] = 'delivery'\n",
    "order_data.loc[order_data['takeout_flag'] == 1, 'takeout_name'] = 'takeout'\n",
    "order_data"
   ]
  },
  {
   "cell_type": "code",
   "execution_count": null,
   "metadata": {},
   "outputs": [],
   "source": [
    "order_data.loc[order_data['status'] == 0, 'status_name'] = '주문 접수'\n",
    "order_data.loc[order_data['status'] == 1, 'status_name'] = '결제 완료'\n",
    "order_data.loc[order_data['status'] == 2, 'status_name'] = '배달 완료'\n",
    "order_data.loc[order_data['status'] == 9, 'status_name'] = '주문 취소'\n",
    "order_data"
   ]
  },
  {
   "cell_type": "markdown",
   "metadata": {},
   "source": [
    "### 테크닉 9: 분석 기초 테이블을 출력하자"
   ]
  },
  {
   "cell_type": "code",
   "execution_count": null,
   "metadata": {},
   "outputs": [],
   "source": [
    "output_dir = os.path.join(current_dir, 'output_data')\n",
    "os.makedirs(output_dir, exist_ok=True)"
   ]
  },
  {
   "cell_type": "code",
   "execution_count": null,
   "metadata": {},
   "outputs": [],
   "source": [
    "output_file = os.path.join(output_dir, 'order_data.csv')\n",
    "order_data.to_csv(output_file, index=False)"
   ]
  },
  {
   "cell_type": "markdown",
   "metadata": {},
   "source": [
    "### 테크닉 10: 셀을 사용하기 쉽게 정리하자"
   ]
  },
  {
   "cell_type": "code",
   "execution_count": null,
   "metadata": {},
   "outputs": [],
   "source": [
    "# 라이브러리 임포트\n",
    "import pandas as pd\n",
    "import os\n",
    "import glob\n",
    "\n",
    "# 파일 로딩\n",
    "m_store = pd.read_csv('m_store.csv')\n",
    "m_area = pd.read_csv('m_area.csv')\n",
    "\n",
    "# 주문 데이터 로딩\n",
    "current_dir = os.getcwd()\n",
    "tbl_order_file = os.path.join(current_dir, 'tbl_order_*.csv')\n",
    "tbl_order_files = glob.glob(tbl_order_file)\n",
    "order_all = pd.DataFrame()\n",
    "\n",
    "for file in tbl_order_files:\n",
    "    order_data = pd.read_csv(file)\n",
    "    print(f'{file}:{len(order_data)}')\n",
    "    order_all = pd.concat([order_all, order_data], ignore_index=True)\n",
    "\n",
    "# 불필요한 데이터 제거\n",
    "order_data = order_all.loc[order_all['store_id'] != 999]\n",
    "\n",
    "# 마스터 데이터 결합\n",
    "order_data = pd.merge(order_data, m_store, on='store_id', how='left')\n",
    "order_data = pd.merge(order_data, m_area, on='area_cd', how='left')\n",
    "\n",
    "# 이름 설정(수령 방법)\n",
    "order_data.loc[order_data['takeout_flag'] == 0, 'takeout_name'] = 'delivery'\n",
    "order_data.loc[order_data['takeout_flag'] == 1, 'takeout_name'] = 'takeout'\n",
    "\n",
    "# 이름 설정(주문 상태)\n",
    "order_data.loc[order_data['status'] == 0, 'status_name'] = '주문 접수'\n",
    "order_data.loc[order_data['status'] == 1, 'status_name'] = '결제 완료'\n",
    "order_data.loc[order_data['status'] == 2, 'status_name'] = '배달 완료'\n",
    "order_data.loc[order_data['status'] == 9, 'status_name'] = '주문 취소'\n",
    "\n",
    "# 파일에 저장\n",
    "output_dir = os.path.join(current_dir, 'output_data')\n",
    "os.makedirs(output_dir, exist_ok=True)\n",
    "output_file = os.path.join(output_dir, 'order_data.csv')\n",
    "order_data.to_csv(output_file, index=False)"
   ]
  },
  {
   "cell_type": "code",
   "execution_count": null,
   "metadata": {},
   "outputs": [],
   "source": []
  }
 ],
 "metadata": {
  "kernelspec": {
   "display_name": "Python 3 (ipykernel)",
   "language": "python",
   "name": "python3"
  },
  "language_info": {
   "codemirror_mode": {
    "name": "ipython",
    "version": 3
   },
   "file_extension": ".py",
   "mimetype": "text/x-python",
   "name": "python",
   "nbconvert_exporter": "python",
   "pygments_lexer": "ipython3",
   "version": "3.7.9"
  }
 },
 "nbformat": 4,
 "nbformat_minor": 4
}
