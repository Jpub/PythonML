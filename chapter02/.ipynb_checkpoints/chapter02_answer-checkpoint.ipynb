{
 "cells": [
  {
   "cell_type": "code",
   "execution_count": 1,
   "metadata": {},
   "outputs": [],
   "source": [
    "# Google Colaboratory를 사용할 때는 다음 주석을 해제하고 실행하기 바랍니다."
   ]
  },
  {
   "cell_type": "code",
   "execution_count": 2,
   "metadata": {},
   "outputs": [],
   "source": [
    "# # 다음을 실행하면 authorization code 입력을 요청받습니다.\n",
    "# # 출력된 링크를 클릭하고 Google 계정으로 로그인한 뒤,\n",
    "# # authorization code를 복사해서 붙여 넣습니다.\n",
    "# import os\n",
    "# from google.colab import drive\n",
    "# drive.mount('/content/drive')"
   ]
  },
  {
   "cell_type": "code",
   "execution_count": 3,
   "metadata": {},
   "outputs": [],
   "source": [
    "# working_dir = 'MLSys_100Knocks' #　※※ 여러분이 만든 폴더 경로가 다를 때는 다음을 변경합니다. ※※\n",
    "# path = f'/content/drive/MyDrive/{working_dir}/MainChapter/chapter02'\n",
    "# os.chdir(path)\n",
    "# ! pip install japanize-matplotlib"
   ]
  },
  {
   "cell_type": "markdown",
   "metadata": {},
   "source": [
    "# 2장 데이터를 시각화하고 분석하기 위한 테크닉 10\n",
    "\n"
   ]
  },
  {
   "cell_type": "markdown",
   "metadata": {},
   "source": [
    "### 테크닉 11: 데이터를 로딩하고 불필요한 항목을 제외하자"
   ]
  },
  {
   "cell_type": "code",
   "execution_count": 4,
   "metadata": {
    "scrolled": true
   },
   "outputs": [
    {
     "name": "stdout",
     "output_type": "stream",
     "text": [
      "703886\n"
     ]
    },
    {
     "data": {
      "text/html": [
       "<div>\n",
       "<style scoped>\n",
       "    .dataframe tbody tr th:only-of-type {\n",
       "        vertical-align: middle;\n",
       "    }\n",
       "\n",
       "    .dataframe tbody tr th {\n",
       "        vertical-align: top;\n",
       "    }\n",
       "\n",
       "    .dataframe thead th {\n",
       "        text-align: right;\n",
       "    }\n",
       "</style>\n",
       "<table border=\"1\" class=\"dataframe\">\n",
       "  <thead>\n",
       "    <tr style=\"text-align: right;\">\n",
       "      <th></th>\n",
       "      <th>order_id</th>\n",
       "      <th>store_id</th>\n",
       "      <th>customer_id</th>\n",
       "      <th>coupon_cd</th>\n",
       "      <th>sales_detail_id</th>\n",
       "      <th>order_accept_date</th>\n",
       "      <th>delivered_date</th>\n",
       "      <th>takeout_flag</th>\n",
       "      <th>total_amount</th>\n",
       "      <th>status</th>\n",
       "      <th>store_name</th>\n",
       "      <th>area_cd</th>\n",
       "      <th>wide_area</th>\n",
       "      <th>narrow_area</th>\n",
       "      <th>takeout_name</th>\n",
       "      <th>status_name</th>\n",
       "    </tr>\n",
       "  </thead>\n",
       "  <tbody>\n",
       "    <tr>\n",
       "      <th>0</th>\n",
       "      <td>34104383</td>\n",
       "      <td>11</td>\n",
       "      <td>C65806632</td>\n",
       "      <td>57</td>\n",
       "      <td>61573513</td>\n",
       "      <td>2021-04-01 11:00</td>\n",
       "      <td>2021-04-01 11:39</td>\n",
       "      <td>1</td>\n",
       "      <td>28270</td>\n",
       "      <td>1</td>\n",
       "      <td>자양로점</td>\n",
       "      <td>SL</td>\n",
       "      <td>서울</td>\n",
       "      <td>서울</td>\n",
       "      <td>takeout</td>\n",
       "      <td>결제 완료</td>\n",
       "    </tr>\n",
       "    <tr>\n",
       "      <th>1</th>\n",
       "      <td>70652318</td>\n",
       "      <td>59</td>\n",
       "      <td>C09760173</td>\n",
       "      <td>37</td>\n",
       "      <td>54068709</td>\n",
       "      <td>2021-04-01 11:00</td>\n",
       "      <td>2021-04-01 11:34</td>\n",
       "      <td>0</td>\n",
       "      <td>28270</td>\n",
       "      <td>2</td>\n",
       "      <td>가마산로2점</td>\n",
       "      <td>SL</td>\n",
       "      <td>서울</td>\n",
       "      <td>서울</td>\n",
       "      <td>delivery</td>\n",
       "      <td>배달 완료</td>\n",
       "    </tr>\n",
       "    <tr>\n",
       "      <th>2</th>\n",
       "      <td>71640388</td>\n",
       "      <td>195</td>\n",
       "      <td>C61227084</td>\n",
       "      <td>17</td>\n",
       "      <td>93678366</td>\n",
       "      <td>2021-04-01 11:00</td>\n",
       "      <td>2021-04-01 11:54</td>\n",
       "      <td>0</td>\n",
       "      <td>26470</td>\n",
       "      <td>9</td>\n",
       "      <td>화중로점</td>\n",
       "      <td>GB</td>\n",
       "      <td>경기</td>\n",
       "      <td>경기북부</td>\n",
       "      <td>delivery</td>\n",
       "      <td>주문 취소</td>\n",
       "    </tr>\n",
       "    <tr>\n",
       "      <th>3</th>\n",
       "      <td>75673365</td>\n",
       "      <td>127</td>\n",
       "      <td>C64119972</td>\n",
       "      <td>17</td>\n",
       "      <td>5287952</td>\n",
       "      <td>2021-04-01 11:00</td>\n",
       "      <td>2021-04-01 11:17</td>\n",
       "      <td>0</td>\n",
       "      <td>23080</td>\n",
       "      <td>2</td>\n",
       "      <td>분포로점</td>\n",
       "      <td>BS</td>\n",
       "      <td>부산</td>\n",
       "      <td>부산</td>\n",
       "      <td>delivery</td>\n",
       "      <td>배달 완료</td>\n",
       "    </tr>\n",
       "    <tr>\n",
       "      <th>4</th>\n",
       "      <td>9077529</td>\n",
       "      <td>174</td>\n",
       "      <td>C10231192</td>\n",
       "      <td>18</td>\n",
       "      <td>18248867</td>\n",
       "      <td>2021-04-01 11:00</td>\n",
       "      <td>2021-04-01 11:35</td>\n",
       "      <td>0</td>\n",
       "      <td>46920</td>\n",
       "      <td>2</td>\n",
       "      <td>하남산단점</td>\n",
       "      <td>GJ</td>\n",
       "      <td>광주</td>\n",
       "      <td>광주</td>\n",
       "      <td>delivery</td>\n",
       "      <td>배달 완료</td>\n",
       "    </tr>\n",
       "  </tbody>\n",
       "</table>\n",
       "</div>"
      ],
      "text/plain": [
       "   order_id  store_id customer_id  coupon_cd  sales_detail_id  \\\n",
       "0  34104383        11   C65806632         57         61573513   \n",
       "1  70652318        59   C09760173         37         54068709   \n",
       "2  71640388       195   C61227084         17         93678366   \n",
       "3  75673365       127   C64119972         17          5287952   \n",
       "4   9077529       174   C10231192         18         18248867   \n",
       "\n",
       "  order_accept_date    delivered_date  takeout_flag  total_amount  status  \\\n",
       "0  2021-04-01 11:00  2021-04-01 11:39             1         28270       1   \n",
       "1  2021-04-01 11:00  2021-04-01 11:34             0         28270       2   \n",
       "2  2021-04-01 11:00  2021-04-01 11:54             0         26470       9   \n",
       "3  2021-04-01 11:00  2021-04-01 11:17             0         23080       2   \n",
       "4  2021-04-01 11:00  2021-04-01 11:35             0         46920       2   \n",
       "\n",
       "  store_name area_cd wide_area narrow_area takeout_name status_name  \n",
       "0       자양로점      SL        서울          서울      takeout       결제 완료  \n",
       "1     가마산로2점      SL        서울          서울     delivery       배달 완료  \n",
       "2       화중로점      GB        경기        경기북부     delivery       주문 취소  \n",
       "3       분포로점      BS        부산          부산     delivery       배달 완료  \n",
       "4      하남산단점      GJ        광주          광주     delivery       배달 완료  "
      ]
     },
     "execution_count": 4,
     "metadata": {},
     "output_type": "execute_result"
    }
   ],
   "source": [
    "import pandas as pd\n",
    "\n",
    "order_data = pd.read_csv('order_data.csv')\n",
    "print(len(order_data))\n",
    "order_data.head()"
   ]
  },
  {
   "cell_type": "code",
   "execution_count": 5,
   "metadata": {},
   "outputs": [
    {
     "name": "stdout",
     "output_type": "stream",
     "text": [
      "574435\n"
     ]
    },
    {
     "data": {
      "text/plain": [
       "Index(['order_id', 'store_id', 'customer_id', 'coupon_cd', 'sales_detail_id',\n",
       "       'order_accept_date', 'delivered_date', 'takeout_flag', 'total_amount',\n",
       "       'status', 'store_name', 'area_cd', 'wide_area', 'narrow_area',\n",
       "       'takeout_name', 'status_name'],\n",
       "      dtype='object')"
      ]
     },
     "execution_count": 5,
     "metadata": {},
     "output_type": "execute_result"
    }
   ],
   "source": [
    "order_data = order_data.loc[(order_data['status'] == 1) | \n",
    "                            (order_data['status'] == 2)]\n",
    "print(len(order_data))\n",
    "order_data.columns"
   ]
  },
  {
   "cell_type": "code",
   "execution_count": 6,
   "metadata": {},
   "outputs": [
    {
     "name": "stdout",
     "output_type": "stream",
     "text": [
      "(574435, 11)\n"
     ]
    },
    {
     "data": {
      "text/html": [
       "<div>\n",
       "<style scoped>\n",
       "    .dataframe tbody tr th:only-of-type {\n",
       "        vertical-align: middle;\n",
       "    }\n",
       "\n",
       "    .dataframe tbody tr th {\n",
       "        vertical-align: top;\n",
       "    }\n",
       "\n",
       "    .dataframe thead th {\n",
       "        text-align: right;\n",
       "    }\n",
       "</style>\n",
       "<table border=\"1\" class=\"dataframe\">\n",
       "  <thead>\n",
       "    <tr style=\"text-align: right;\">\n",
       "      <th></th>\n",
       "      <th>store_id</th>\n",
       "      <th>customer_id</th>\n",
       "      <th>coupon_cd</th>\n",
       "      <th>order_accept_date</th>\n",
       "      <th>delivered_date</th>\n",
       "      <th>total_amount</th>\n",
       "      <th>store_name</th>\n",
       "      <th>wide_area</th>\n",
       "      <th>narrow_area</th>\n",
       "      <th>takeout_name</th>\n",
       "      <th>status_name</th>\n",
       "    </tr>\n",
       "  </thead>\n",
       "  <tbody>\n",
       "    <tr>\n",
       "      <th>0</th>\n",
       "      <td>11</td>\n",
       "      <td>C65806632</td>\n",
       "      <td>57</td>\n",
       "      <td>2021-04-01 11:00</td>\n",
       "      <td>2021-04-01 11:39</td>\n",
       "      <td>28270</td>\n",
       "      <td>자양로점</td>\n",
       "      <td>서울</td>\n",
       "      <td>서울</td>\n",
       "      <td>takeout</td>\n",
       "      <td>결제 완료</td>\n",
       "    </tr>\n",
       "    <tr>\n",
       "      <th>1</th>\n",
       "      <td>59</td>\n",
       "      <td>C09760173</td>\n",
       "      <td>37</td>\n",
       "      <td>2021-04-01 11:00</td>\n",
       "      <td>2021-04-01 11:34</td>\n",
       "      <td>28270</td>\n",
       "      <td>가마산로2점</td>\n",
       "      <td>서울</td>\n",
       "      <td>서울</td>\n",
       "      <td>delivery</td>\n",
       "      <td>배달 완료</td>\n",
       "    </tr>\n",
       "    <tr>\n",
       "      <th>3</th>\n",
       "      <td>127</td>\n",
       "      <td>C64119972</td>\n",
       "      <td>17</td>\n",
       "      <td>2021-04-01 11:00</td>\n",
       "      <td>2021-04-01 11:17</td>\n",
       "      <td>23080</td>\n",
       "      <td>분포로점</td>\n",
       "      <td>부산</td>\n",
       "      <td>부산</td>\n",
       "      <td>delivery</td>\n",
       "      <td>배달 완료</td>\n",
       "    </tr>\n",
       "    <tr>\n",
       "      <th>4</th>\n",
       "      <td>174</td>\n",
       "      <td>C10231192</td>\n",
       "      <td>18</td>\n",
       "      <td>2021-04-01 11:00</td>\n",
       "      <td>2021-04-01 11:35</td>\n",
       "      <td>46920</td>\n",
       "      <td>하남산단점</td>\n",
       "      <td>광주</td>\n",
       "      <td>광주</td>\n",
       "      <td>delivery</td>\n",
       "      <td>배달 완료</td>\n",
       "    </tr>\n",
       "    <tr>\n",
       "      <th>5</th>\n",
       "      <td>167</td>\n",
       "      <td>C06298599</td>\n",
       "      <td>21</td>\n",
       "      <td>2021-04-01 11:00</td>\n",
       "      <td>2021-04-01 11:59</td>\n",
       "      <td>37420</td>\n",
       "      <td>서하로점</td>\n",
       "      <td>광주</td>\n",
       "      <td>광주</td>\n",
       "      <td>takeout</td>\n",
       "      <td>결제 완료</td>\n",
       "    </tr>\n",
       "  </tbody>\n",
       "</table>\n",
       "</div>"
      ],
      "text/plain": [
       "   store_id customer_id  coupon_cd order_accept_date    delivered_date  \\\n",
       "0        11   C65806632         57  2021-04-01 11:00  2021-04-01 11:39   \n",
       "1        59   C09760173         37  2021-04-01 11:00  2021-04-01 11:34   \n",
       "3       127   C64119972         17  2021-04-01 11:00  2021-04-01 11:17   \n",
       "4       174   C10231192         18  2021-04-01 11:00  2021-04-01 11:35   \n",
       "5       167   C06298599         21  2021-04-01 11:00  2021-04-01 11:59   \n",
       "\n",
       "   total_amount store_name wide_area narrow_area takeout_name status_name  \n",
       "0         28270       자양로점        서울          서울      takeout       결제 완료  \n",
       "1         28270     가마산로2점        서울          서울     delivery       배달 완료  \n",
       "3         23080       분포로점        부산          부산     delivery       배달 완료  \n",
       "4         46920      하남산단점        광주          광주     delivery       배달 완료  \n",
       "5         37420       서하로점        광주          광주      takeout       결제 완료  "
      ]
     },
     "execution_count": 6,
     "metadata": {},
     "output_type": "execute_result"
    }
   ],
   "source": [
    "analyze_data = order_data[[\n",
    "    'store_id', 'customer_id', 'coupon_cd',\n",
    "    'order_accept_date', 'delivered_date', 'total_amount',\n",
    "    'store_name', 'wide_area', 'narrow_area',\n",
    "    'takeout_name', 'status_name']]\n",
    "print(analyze_data.shape)\n",
    "analyze_data.head()"
   ]
  },
  {
   "cell_type": "markdown",
   "metadata": {},
   "source": [
    "### 테크닉 12: 데이터 전체 이미지를 파악하자"
   ]
  },
  {
   "cell_type": "code",
   "execution_count": 7,
   "metadata": {},
   "outputs": [
    {
     "data": {
      "text/html": [
       "<div>\n",
       "<style scoped>\n",
       "    .dataframe tbody tr th:only-of-type {\n",
       "        vertical-align: middle;\n",
       "    }\n",
       "\n",
       "    .dataframe tbody tr th {\n",
       "        vertical-align: top;\n",
       "    }\n",
       "\n",
       "    .dataframe thead th {\n",
       "        text-align: right;\n",
       "    }\n",
       "</style>\n",
       "<table border=\"1\" class=\"dataframe\">\n",
       "  <thead>\n",
       "    <tr style=\"text-align: right;\">\n",
       "      <th></th>\n",
       "      <th>store_id</th>\n",
       "      <th>coupon_cd</th>\n",
       "      <th>total_amount</th>\n",
       "    </tr>\n",
       "  </thead>\n",
       "  <tbody>\n",
       "    <tr>\n",
       "      <th>count</th>\n",
       "      <td>574435.000000</td>\n",
       "      <td>574435.000000</td>\n",
       "      <td>574435.000000</td>\n",
       "    </tr>\n",
       "    <tr>\n",
       "      <th>mean</th>\n",
       "      <td>99.113691</td>\n",
       "      <td>49.474741</td>\n",
       "      <td>29601.264965</td>\n",
       "    </tr>\n",
       "    <tr>\n",
       "      <th>std</th>\n",
       "      <td>55.910285</td>\n",
       "      <td>28.890069</td>\n",
       "      <td>9543.449437</td>\n",
       "    </tr>\n",
       "    <tr>\n",
       "      <th>min</th>\n",
       "      <td>1.000000</td>\n",
       "      <td>0.000000</td>\n",
       "      <td>6980.000000</td>\n",
       "    </tr>\n",
       "    <tr>\n",
       "      <th>25%</th>\n",
       "      <td>51.000000</td>\n",
       "      <td>24.000000</td>\n",
       "      <td>23080.000000</td>\n",
       "    </tr>\n",
       "    <tr>\n",
       "      <th>50%</th>\n",
       "      <td>99.000000</td>\n",
       "      <td>49.000000</td>\n",
       "      <td>28080.000000</td>\n",
       "    </tr>\n",
       "    <tr>\n",
       "      <th>75%</th>\n",
       "      <td>147.000000</td>\n",
       "      <td>75.000000</td>\n",
       "      <td>36170.000000</td>\n",
       "    </tr>\n",
       "    <tr>\n",
       "      <th>max</th>\n",
       "      <td>196.000000</td>\n",
       "      <td>99.000000</td>\n",
       "      <td>51000.000000</td>\n",
       "    </tr>\n",
       "  </tbody>\n",
       "</table>\n",
       "</div>"
      ],
      "text/plain": [
       "            store_id      coupon_cd   total_amount\n",
       "count  574435.000000  574435.000000  574435.000000\n",
       "mean       99.113691      49.474741   29601.264965\n",
       "std        55.910285      28.890069    9543.449437\n",
       "min         1.000000       0.000000    6980.000000\n",
       "25%        51.000000      24.000000   23080.000000\n",
       "50%        99.000000      49.000000   28080.000000\n",
       "75%       147.000000      75.000000   36170.000000\n",
       "max       196.000000      99.000000   51000.000000"
      ]
     },
     "execution_count": 7,
     "metadata": {},
     "output_type": "execute_result"
    }
   ],
   "source": [
    "analyze_data.describe()"
   ]
  },
  {
   "cell_type": "code",
   "execution_count": 8,
   "metadata": {},
   "outputs": [
    {
     "data": {
      "text/plain": [
       "store_id              int64\n",
       "customer_id          object\n",
       "coupon_cd             int64\n",
       "order_accept_date    object\n",
       "delivered_date       object\n",
       "total_amount          int64\n",
       "store_name           object\n",
       "wide_area            object\n",
       "narrow_area          object\n",
       "takeout_name         object\n",
       "status_name          object\n",
       "dtype: object"
      ]
     },
     "execution_count": 8,
     "metadata": {},
     "output_type": "execute_result"
    }
   ],
   "source": [
    "analyze_data.dtypes"
   ]
  },
  {
   "cell_type": "code",
   "execution_count": 9,
   "metadata": {},
   "outputs": [
    {
     "name": "stderr",
     "output_type": "stream",
     "text": [
      "c:\\python\\python38\\lib\\site-packages\\pandas\\core\\frame.py:2960: SettingWithCopyWarning: \n",
      "A value is trying to be set on a copy of a slice from a DataFrame.\n",
      "Try using .loc[row_indexer,col_indexer] = value instead\n",
      "\n",
      "See the caveats in the documentation: https://pandas.pydata.org/pandas-docs/stable/user_guide/indexing.html#returning-a-view-versus-a-copy\n",
      "  self[k1] = value[k2]\n"
     ]
    },
    {
     "data": {
      "text/plain": [
       "store_id             object\n",
       "customer_id          object\n",
       "coupon_cd            object\n",
       "order_accept_date    object\n",
       "delivered_date       object\n",
       "total_amount          int64\n",
       "store_name           object\n",
       "wide_area            object\n",
       "narrow_area          object\n",
       "takeout_name         object\n",
       "status_name          object\n",
       "dtype: object"
      ]
     },
     "execution_count": 9,
     "metadata": {},
     "output_type": "execute_result"
    }
   ],
   "source": [
    "analyze_data[['store_id', 'coupon_cd']] = analyze_data[\n",
    "    ['store_id', 'coupon_cd']].astype(str)\n",
    "analyze_data.dtypes"
   ]
  },
  {
   "cell_type": "code",
   "execution_count": 10,
   "metadata": {},
   "outputs": [],
   "source": [
    "import warnings\n",
    "\n",
    "warnings.filterwarnings('ignore')"
   ]
  },
  {
   "cell_type": "code",
   "execution_count": 11,
   "metadata": {
    "scrolled": true
   },
   "outputs": [
    {
     "data": {
      "text/html": [
       "<div>\n",
       "<style scoped>\n",
       "    .dataframe tbody tr th:only-of-type {\n",
       "        vertical-align: middle;\n",
       "    }\n",
       "\n",
       "    .dataframe tbody tr th {\n",
       "        vertical-align: top;\n",
       "    }\n",
       "\n",
       "    .dataframe thead th {\n",
       "        text-align: right;\n",
       "    }\n",
       "</style>\n",
       "<table border=\"1\" class=\"dataframe\">\n",
       "  <thead>\n",
       "    <tr style=\"text-align: right;\">\n",
       "      <th></th>\n",
       "      <th>total_amount</th>\n",
       "    </tr>\n",
       "  </thead>\n",
       "  <tbody>\n",
       "    <tr>\n",
       "      <th>count</th>\n",
       "      <td>574435.000000</td>\n",
       "    </tr>\n",
       "    <tr>\n",
       "      <th>mean</th>\n",
       "      <td>29601.264965</td>\n",
       "    </tr>\n",
       "    <tr>\n",
       "      <th>std</th>\n",
       "      <td>9543.449437</td>\n",
       "    </tr>\n",
       "    <tr>\n",
       "      <th>min</th>\n",
       "      <td>6980.000000</td>\n",
       "    </tr>\n",
       "    <tr>\n",
       "      <th>25%</th>\n",
       "      <td>23080.000000</td>\n",
       "    </tr>\n",
       "    <tr>\n",
       "      <th>50%</th>\n",
       "      <td>28080.000000</td>\n",
       "    </tr>\n",
       "    <tr>\n",
       "      <th>75%</th>\n",
       "      <td>36170.000000</td>\n",
       "    </tr>\n",
       "    <tr>\n",
       "      <th>max</th>\n",
       "      <td>51000.000000</td>\n",
       "    </tr>\n",
       "  </tbody>\n",
       "</table>\n",
       "</div>"
      ],
      "text/plain": [
       "        total_amount\n",
       "count  574435.000000\n",
       "mean    29601.264965\n",
       "std      9543.449437\n",
       "min      6980.000000\n",
       "25%     23080.000000\n",
       "50%     28080.000000\n",
       "75%     36170.000000\n",
       "max     51000.000000"
      ]
     },
     "execution_count": 11,
     "metadata": {},
     "output_type": "execute_result"
    }
   ],
   "source": [
    "analyze_data.describe()"
   ]
  },
  {
   "cell_type": "markdown",
   "metadata": {},
   "source": [
    "### 테크닉 13: 월별 매출을 집계하자"
   ]
  },
  {
   "cell_type": "code",
   "execution_count": 12,
   "metadata": {},
   "outputs": [
    {
     "data": {
      "text/html": [
       "<div>\n",
       "<style scoped>\n",
       "    .dataframe tbody tr th:only-of-type {\n",
       "        vertical-align: middle;\n",
       "    }\n",
       "\n",
       "    .dataframe tbody tr th {\n",
       "        vertical-align: top;\n",
       "    }\n",
       "\n",
       "    .dataframe thead th {\n",
       "        text-align: right;\n",
       "    }\n",
       "</style>\n",
       "<table border=\"1\" class=\"dataframe\">\n",
       "  <thead>\n",
       "    <tr style=\"text-align: right;\">\n",
       "      <th></th>\n",
       "      <th>order_accept_date</th>\n",
       "      <th>order_accept_month</th>\n",
       "    </tr>\n",
       "  </thead>\n",
       "  <tbody>\n",
       "    <tr>\n",
       "      <th>0</th>\n",
       "      <td>2021-04-01 11:00:00</td>\n",
       "      <td>202104</td>\n",
       "    </tr>\n",
       "    <tr>\n",
       "      <th>1</th>\n",
       "      <td>2021-04-01 11:00:00</td>\n",
       "      <td>202104</td>\n",
       "    </tr>\n",
       "    <tr>\n",
       "      <th>3</th>\n",
       "      <td>2021-04-01 11:00:00</td>\n",
       "      <td>202104</td>\n",
       "    </tr>\n",
       "    <tr>\n",
       "      <th>4</th>\n",
       "      <td>2021-04-01 11:00:00</td>\n",
       "      <td>202104</td>\n",
       "    </tr>\n",
       "    <tr>\n",
       "      <th>5</th>\n",
       "      <td>2021-04-01 11:00:00</td>\n",
       "      <td>202104</td>\n",
       "    </tr>\n",
       "  </tbody>\n",
       "</table>\n",
       "</div>"
      ],
      "text/plain": [
       "    order_accept_date order_accept_month\n",
       "0 2021-04-01 11:00:00             202104\n",
       "1 2021-04-01 11:00:00             202104\n",
       "3 2021-04-01 11:00:00             202104\n",
       "4 2021-04-01 11:00:00             202104\n",
       "5 2021-04-01 11:00:00             202104"
      ]
     },
     "execution_count": 12,
     "metadata": {},
     "output_type": "execute_result"
    }
   ],
   "source": [
    "analyze_data['order_accept_date'] = pd.to_datetime(\n",
    "    analyze_data['order_accept_date'])\n",
    "analyze_data['order_accept_month'] = analyze_data[\n",
    "    'order_accept_date'].dt.strftime('%Y%m')\n",
    "analyze_data[['order_accept_date', 'order_accept_month']].head()"
   ]
  },
  {
   "cell_type": "code",
   "execution_count": 13,
   "metadata": {},
   "outputs": [
    {
     "data": {
      "text/html": [
       "<div>\n",
       "<style scoped>\n",
       "    .dataframe tbody tr th:only-of-type {\n",
       "        vertical-align: middle;\n",
       "    }\n",
       "\n",
       "    .dataframe tbody tr th {\n",
       "        vertical-align: top;\n",
       "    }\n",
       "\n",
       "    .dataframe thead th {\n",
       "        text-align: right;\n",
       "    }\n",
       "</style>\n",
       "<table border=\"1\" class=\"dataframe\">\n",
       "  <thead>\n",
       "    <tr style=\"text-align: right;\">\n",
       "      <th></th>\n",
       "      <th>delivered_date</th>\n",
       "      <th>delivered_month</th>\n",
       "    </tr>\n",
       "  </thead>\n",
       "  <tbody>\n",
       "    <tr>\n",
       "      <th>0</th>\n",
       "      <td>2021-04-01 11:39:00</td>\n",
       "      <td>202104</td>\n",
       "    </tr>\n",
       "    <tr>\n",
       "      <th>1</th>\n",
       "      <td>2021-04-01 11:34:00</td>\n",
       "      <td>202104</td>\n",
       "    </tr>\n",
       "    <tr>\n",
       "      <th>3</th>\n",
       "      <td>2021-04-01 11:17:00</td>\n",
       "      <td>202104</td>\n",
       "    </tr>\n",
       "    <tr>\n",
       "      <th>4</th>\n",
       "      <td>2021-04-01 11:35:00</td>\n",
       "      <td>202104</td>\n",
       "    </tr>\n",
       "    <tr>\n",
       "      <th>5</th>\n",
       "      <td>2021-04-01 11:59:00</td>\n",
       "      <td>202104</td>\n",
       "    </tr>\n",
       "  </tbody>\n",
       "</table>\n",
       "</div>"
      ],
      "text/plain": [
       "       delivered_date delivered_month\n",
       "0 2021-04-01 11:39:00          202104\n",
       "1 2021-04-01 11:34:00          202104\n",
       "3 2021-04-01 11:17:00          202104\n",
       "4 2021-04-01 11:35:00          202104\n",
       "5 2021-04-01 11:59:00          202104"
      ]
     },
     "execution_count": 13,
     "metadata": {},
     "output_type": "execute_result"
    }
   ],
   "source": [
    "analyze_data['delivered_date'] = pd.to_datetime(\n",
    "    analyze_data['delivered_date'])\n",
    "analyze_data['delivered_month'] = analyze_data[\n",
    "    'delivered_date'].dt.strftime('%Y%m')\n",
    "analyze_data[['delivered_date', 'delivered_month']].head()"
   ]
  },
  {
   "cell_type": "code",
   "execution_count": 14,
   "metadata": {},
   "outputs": [
    {
     "data": {
      "text/plain": [
       "store_id                      object\n",
       "customer_id                   object\n",
       "coupon_cd                     object\n",
       "order_accept_date     datetime64[ns]\n",
       "delivered_date        datetime64[ns]\n",
       "total_amount                   int64\n",
       "store_name                    object\n",
       "wide_area                     object\n",
       "narrow_area                   object\n",
       "takeout_name                  object\n",
       "status_name                   object\n",
       "order_accept_month            object\n",
       "delivered_month               object\n",
       "dtype: object"
      ]
     },
     "execution_count": 14,
     "metadata": {},
     "output_type": "execute_result"
    }
   ],
   "source": [
    "analyze_data.dtypes"
   ]
  },
  {
   "cell_type": "code",
   "execution_count": 15,
   "metadata": {
    "scrolled": true
   },
   "outputs": [
    {
     "data": {
      "text/html": [
       "<div>\n",
       "<style scoped>\n",
       "    .dataframe tbody tr th:only-of-type {\n",
       "        vertical-align: middle;\n",
       "    }\n",
       "\n",
       "    .dataframe tbody tr th {\n",
       "        vertical-align: top;\n",
       "    }\n",
       "\n",
       "    .dataframe thead tr th {\n",
       "        text-align: left;\n",
       "    }\n",
       "\n",
       "    .dataframe thead tr:last-of-type th {\n",
       "        text-align: right;\n",
       "    }\n",
       "</style>\n",
       "<table border=\"1\" class=\"dataframe\">\n",
       "  <thead>\n",
       "    <tr>\n",
       "      <th></th>\n",
       "      <th colspan=\"8\" halign=\"left\">total_amount</th>\n",
       "    </tr>\n",
       "    <tr>\n",
       "      <th></th>\n",
       "      <th>count</th>\n",
       "      <th>mean</th>\n",
       "      <th>std</th>\n",
       "      <th>min</th>\n",
       "      <th>25%</th>\n",
       "      <th>50%</th>\n",
       "      <th>75%</th>\n",
       "      <th>max</th>\n",
       "    </tr>\n",
       "    <tr>\n",
       "      <th>order_accept_month</th>\n",
       "      <th></th>\n",
       "      <th></th>\n",
       "      <th></th>\n",
       "      <th></th>\n",
       "      <th></th>\n",
       "      <th></th>\n",
       "      <th></th>\n",
       "      <th></th>\n",
       "    </tr>\n",
       "  </thead>\n",
       "  <tbody>\n",
       "    <tr>\n",
       "      <th>202104</th>\n",
       "      <td>189388.0</td>\n",
       "      <td>29594.948571</td>\n",
       "      <td>9541.173902</td>\n",
       "      <td>6980.0</td>\n",
       "      <td>23080.0</td>\n",
       "      <td>28080.0</td>\n",
       "      <td>35860.0</td>\n",
       "      <td>51000.0</td>\n",
       "    </tr>\n",
       "    <tr>\n",
       "      <th>202105</th>\n",
       "      <td>195699.0</td>\n",
       "      <td>29605.344432</td>\n",
       "      <td>9550.949075</td>\n",
       "      <td>6980.0</td>\n",
       "      <td>23080.0</td>\n",
       "      <td>28080.0</td>\n",
       "      <td>36170.0</td>\n",
       "      <td>51000.0</td>\n",
       "    </tr>\n",
       "    <tr>\n",
       "      <th>202106</th>\n",
       "      <td>189348.0</td>\n",
       "      <td>29603.366394</td>\n",
       "      <td>9538.016581</td>\n",
       "      <td>6980.0</td>\n",
       "      <td>23080.0</td>\n",
       "      <td>28080.0</td>\n",
       "      <td>36170.0</td>\n",
       "      <td>51000.0</td>\n",
       "    </tr>\n",
       "  </tbody>\n",
       "</table>\n",
       "</div>"
      ],
      "text/plain": [
       "                   total_amount                                              \\\n",
       "                          count          mean          std     min      25%   \n",
       "order_accept_month                                                            \n",
       "202104                 189388.0  29594.948571  9541.173902  6980.0  23080.0   \n",
       "202105                 195699.0  29605.344432  9550.949075  6980.0  23080.0   \n",
       "202106                 189348.0  29603.366394  9538.016581  6980.0  23080.0   \n",
       "\n",
       "                                               \n",
       "                        50%      75%      max  \n",
       "order_accept_month                             \n",
       "202104              28080.0  35860.0  51000.0  \n",
       "202105              28080.0  36170.0  51000.0  \n",
       "202106              28080.0  36170.0  51000.0  "
      ]
     },
     "execution_count": 15,
     "metadata": {},
     "output_type": "execute_result"
    }
   ],
   "source": [
    "month_data = analyze_data.groupby('order_accept_month')\n",
    "month_data.describe()"
   ]
  },
  {
   "cell_type": "code",
   "execution_count": 16,
   "metadata": {},
   "outputs": [
    {
     "data": {
      "text/html": [
       "<div>\n",
       "<style scoped>\n",
       "    .dataframe tbody tr th:only-of-type {\n",
       "        vertical-align: middle;\n",
       "    }\n",
       "\n",
       "    .dataframe tbody tr th {\n",
       "        vertical-align: top;\n",
       "    }\n",
       "\n",
       "    .dataframe thead th {\n",
       "        text-align: right;\n",
       "    }\n",
       "</style>\n",
       "<table border=\"1\" class=\"dataframe\">\n",
       "  <thead>\n",
       "    <tr style=\"text-align: right;\">\n",
       "      <th></th>\n",
       "      <th>total_amount</th>\n",
       "    </tr>\n",
       "    <tr>\n",
       "      <th>order_accept_month</th>\n",
       "      <th></th>\n",
       "    </tr>\n",
       "  </thead>\n",
       "  <tbody>\n",
       "    <tr>\n",
       "      <th>202104</th>\n",
       "      <td>5604928120</td>\n",
       "    </tr>\n",
       "    <tr>\n",
       "      <th>202105</th>\n",
       "      <td>5793736300</td>\n",
       "    </tr>\n",
       "    <tr>\n",
       "      <th>202106</th>\n",
       "      <td>5605338220</td>\n",
       "    </tr>\n",
       "  </tbody>\n",
       "</table>\n",
       "</div>"
      ],
      "text/plain": [
       "                    total_amount\n",
       "order_accept_month              \n",
       "202104                5604928120\n",
       "202105                5793736300\n",
       "202106                5605338220"
      ]
     },
     "execution_count": 16,
     "metadata": {},
     "output_type": "execute_result"
    }
   ],
   "source": [
    "month_data.sum()"
   ]
  },
  {
   "cell_type": "markdown",
   "metadata": {},
   "source": [
    "### 테크닉 14: 월별 추이를 시각화하자"
   ]
  },
  {
   "cell_type": "code",
   "execution_count": 17,
   "metadata": {},
   "outputs": [
    {
     "data": {
      "text/plain": [
       "<AxesSubplot:xlabel='order_accept_month'>"
      ]
     },
     "execution_count": 17,
     "metadata": {},
     "output_type": "execute_result"
    },
    {
     "data": {
      "image/png": "[encoded data removed]",
      "text/plain": [
       "<Figure size 432x288 with 1 Axes>"
      ]
     },
     "metadata": {
      "needs_background": "light"
     },
     "output_type": "display_data"
    }
   ],
   "source": [
    "import matplotlib.pyplot as plt\n",
    "%matplotlib inline\n",
    "\n",
    "# 한글 폰트 처리\n",
    "import os\n",
    "\n",
    "if os.name == 'nt':  # Windows\n",
    "    plt.rc('font', family='Malgun Gothic')\n",
    "elif os.name == 'posix':  # macOS\n",
    "    plt.rc('font', family='AllieGothic')\n",
    "\n",
    "plt.rc('axes', unicode_minus=False)  # minus font settings\n",
    "\n",
    "month_data.sum().plot()\n"
   ]
  },
  {
   "cell_type": "code",
   "execution_count": 18,
   "metadata": {
    "scrolled": true
   },
   "outputs": [
    {
     "data": {
      "text/plain": [
       "<AxesSubplot:xlabel='order_accept_month'>"
      ]
     },
     "execution_count": 18,
     "metadata": {},
     "output_type": "execute_result"
    },
    {
     "data": {
      "image/png": "[encoded data removed]",
      "text/plain": [
       "<Figure size 432x288 with 1 Axes>"
      ]
     },
     "metadata": {
      "needs_background": "light"
     },
     "output_type": "display_data"
    }
   ],
   "source": [
    "month_data.mean().plot()"
   ]
  },
  {
   "cell_type": "markdown",
   "metadata": {},
   "source": [
    "### 테크닉 15: 매출로부터 히스토그램을 만들자"
   ]
  },
  {
   "cell_type": "code",
   "execution_count": 19,
   "metadata": {},
   "outputs": [
    {
     "data": {
      "text/plain": [
       "(array([ 21523.,      0.,  48988., 135661., 111207.,  77584.,  54150.,\n",
       "         59831.,  34400.,  31091.]),\n",
       " array([ 6980., 11382., 15784., 20186., 24588., 28990., 33392., 37794.,\n",
       "        42196., 46598., 51000.]),\n",
       " <BarContainer object of 10 artists>)"
      ]
     },
     "execution_count": 19,
     "metadata": {},
     "output_type": "execute_result"
    },
    {
     "data": {
      "image/png": "[encoded data removed]",
      "text/plain": [
       "<Figure size 432x288 with 1 Axes>"
      ]
     },
     "metadata": {
      "needs_background": "light"
     },
     "output_type": "display_data"
    }
   ],
   "source": [
    "plt.hist(analyze_data['total_amount'])"
   ]
  },
  {
   "cell_type": "code",
   "execution_count": 20,
   "metadata": {},
   "outputs": [
    {
     "data": {
      "text/plain": [
       "(array([10723., 10800.,     0.,     0.,     0., 48988., 45766., 78345.,\n",
       "        23174., 66450., 44344., 38738., 27635., 42501., 12512., 35282.,\n",
       "        23761., 11147., 23178., 22658.,  8433.]),\n",
       " array([ 6980.        ,  9076.19047619, 11172.38095238, 13268.57142857,\n",
       "        15364.76190476, 17460.95238095, 19557.14285714, 21653.33333333,\n",
       "        23749.52380952, 25845.71428571, 27941.9047619 , 30038.0952381 ,\n",
       "        32134.28571429, 34230.47619048, 36326.66666667, 38422.85714286,\n",
       "        40519.04761905, 42615.23809524, 44711.42857143, 46807.61904762,\n",
       "        48903.80952381, 51000.        ]),\n",
       " <BarContainer object of 21 artists>)"
      ]
     },
     "execution_count": 20,
     "metadata": {},
     "output_type": "execute_result"
    },
    {
     "data": {
      "image/png": "[encoded data removed]",
      "text/plain": [
       "<Figure size 432x288 with 1 Axes>"
      ]
     },
     "metadata": {
      "needs_background": "light"
     },
     "output_type": "display_data"
    }
   ],
   "source": [
    "plt.hist(analyze_data['total_amount'], bins=21)"
   ]
  },
  {
   "cell_type": "markdown",
   "metadata": {},
   "source": [
    "### 테크닉 16: 시도군구별 매출을 집계해서 시각화하자"
   ]
  },
  {
   "cell_type": "code",
   "execution_count": 21,
   "metadata": {},
   "outputs": [
    {
     "data": {
      "text/html": [
       "<div>\n",
       "<style scoped>\n",
       "    .dataframe tbody tr th:only-of-type {\n",
       "        vertical-align: middle;\n",
       "    }\n",
       "\n",
       "    .dataframe tbody tr th {\n",
       "        vertical-align: top;\n",
       "    }\n",
       "\n",
       "    .dataframe thead th {\n",
       "        text-align: right;\n",
       "    }\n",
       "</style>\n",
       "<table border=\"1\" class=\"dataframe\">\n",
       "  <thead>\n",
       "    <tr style=\"text-align: right;\">\n",
       "      <th>narrow_area</th>\n",
       "      <th>경기남부</th>\n",
       "      <th>경기북부</th>\n",
       "      <th>광주</th>\n",
       "      <th>대전</th>\n",
       "      <th>부산</th>\n",
       "      <th>서울</th>\n",
       "      <th>세종</th>\n",
       "    </tr>\n",
       "    <tr>\n",
       "      <th>order_accept_month</th>\n",
       "      <th></th>\n",
       "      <th></th>\n",
       "      <th></th>\n",
       "      <th></th>\n",
       "      <th></th>\n",
       "      <th></th>\n",
       "      <th></th>\n",
       "    </tr>\n",
       "  </thead>\n",
       "  <tbody>\n",
       "    <tr>\n",
       "      <th>202104</th>\n",
       "      <td>29921.372816</td>\n",
       "      <td>29411.301522</td>\n",
       "      <td>29779.375703</td>\n",
       "      <td>29596.448941</td>\n",
       "      <td>29480.050738</td>\n",
       "      <td>29602.127172</td>\n",
       "      <td>29471.925249</td>\n",
       "    </tr>\n",
       "    <tr>\n",
       "      <th>202105</th>\n",
       "      <td>29984.839912</td>\n",
       "      <td>29486.277805</td>\n",
       "      <td>29763.962208</td>\n",
       "      <td>29524.168829</td>\n",
       "      <td>29501.991619</td>\n",
       "      <td>29633.118114</td>\n",
       "      <td>29415.088028</td>\n",
       "    </tr>\n",
       "    <tr>\n",
       "      <th>202106</th>\n",
       "      <td>29890.268365</td>\n",
       "      <td>29467.159844</td>\n",
       "      <td>29773.368348</td>\n",
       "      <td>29563.722047</td>\n",
       "      <td>29503.018255</td>\n",
       "      <td>29625.387817</td>\n",
       "      <td>29353.566644</td>\n",
       "    </tr>\n",
       "  </tbody>\n",
       "</table>\n",
       "</div>"
      ],
      "text/plain": [
       "narrow_area                 경기남부          경기북부            광주            대전  \\\n",
       "order_accept_month                                                           \n",
       "202104              29921.372816  29411.301522  29779.375703  29596.448941   \n",
       "202105              29984.839912  29486.277805  29763.962208  29524.168829   \n",
       "202106              29890.268365  29467.159844  29773.368348  29563.722047   \n",
       "\n",
       "narrow_area                   부산            서울            세종  \n",
       "order_accept_month                                            \n",
       "202104              29480.050738  29602.127172  29471.925249  \n",
       "202105              29501.991619  29633.118114  29415.088028  \n",
       "202106              29503.018255  29625.387817  29353.566644  "
      ]
     },
     "execution_count": 21,
     "metadata": {},
     "output_type": "execute_result"
    }
   ],
   "source": [
    "pre_data = pd.pivot_table(\n",
    "    analyze_data, index='order_accept_month',\n",
    "    columns='narrow_area', values='total_amount',\n",
    "    aggfunc='mean')\n",
    "pre_data"
   ]
  },
  {
   "cell_type": "code",
   "execution_count": 22,
   "metadata": {},
   "outputs": [
    {
     "data": {
      "text/plain": [
       "<matplotlib.legend.Legend at 0x2861f9be370>"
      ]
     },
     "execution_count": 22,
     "metadata": {},
     "output_type": "execute_result"
    },
    {
     "data": {
      "image/png": "[encoded data removed]",
      "text/plain": [
       "<Figure size 432x288 with 1 Axes>"
      ]
     },
     "metadata": {
      "needs_background": "light"
     },
     "output_type": "display_data"
    }
   ],
   "source": [
    "plt.plot(list(pre_data.index), pre_data['서울'], label='서울')\n",
    "plt.plot(list(pre_data.index), pre_data['부산'], label='부산')\n",
    "plt.plot(list(pre_data.index), pre_data['대전'], label='대전')\n",
    "plt.plot(list(pre_data.index), pre_data['광주'], label='광주')\n",
    "plt.plot(list(pre_data.index), pre_data['세종'], label='세종')\n",
    "plt.plot(list(pre_data.index), pre_data['경기남부'], label='경기남부')\n",
    "plt.plot(list(pre_data.index), pre_data['경기북부'], label='경기북부')\n",
    "plt.legend()"
   ]
  },
  {
   "cell_type": "markdown",
   "metadata": {},
   "source": [
    "### 테크닉 17: 클러스터링을 위해 데이터를 가공하자"
   ]
  },
  {
   "cell_type": "code",
   "execution_count": 23,
   "metadata": {},
   "outputs": [
    {
     "name": "stdout",
     "output_type": "stream",
     "text": [
      "196\n"
     ]
    },
    {
     "data": {
      "text/html": [
       "<div>\n",
       "<style scoped>\n",
       "    .dataframe tbody tr th:only-of-type {\n",
       "        vertical-align: middle;\n",
       "    }\n",
       "\n",
       "    .dataframe tbody tr th {\n",
       "        vertical-align: top;\n",
       "    }\n",
       "\n",
       "    .dataframe thead th {\n",
       "        text-align: right;\n",
       "    }\n",
       "</style>\n",
       "<table border=\"1\" class=\"dataframe\">\n",
       "  <thead>\n",
       "    <tr style=\"text-align: right;\">\n",
       "      <th></th>\n",
       "      <th>size</th>\n",
       "      <th>mean</th>\n",
       "      <th>median</th>\n",
       "      <th>max</th>\n",
       "      <th>min</th>\n",
       "    </tr>\n",
       "  </thead>\n",
       "  <tbody>\n",
       "    <tr>\n",
       "      <th>0</th>\n",
       "      <td>2879</td>\n",
       "      <td>31295.953456</td>\n",
       "      <td>30500</td>\n",
       "      <td>51000</td>\n",
       "      <td>18570</td>\n",
       "    </tr>\n",
       "    <tr>\n",
       "      <th>1</th>\n",
       "      <td>2290</td>\n",
       "      <td>29912.462882</td>\n",
       "      <td>27320</td>\n",
       "      <td>51000</td>\n",
       "      <td>6980</td>\n",
       "    </tr>\n",
       "    <tr>\n",
       "      <th>2</th>\n",
       "      <td>3776</td>\n",
       "      <td>29462.039195</td>\n",
       "      <td>28080</td>\n",
       "      <td>51000</td>\n",
       "      <td>6980</td>\n",
       "    </tr>\n",
       "    <tr>\n",
       "      <th>3</th>\n",
       "      <td>1743</td>\n",
       "      <td>30743.878371</td>\n",
       "      <td>28770</td>\n",
       "      <td>47440</td>\n",
       "      <td>18990</td>\n",
       "    </tr>\n",
       "    <tr>\n",
       "      <th>4</th>\n",
       "      <td>2758</td>\n",
       "      <td>28467.396664</td>\n",
       "      <td>27910</td>\n",
       "      <td>47440</td>\n",
       "      <td>6980</td>\n",
       "    </tr>\n",
       "  </tbody>\n",
       "</table>\n",
       "</div>"
      ],
      "text/plain": [
       "   size          mean  median    max    min\n",
       "0  2879  31295.953456   30500  51000  18570\n",
       "1  2290  29912.462882   27320  51000   6980\n",
       "2  3776  29462.039195   28080  51000   6980\n",
       "3  1743  30743.878371   28770  47440  18990\n",
       "4  2758  28467.396664   27910  47440   6980"
      ]
     },
     "execution_count": 23,
     "metadata": {},
     "output_type": "execute_result"
    }
   ],
   "source": [
    "store_clustering = analyze_data.groupby('store_id').agg(\n",
    "    ['size', 'mean', 'median', 'max', 'min'])['total_amount']\n",
    "store_clustering.reset_index(inplace=True, drop=True)\n",
    "print(len(store_clustering))\n",
    "store_clustering.head()"
   ]
  },
  {
   "cell_type": "code",
   "execution_count": 24,
   "metadata": {},
   "outputs": [
    {
     "data": {
      "image/png": "[encoded data removed]",
      "text/plain": [
       "<Figure size 432x432 with 3 Axes>"
      ]
     },
     "metadata": {
      "needs_background": "light"
     },
     "output_type": "display_data"
    }
   ],
   "source": [
    "import seaborn as sns\n",
    "hexbin = sns.jointplot(x='mean', y='size', data=store_clustering, kind='hex')"
   ]
  },
  {
   "cell_type": "markdown",
   "metadata": {},
   "source": [
    "### 테크닉 18: 클러스터링을 이용해 매장을 그룹화하자"
   ]
  },
  {
   "cell_type": "code",
   "execution_count": 25,
   "metadata": {},
   "outputs": [
    {
     "name": "stdout",
     "output_type": "stream",
     "text": [
      "[2 0 3 1]\n"
     ]
    },
    {
     "data": {
      "text/html": [
       "<div>\n",
       "<style scoped>\n",
       "    .dataframe tbody tr th:only-of-type {\n",
       "        vertical-align: middle;\n",
       "    }\n",
       "\n",
       "    .dataframe tbody tr th {\n",
       "        vertical-align: top;\n",
       "    }\n",
       "\n",
       "    .dataframe thead th {\n",
       "        text-align: right;\n",
       "    }\n",
       "</style>\n",
       "<table border=\"1\" class=\"dataframe\">\n",
       "  <thead>\n",
       "    <tr style=\"text-align: right;\">\n",
       "      <th></th>\n",
       "      <th>size</th>\n",
       "      <th>mean</th>\n",
       "      <th>median</th>\n",
       "      <th>max</th>\n",
       "      <th>min</th>\n",
       "      <th>cluster</th>\n",
       "    </tr>\n",
       "  </thead>\n",
       "  <tbody>\n",
       "    <tr>\n",
       "      <th>0</th>\n",
       "      <td>2879</td>\n",
       "      <td>31295.953456</td>\n",
       "      <td>30500</td>\n",
       "      <td>51000</td>\n",
       "      <td>18570</td>\n",
       "      <td>2</td>\n",
       "    </tr>\n",
       "    <tr>\n",
       "      <th>1</th>\n",
       "      <td>2290</td>\n",
       "      <td>29912.462882</td>\n",
       "      <td>27320</td>\n",
       "      <td>51000</td>\n",
       "      <td>6980</td>\n",
       "      <td>0</td>\n",
       "    </tr>\n",
       "    <tr>\n",
       "      <th>2</th>\n",
       "      <td>3776</td>\n",
       "      <td>29462.039195</td>\n",
       "      <td>28080</td>\n",
       "      <td>51000</td>\n",
       "      <td>6980</td>\n",
       "      <td>0</td>\n",
       "    </tr>\n",
       "    <tr>\n",
       "      <th>3</th>\n",
       "      <td>1743</td>\n",
       "      <td>30743.878371</td>\n",
       "      <td>28770</td>\n",
       "      <td>47440</td>\n",
       "      <td>18990</td>\n",
       "      <td>2</td>\n",
       "    </tr>\n",
       "    <tr>\n",
       "      <th>4</th>\n",
       "      <td>2758</td>\n",
       "      <td>28467.396664</td>\n",
       "      <td>27910</td>\n",
       "      <td>47440</td>\n",
       "      <td>6980</td>\n",
       "      <td>3</td>\n",
       "    </tr>\n",
       "  </tbody>\n",
       "</table>\n",
       "</div>"
      ],
      "text/plain": [
       "   size          mean  median    max    min  cluster\n",
       "0  2879  31295.953456   30500  51000  18570        2\n",
       "1  2290  29912.462882   27320  51000   6980        0\n",
       "2  3776  29462.039195   28080  51000   6980        0\n",
       "3  1743  30743.878371   28770  47440  18990        2\n",
       "4  2758  28467.396664   27910  47440   6980        3"
      ]
     },
     "execution_count": 25,
     "metadata": {},
     "output_type": "execute_result"
    }
   ],
   "source": [
    "from sklearn.cluster import KMeans\n",
    "from sklearn.preprocessing import StandardScaler\n",
    "sc = StandardScaler()\n",
    "store_clustering_sc = sc.fit_transform(store_clustering)\n",
    "\n",
    "kmeans = KMeans(n_clusters=4, random_state=0)\n",
    "clusters = kmeans.fit(store_clustering_sc)\n",
    "store_clustering['cluster'] = clusters.labels_\n",
    "print(store_clustering['cluster'].unique())\n",
    "store_clustering.head()"
   ]
  },
  {
   "cell_type": "markdown",
   "metadata": {},
   "source": [
    "### 테크닉 19: 그룹의 경향을 분석하자"
   ]
  },
  {
   "cell_type": "code",
   "execution_count": 26,
   "metadata": {},
   "outputs": [
    {
     "data": {
      "text/html": [
       "<div>\n",
       "<style scoped>\n",
       "    .dataframe tbody tr th:only-of-type {\n",
       "        vertical-align: middle;\n",
       "    }\n",
       "\n",
       "    .dataframe tbody tr th {\n",
       "        vertical-align: top;\n",
       "    }\n",
       "\n",
       "    .dataframe thead th {\n",
       "        text-align: right;\n",
       "    }\n",
       "</style>\n",
       "<table border=\"1\" class=\"dataframe\">\n",
       "  <thead>\n",
       "    <tr style=\"text-align: right;\">\n",
       "      <th></th>\n",
       "      <th>월 건수</th>\n",
       "      <th>월 평균값</th>\n",
       "      <th>월 중앙값</th>\n",
       "      <th>월 최댓값</th>\n",
       "      <th>월 최솟값</th>\n",
       "    </tr>\n",
       "    <tr>\n",
       "      <th>cluster</th>\n",
       "      <th></th>\n",
       "      <th></th>\n",
       "      <th></th>\n",
       "      <th></th>\n",
       "      <th></th>\n",
       "    </tr>\n",
       "  </thead>\n",
       "  <tbody>\n",
       "    <tr>\n",
       "      <th>0</th>\n",
       "      <td>90</td>\n",
       "      <td>90</td>\n",
       "      <td>90</td>\n",
       "      <td>90</td>\n",
       "      <td>90</td>\n",
       "    </tr>\n",
       "    <tr>\n",
       "      <th>1</th>\n",
       "      <td>24</td>\n",
       "      <td>24</td>\n",
       "      <td>24</td>\n",
       "      <td>24</td>\n",
       "      <td>24</td>\n",
       "    </tr>\n",
       "    <tr>\n",
       "      <th>2</th>\n",
       "      <td>14</td>\n",
       "      <td>14</td>\n",
       "      <td>14</td>\n",
       "      <td>14</td>\n",
       "      <td>14</td>\n",
       "    </tr>\n",
       "    <tr>\n",
       "      <th>3</th>\n",
       "      <td>68</td>\n",
       "      <td>68</td>\n",
       "      <td>68</td>\n",
       "      <td>68</td>\n",
       "      <td>68</td>\n",
       "    </tr>\n",
       "  </tbody>\n",
       "</table>\n",
       "</div>"
      ],
      "text/plain": [
       "         월 건수  월 평균값  월 중앙값  월 최댓값  월 최솟값\n",
       "cluster                                  \n",
       "0          90     90     90     90     90\n",
       "1          24     24     24     24     24\n",
       "2          14     14     14     14     14\n",
       "3          68     68     68     68     68"
      ]
     },
     "execution_count": 26,
     "metadata": {},
     "output_type": "execute_result"
    }
   ],
   "source": [
    "store_clustering.columns = ['월 건수', '월 평균값', '월 중앙값', \n",
    "                            '월 최댓값', '월 최솟값', 'cluster']\n",
    "store_clustering.groupby('cluster').count()"
   ]
  },
  {
   "cell_type": "code",
   "execution_count": 27,
   "metadata": {},
   "outputs": [
    {
     "data": {
      "text/html": [
       "<div>\n",
       "<style scoped>\n",
       "    .dataframe tbody tr th:only-of-type {\n",
       "        vertical-align: middle;\n",
       "    }\n",
       "\n",
       "    .dataframe tbody tr th {\n",
       "        vertical-align: top;\n",
       "    }\n",
       "\n",
       "    .dataframe thead th {\n",
       "        text-align: right;\n",
       "    }\n",
       "</style>\n",
       "<table border=\"1\" class=\"dataframe\">\n",
       "  <thead>\n",
       "    <tr style=\"text-align: right;\">\n",
       "      <th></th>\n",
       "      <th>월 건수</th>\n",
       "      <th>월 평균값</th>\n",
       "      <th>월 중앙값</th>\n",
       "      <th>월 최댓값</th>\n",
       "      <th>월 최솟값</th>\n",
       "    </tr>\n",
       "    <tr>\n",
       "      <th>cluster</th>\n",
       "      <th></th>\n",
       "      <th></th>\n",
       "      <th></th>\n",
       "      <th></th>\n",
       "      <th></th>\n",
       "    </tr>\n",
       "  </thead>\n",
       "  <tbody>\n",
       "    <tr>\n",
       "      <th>0</th>\n",
       "      <td>3264.355556</td>\n",
       "      <td>29677.830211</td>\n",
       "      <td>27958.111111</td>\n",
       "      <td>50802.222222</td>\n",
       "      <td>7408.444444</td>\n",
       "    </tr>\n",
       "    <tr>\n",
       "      <th>1</th>\n",
       "      <td>2801.208333</td>\n",
       "      <td>30637.966387</td>\n",
       "      <td>30085.416667</td>\n",
       "      <td>50236.666667</td>\n",
       "      <td>7582.500000</td>\n",
       "    </tr>\n",
       "    <tr>\n",
       "      <th>2</th>\n",
       "      <td>2513.642857</td>\n",
       "      <td>30717.437262</td>\n",
       "      <td>28804.285714</td>\n",
       "      <td>48965.714286</td>\n",
       "      <td>18820.714286</td>\n",
       "    </tr>\n",
       "    <tr>\n",
       "      <th>3</th>\n",
       "      <td>2620.926471</td>\n",
       "      <td>28858.217925</td>\n",
       "      <td>27291.029412</td>\n",
       "      <td>47512.500000</td>\n",
       "      <td>7440.735294</td>\n",
       "    </tr>\n",
       "  </tbody>\n",
       "</table>\n",
       "</div>"
      ],
      "text/plain": [
       "                월 건수         월 평균값         월 중앙값         월 최댓값         월 최솟값\n",
       "cluster                                                                     \n",
       "0        3264.355556  29677.830211  27958.111111  50802.222222   7408.444444\n",
       "1        2801.208333  30637.966387  30085.416667  50236.666667   7582.500000\n",
       "2        2513.642857  30717.437262  28804.285714  48965.714286  18820.714286\n",
       "3        2620.926471  28858.217925  27291.029412  47512.500000   7440.735294"
      ]
     },
     "execution_count": 27,
     "metadata": {},
     "output_type": "execute_result"
    }
   ],
   "source": [
    "store_clustering.groupby('cluster').mean()"
   ]
  },
  {
   "cell_type": "markdown",
   "metadata": {},
   "source": [
    "### 테크닉 20: 클러스터링 결과를 t-SNE로 시각화하자"
   ]
  },
  {
   "cell_type": "code",
   "execution_count": 28,
   "metadata": {},
   "outputs": [
    {
     "data": {
      "text/html": [
       "<div>\n",
       "<style scoped>\n",
       "    .dataframe tbody tr th:only-of-type {\n",
       "        vertical-align: middle;\n",
       "    }\n",
       "\n",
       "    .dataframe tbody tr th {\n",
       "        vertical-align: top;\n",
       "    }\n",
       "\n",
       "    .dataframe thead th {\n",
       "        text-align: right;\n",
       "    }\n",
       "</style>\n",
       "<table border=\"1\" class=\"dataframe\">\n",
       "  <thead>\n",
       "    <tr style=\"text-align: right;\">\n",
       "      <th></th>\n",
       "      <th>axis_0</th>\n",
       "      <th>axis_1</th>\n",
       "      <th>cluster</th>\n",
       "    </tr>\n",
       "  </thead>\n",
       "  <tbody>\n",
       "    <tr>\n",
       "      <th>0</th>\n",
       "      <td>1.637268</td>\n",
       "      <td>-1.748761</td>\n",
       "      <td>2</td>\n",
       "    </tr>\n",
       "    <tr>\n",
       "      <th>1</th>\n",
       "      <td>-1.059481</td>\n",
       "      <td>7.679613</td>\n",
       "      <td>0</td>\n",
       "    </tr>\n",
       "    <tr>\n",
       "      <th>2</th>\n",
       "      <td>-11.750683</td>\n",
       "      <td>10.733142</td>\n",
       "      <td>0</td>\n",
       "    </tr>\n",
       "    <tr>\n",
       "      <th>3</th>\n",
       "      <td>3.146960</td>\n",
       "      <td>-3.952779</td>\n",
       "      <td>2</td>\n",
       "    </tr>\n",
       "    <tr>\n",
       "      <th>4</th>\n",
       "      <td>11.892724</td>\n",
       "      <td>-12.171219</td>\n",
       "      <td>3</td>\n",
       "    </tr>\n",
       "  </tbody>\n",
       "</table>\n",
       "</div>"
      ],
      "text/plain": [
       "      axis_0     axis_1  cluster\n",
       "0   1.637268  -1.748761        2\n",
       "1  -1.059481   7.679613        0\n",
       "2 -11.750683  10.733142        0\n",
       "3   3.146960  -3.952779        2\n",
       "4  11.892724 -12.171219        3"
      ]
     },
     "execution_count": 28,
     "metadata": {},
     "output_type": "execute_result"
    }
   ],
   "source": [
    "from sklearn.manifold import TSNE\n",
    "tsne = TSNE(n_components=2, random_state=0)\n",
    "x = tsne.fit_transform(store_clustering_sc)\n",
    "tsne_df = pd.DataFrame(x)\n",
    "tsne_df['cluster'] = store_clustering['cluster']\n",
    "tsne_df.columns = ['axis_0', 'axis_1', 'cluster']\n",
    "tsne_df.head()"
   ]
  },
  {
   "cell_type": "code",
   "execution_count": 29,
   "metadata": {},
   "outputs": [
    {
     "data": {
      "image/png": "[encoded data removed]",
      "text/plain": [
       "<Figure size 432x288 with 1 Axes>"
      ]
     },
     "metadata": {
      "needs_background": "light"
     },
     "output_type": "display_data"
    }
   ],
   "source": [
    "tsne_graph = sns.scatterplot(x='axis_0', y='axis_1', hue='cluster', data=tsne_df)"
   ]
  },
  {
   "cell_type": "code",
   "execution_count": null,
   "metadata": {},
   "outputs": [],
   "source": []
  }
 ],
 "metadata": {
  "kernelspec": {
   "display_name": "Python 3 (ipykernel)",
   "language": "python",
   "name": "python3"
  },
  "language_info": {
   "codemirror_mode": {
    "name": "ipython",
    "version": 3
   },
   "file_extension": ".py",
   "mimetype": "text/x-python",
   "name": "python",
   "nbconvert_exporter": "python",
   "pygments_lexer": "ipython3",
   "version": "3.8.10"
  }
 },
 "nbformat": 4,
 "nbformat_minor": 4
}
