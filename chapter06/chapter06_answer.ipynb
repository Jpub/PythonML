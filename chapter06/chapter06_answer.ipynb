{
 "cells": [
  {
   "cell_type": "code",
   "execution_count": null,
   "metadata": {},
   "outputs": [],
   "source": [
    "# Google Colaboratory를 사용할 때는 다음 주석을 해제하고 실행하기 바랍니다."
   ]
  },
  {
   "cell_type": "code",
   "execution_count": null,
   "metadata": {},
   "outputs": [],
   "source": [
    "# # 다음을 실행하면 authorization code 입력을 요청받습니다.\n",
    "# # 출력된 링크를 클릭하고 Google 계정으로 로그인한 뒤,\n",
    "# # authorization code를 복사해서 붙여 넣습니다.\n",
    "# import os\n",
    "# from google.colab import drive\n",
    "# drive.mount('/content/drive')"
   ]
  },
  {
   "cell_type": "code",
   "execution_count": null,
   "metadata": {},
   "outputs": [],
   "source": [
    "# working_dir = 'MLSys_100Knocks' #　※※ 여러분이 만든 폴더 경로가 다를 때는 다음을 변경합니다. ※※\n",
    "# path = f'/content/drive/MyDrive/{working_dir}/MainChapter/chapter06'\n",
    "# os.chdir(path)"
   ]
  },
  {
   "cell_type": "code",
   "execution_count": null,
   "metadata": {},
   "outputs": [],
   "source": [
    "# Jupyter notebook ipywidgets 활성화\n",
    "# for jupyter notebook (virtualenv 사용 시)\n",
    "#!jupyter nbextension enable --user --py widgetsnbextension\n",
    "\n",
    "# for jupyter lab\n",
    "#!jupyter labextension install @jupyter-widgets/jupyterlab-manager"
   ]
  },
  {
   "cell_type": "markdown",
   "metadata": {},
   "source": [
    "# 6장 머신러닝용 데이터 가공을 위한 테크닉 10"
   ]
  },
  {
   "cell_type": "markdown",
   "metadata": {},
   "source": [
    "### 테크닉 51: 데이터 가공을 위한 밑준비를 하자"
   ]
  },
  {
   "cell_type": "code",
   "execution_count": null,
   "metadata": {},
   "outputs": [],
   "source": [
    "import os\n",
    "\n",
    "data_dir = 'data'\n",
    "input_dir = os.path.join(data_dir, '0_input')\n",
    "output_dir = os.path.join(data_dir, '1_output')\n",
    "master_dir = os.path.join(data_dir, '99_master')\n",
    "os.makedirs(input_dir, exist_ok=True)\n",
    "os.makedirs(output_dir, exist_ok=True)\n",
    "os.makedirs(master_dir, exist_ok=True)"
   ]
  },
  {
   "cell_type": "markdown",
   "metadata": {},
   "source": [
    "#####  **반드시 데이터를 해당 폴더에 배치합니다**"
   ]
  },
  {
   "cell_type": "markdown",
   "metadata": {},
   "source": [
    "#### Mac 또는 Google Colaborator 등, 환경에 따라서는 파일을 얻는 순서가 연월순이 되지 않을 수 있습니다.\n",
    "#### 그럴 때는 `tbl_order_paths = sorted(tbl_order_paths)`를 추가하기 바랍니다."
   ]
  },
  {
   "cell_type": "code",
   "execution_count": null,
   "metadata": {},
   "outputs": [],
   "source": [
    "import glob\n",
    "\n",
    "tbl_order_file = os.path.join(input_dir, 'tbl_order_*.csv')\n",
    "tbl_order_paths = glob.glob(tbl_order_file)\n",
    "tbl_order_paths"
   ]
  },
  {
   "cell_type": "markdown",
   "metadata": {},
   "source": [
    "### 테크닉 52: 데이터를 로딩하고 데이터 가공 방향성을 검토하자"
   ]
  },
  {
   "cell_type": "code",
   "execution_count": null,
   "metadata": {},
   "outputs": [],
   "source": [
    "import pandas as pd\n",
    "\n",
    "m_area_file = 'm_area.csv'\n",
    "m_store_file = 'm_store.csv'\n",
    "m_area = pd.read_csv(os.path.join(master_dir, m_area_file))\n",
    "m_store = pd.read_csv(os.path.join(master_dir, m_store_file))\n",
    "m_area.head(3)"
   ]
  },
  {
   "cell_type": "code",
   "execution_count": null,
   "metadata": {},
   "outputs": [],
   "source": [
    "tbl_order_path = tbl_order_paths[0]\n",
    "print(f'데이터 로딩: {tbl_order_path}')\n",
    "order_data = pd.read_csv(tbl_order_path)\n",
    "print(f'데이터 건수: {len(order_data)}')\n",
    "order_data.head(3)"
   ]
  },
  {
   "cell_type": "markdown",
   "metadata": {},
   "source": [
    "### 테크닉 53: 1개월분 데이터로 기본적인 가공을 하자"
   ]
  },
  {
   "cell_type": "code",
   "execution_count": null,
   "metadata": {},
   "outputs": [],
   "source": [
    "order_data = order_data.loc[order_data['store_id'] != 999]\n",
    "\n",
    "order_data = pd.merge(order_data, m_store, on='store_id', how='left')\n",
    "order_data = pd.merge(order_data, m_area, on='area_cd', how='left')\n",
    "\n",
    "order_data.loc[order_data['takeout_flag'] == 0, 'takeout_name'] = 'delivery'\n",
    "order_data.loc[order_data['takeout_flag'] == 1, 'takeout_name'] = 'takeout'\n",
    "\n",
    "order_data.loc[order_data['status'] == 0, 'status_name'] = '주문 접수'\n",
    "order_data.loc[order_data['status'] == 1, 'status_name'] = '계산 완료'\n",
    "order_data.loc[order_data['status'] == 2, 'status_name'] = '배달 완료'\n",
    "order_data.loc[order_data['status'] == 9, 'status_name'] = '주문 취소'\n",
    "order_data.head(3)"
   ]
  },
  {
   "cell_type": "code",
   "execution_count": null,
   "metadata": {},
   "outputs": [],
   "source": [
    "order_data.isna().sum()"
   ]
  },
  {
   "cell_type": "markdown",
   "metadata": {},
   "source": [
    "### 테크닉 54: 머신러닝용 변수를 만들자"
   ]
  },
  {
   "cell_type": "code",
   "execution_count": null,
   "metadata": {
    "scrolled": true
   },
   "outputs": [],
   "source": [
    "def calc_delta(t):\n",
    "    t1, t2 = t\n",
    "    delta = t2 - t1\n",
    "    return delta.total_seconds() / 60\n",
    "\n",
    "\n",
    "order_data.loc[:, 'order_accept_datetime'] = \\\n",
    "    pd.to_datetime(order_data['order_accept_date'])\n",
    "order_data.loc[:, 'delivered_datetime'] = \\\n",
    "    pd.to_datetime(order_data['delivered_date'])\n",
    "order_data.loc[:, 'delta'] = order_data[[\n",
    "    'order_accept_datetime', 'delivered_datetime']].apply(calc_delta, axis=1)\n",
    "order_data.head(3)"
   ]
  },
  {
   "cell_type": "code",
   "execution_count": null,
   "metadata": {},
   "outputs": [],
   "source": [
    "order_data.loc[:, 'order_accept_hour'] = \\\n",
    "    order_data['order_accept_datetime'].dt.hour\n",
    "order_data.loc[:, 'order_accept_weekday'] = \\\n",
    "    order_data['order_accept_datetime'].dt.weekday\n",
    "order_data.loc[order_data['order_accept_weekday'] >= 5,\n",
    "               'weekday_info'] = '휴일'\n",
    "order_data.loc[order_data['order_accept_weekday'] < 5,\n",
    "               'weekday_info'] = '평일'\n",
    "order_data.head(3)"
   ]
  },
  {
   "cell_type": "markdown",
   "metadata": {},
   "source": [
    "### 테크닉 55: 매장 단위로 집계해서 변수를 만들자"
   ]
  },
  {
   "cell_type": "code",
   "execution_count": null,
   "metadata": {},
   "outputs": [],
   "source": [
    "store_data = order_data.groupby(['store_name']).count()[['order_id']]\n",
    "store_f = order_data.loc[\n",
    "    (order_data['status_name'] == \"배달 완료\") |\n",
    "    (order_data['status_name'] == \"결제 완료\")\n",
    "    ].groupby(['store_name']).count()[['order_id']]\n",
    "store_c = order_data.loc[\n",
    "    order_data['status_name'] == \"주문 취소\"\n",
    "    ].groupby(['store_name']).count()[['order_id']]\n",
    "store_d = order_data.loc[\n",
    "    order_data['takeout_name'] == \"delivery\"\n",
    "    ].groupby(['store_name']).count()[['order_id']]\n",
    "store_t = order_data.loc[\n",
    "    order_data['takeout_name'] == \"takeout\"\n",
    "    ].groupby(['store_name']).count()[['order_id']]\n",
    "\n",
    "store_weekday = order_data.loc[\n",
    "    order_data['weekday_info'] == \"평일\"\n",
    "    ].groupby(['store_name']).count()[['order_id']]\n",
    "store_weekend = order_data.loc[\n",
    "    order_data['weekday_info'] == \"휴일\"\n",
    "    ].groupby(['store_name']).count()[['order_id']]"
   ]
  },
  {
   "cell_type": "code",
   "execution_count": null,
   "metadata": {},
   "outputs": [],
   "source": [
    "times = order_data['order_accept_hour'].unique()\n",
    "store_time = []\n",
    "for time in times:\n",
    "    time_tmp = order_data.loc[\n",
    "        order_data['order_accept_hour'] == time\n",
    "        ].groupby(['store_name']).count()[['order_id']]\n",
    "    time_tmp.columns = [f'order_time_{time}']\n",
    "    store_time.append(time_tmp)\n",
    "store_time = pd.concat(store_time, axis=1)\n",
    "store_time.head(3)"
   ]
  },
  {
   "cell_type": "code",
   "execution_count": null,
   "metadata": {},
   "outputs": [],
   "source": [
    "store_delta = order_data.loc[\n",
    "    order_data['status_name'] != \"주문 취소\"\n",
    "    ].groupby(['store_name']).mean()[['delta']]\n",
    "store_data.columns = ['order']\n",
    "store_f.columns = ['order_fin']\n",
    "store_c.columns = ['order_cancel']\n",
    "store_d.columns = ['order_delivery']\n",
    "store_t.columns = ['order_takeout']\n",
    "store_weekday.columns = ['order_weekday']\n",
    "store_weekend.columns = ['order_weekend']\n",
    "store_delta.columns = ['delta_avg']\n",
    "store_data = pd.concat([\n",
    "    store_data, store_f, store_c, store_d, store_t,\n",
    "    store_weekday, store_weekend, store_time, store_delta], axis=1)\n",
    "store_data.head(3)"
   ]
  },
  {
   "cell_type": "markdown",
   "metadata": {},
   "source": [
    "### 테크닉 56: 데이터 가공과 매장별 집계를 함수로 실행하자"
   ]
  },
  {
   "cell_type": "code",
   "execution_count": null,
   "metadata": {},
   "outputs": [],
   "source": [
    "def data_processing(order_data):\n",
    "    order_data = order_data.loc[order_data['store_id'] != 999]\n",
    "    order_data = pd.merge(order_data, m_store, on='store_id', how='left')\n",
    "    order_data = pd.merge(order_data, m_area, on='area_cd', how='left')\n",
    "    order_data.loc[order_data['takeout_flag'] == 0, 'takeout_name'] = 'delivery'\n",
    "    order_data.loc[order_data['takeout_flag'] == 1, 'takeout_name'] = 'takeout'\n",
    "    order_data.loc[order_data['status'] == 0, 'status_name'] = '주문 접수'\n",
    "    order_data.loc[order_data['status'] == 1, 'status_name'] = '결제 완료'\n",
    "    order_data.loc[order_data['status'] == 2, 'status_name'] = '배달 완료'\n",
    "    order_data.loc[order_data['status'] == 9, 'status_name'] = '주문 취소'\n",
    "\n",
    "    order_data.loc[:, 'order_accept_datetime'] = pd.to_datetime(\n",
    "        order_data['order_accept_date'])\n",
    "    order_data.loc[:, 'delivered_datetime'] = pd.to_datetime(\n",
    "        order_data['delivered_date'])\n",
    "    order_data.loc[:, 'delta'] = order_data[\n",
    "        ['order_accept_datetime', 'delivered_datetime']\n",
    "    ].apply(calc_delta, axis=1)\n",
    "    order_data.loc[:, 'order_accept_hour'] = order_data[\n",
    "        'order_accept_datetime'].dt.hour\n",
    "    order_data.loc[:, 'order_accept_weekday'] = order_data[\n",
    "        'order_accept_datetime'].dt.weekday\n",
    "    order_data.loc[order_data['order_accept_weekday'] >= 5,\n",
    "                   'weekday_info'] = '휴일'\n",
    "    order_data.loc[order_data['order_accept_weekday'] < 5,\n",
    "                   'weekday_info'] = '평일'\n",
    "\n",
    "    store_data = order_data.groupby(['store_name']).count()[['order_id']]\n",
    "    store_f = order_data.loc[\n",
    "        (order_data['status_name'] == \"배달 완료\") |\n",
    "        (order_data['status_name'] == \"결제 완료\")\n",
    "        ].groupby(['store_name']).count()[['order_id']]\n",
    "    store_c = order_data.loc[\n",
    "        order_data['status_name'] == \"주문 취소\"\n",
    "        ].groupby(['store_name']).count()[['order_id']]\n",
    "    store_d = order_data.loc[\n",
    "        order_data['takeout_name'] == \"delivery\"\n",
    "        ].groupby(['store_name']).count()[['order_id']]\n",
    "    store_t = order_data.loc[\n",
    "        order_data['takeout_name'] == \"takeout\"\n",
    "        ].groupby(['store_name']).count()[['order_id']]\n",
    "    store_weekday = order_data.loc[\n",
    "        order_data['weekday_info'] == \"평일\"\n",
    "        ].groupby(['store_name']).count()[['order_id']]\n",
    "    store_weekend = order_data.loc[\n",
    "        order_data['weekday_info'] == \"휴일\"\n",
    "        ].groupby(['store_name']).count()[['order_id']]\n",
    "    times = order_data['order_accept_hour'].unique()\n",
    "    store_time = []\n",
    "\n",
    "    for time in times:\n",
    "        time_tmp = order_data.loc[\n",
    "            order_data['order_accept_hour'] == time\n",
    "            ].groupby(['store_name']).count()[['order_id']]\n",
    "        time_tmp.columns = [f'order_time_{time}']\n",
    "        store_time.append(time_tmp)\n",
    "\n",
    "    store_time = pd.concat(store_time, axis=1)\n",
    "    store_delta = order_data.loc[\n",
    "        order_data['status_name'] != \"주문 취소\"\n",
    "        ].groupby(['store_name']).mean()[['delta']]\n",
    "    store_data.columns = ['order']\n",
    "    store_f.columns = ['order_fin']\n",
    "    store_c.columns = ['order_cancel']\n",
    "    store_d.columns = ['order_delivery']\n",
    "    store_t.columns = ['order_takeout']\n",
    "    store_delta.columns = ['delta_avg']\n",
    "    store_weekday.columns = ['order_weekday']\n",
    "    store_weekend.columns = ['order_weekend']\n",
    "    store_data = pd.concat(\n",
    "        [store_data, store_f, store_c, store_d, store_t,\n",
    "         store_weekday, store_weekend, store_time, store_delta], axis=1)\n",
    "    return store_data"
   ]
  },
  {
   "cell_type": "code",
   "execution_count": null,
   "metadata": {},
   "outputs": [],
   "source": [
    "tbl_order_path = tbl_order_paths[0]\n",
    "print(f'데이터 로딩: {tbl_order_path}')\n",
    "order_data = pd.read_csv(tbl_order_path)\n",
    "store_data = data_processing(order_data)\n",
    "store_data.head(3)"
   ]
  },
  {
   "cell_type": "markdown",
   "metadata": {},
   "source": [
    "### 테크닉 57: 모든 데이터를 로딩하고 데이터를 가공하자"
   ]
  },
  {
   "cell_type": "code",
   "execution_count": null,
   "metadata": {},
   "outputs": [],
   "source": [
    "store_all = []\n",
    "for tbl_order_path in tbl_order_paths:\n",
    "    print(f'데이터 로딩: {tbl_order_path}')\n",
    "    tg_ym = tbl_order_path.split('_')[-1][:6]\n",
    "    order_data = pd.read_csv(tbl_order_path)\n",
    "    store_data = data_processing(order_data)\n",
    "    store_data.loc[:,'year_month'] = tg_ym\n",
    "    store_data.reset_index(drop=False, inplace=True)\n",
    "    store_all.append(store_data)\n",
    "\n",
    "store_all = pd.concat(store_all, ignore_index=True)\n",
    "display(store_all.head(3))\n",
    "display(store_all.tail(3))\n",
    "store_monthly_name = 'store_monthly_data.csv'\n",
    "store_all.to_csv(os.path.join(output_dir, store_monthly_name), index=False)"
   ]
  },
  {
   "cell_type": "markdown",
   "metadata": {},
   "source": [
    "### 테크닉 58: 목적 변수를 만들자"
   ]
  },
  {
   "cell_type": "code",
   "execution_count": null,
   "metadata": {},
   "outputs": [],
   "source": [
    "y = store_all[\n",
    "    ['store_name', 'year_month', 'order_weekday', 'order_weekend']].copy()\n",
    "y.loc[:, 'one_month_ago'] = pd.to_datetime(y['year_month'], format='%Y%m')\n",
    "\n",
    "from dateutil.relativedelta import relativedelta\n",
    "\n",
    "y.loc[:, 'one_month_ago'] = y['one_month_ago'].map(\n",
    "    lambda x: x - relativedelta(months=1))\n",
    "y.loc[:, 'one_month_ago'] = y['one_month_ago'].dt.strftime('%Y%m')\n",
    "y.head(3)"
   ]
  },
  {
   "cell_type": "code",
   "execution_count": null,
   "metadata": {
    "scrolled": false
   },
   "outputs": [],
   "source": [
    "y_one_month_ago = y.copy()\n",
    "y_one_month_ago.rename(columns={\n",
    "    'order_weekday': 'order_weekday_one_month_ago',\n",
    "    'order_weekend': 'order_weekend_one_month_ago',\n",
    "    'year_month': 'year_month_for_join'}, inplace=True)\n",
    "y = pd.merge(y, y_one_month_ago[['store_name', 'year_month_for_join',\n",
    "                                 'order_weekday_one_month_ago',\n",
    "                                 'order_weekend_one_month_ago']],\n",
    "             left_on=['store_name', 'one_month_ago'],\n",
    "             right_on=['store_name', 'year_month_for_join'], how='left')\n",
    "y.loc[y['store_name'] == '가덕해안로점']"
   ]
  },
  {
   "cell_type": "code",
   "execution_count": null,
   "metadata": {
    "scrolled": true
   },
   "outputs": [],
   "source": [
    "y.dropna(inplace=True)\n",
    "y.loc[y['order_weekday'] - y['order_weekday_one_month_ago'] > 0, 'y_weekday'] = 1\n",
    "y.loc[y['order_weekday'] - y['order_weekday_one_month_ago'] <= 0, 'y_weekday'] = 0\n",
    "y.loc[y['order_weekend'] - y['order_weekend_one_month_ago'] > 0, 'y_weekend'] = 1\n",
    "y.loc[y['order_weekend'] - y['order_weekend_one_month_ago'] <= 0, 'y_weekend'] = 0\n",
    "y.head(3)"
   ]
  },
  {
   "cell_type": "markdown",
   "metadata": {},
   "source": [
    "### 테크닉 59: 설명 변수와 목적 변수를 연결해 머신러닝용 데이터를 완성하자"
   ]
  },
  {
   "cell_type": "code",
   "execution_count": null,
   "metadata": {},
   "outputs": [],
   "source": [
    "y.rename(columns={'year_month': 'target_year_month'},\n",
    "         inplace=True)\n",
    "y = y[['store_name', 'target_year_month', 'one_month_ago',\n",
    "       'y_weekday', 'y_weekend']].copy()\n",
    "ml_data = pd.merge(y, store_all,\n",
    "                   left_on=['store_name', 'one_month_ago'],\n",
    "                   right_on=['store_name', 'year_month'],\n",
    "                   how='left')\n",
    "ml_data.head()"
   ]
  },
  {
   "cell_type": "code",
   "execution_count": null,
   "metadata": {},
   "outputs": [],
   "source": [
    "del ml_data[\"target_year_month\"]\n",
    "del ml_data[\"one_month_ago\"]\n",
    "ml_data.head()"
   ]
  },
  {
   "cell_type": "markdown",
   "metadata": {},
   "source": [
    "### 테크닉 60: 머신러닝용 데이터를 확인하고 출력하자"
   ]
  },
  {
   "cell_type": "code",
   "execution_count": null,
   "metadata": {},
   "outputs": [],
   "source": [
    "ml_data.isna().sum()"
   ]
  },
  {
   "cell_type": "code",
   "execution_count": null,
   "metadata": {},
   "outputs": [],
   "source": [
    "display(ml_data.groupby('y_weekday').count()[['store_name']])\n",
    "display(ml_data.groupby('y_weekend').count()[['store_name']])"
   ]
  },
  {
   "cell_type": "code",
   "execution_count": null,
   "metadata": {},
   "outputs": [],
   "source": [
    "ml_data.to_csv(os.path.join(output_dir, 'ml_base_data.csv'), index=False)"
   ]
  },
  {
   "cell_type": "code",
   "execution_count": null,
   "metadata": {},
   "outputs": [],
   "source": []
  }
 ],
 "metadata": {
  "kernelspec": {
   "display_name": "Python 3 (ipykernel)",
   "language": "python",
   "name": "python3"
  },
  "language_info": {
   "codemirror_mode": {
    "name": "ipython",
    "version": 3
   },
   "file_extension": ".py",
   "mimetype": "text/x-python",
   "name": "python",
   "nbconvert_exporter": "python",
   "pygments_lexer": "ipython3",
   "version": "3.8.10"
  }
 },
 "nbformat": 4,
 "nbformat_minor": 4
}
