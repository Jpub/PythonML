{
 "cells": [
  {
   "cell_type": "code",
   "execution_count": null,
   "metadata": {},
   "outputs": [],
   "source": [
    "# Google Colaboratory를 사용할 때는 다음 주석을 해제하고 실행하기 바랍니다."
   ]
  },
  {
   "cell_type": "code",
   "execution_count": null,
   "metadata": {},
   "outputs": [],
   "source": [
    "# # 다음을 실행하면 authorization code 입력을 요청받습니다.\n",
    "# # 출력된 링크를 클릭하고 Google 계정으로 로그인한 뒤,\n",
    "# # authorization code를 복사해서 붙여 넣습니다.\n",
    "# import os\n",
    "# from google.colab import drive\n",
    "# drive.mount('/content/drive')"
   ]
  },
  {
   "cell_type": "code",
   "execution_count": null,
   "metadata": {},
   "outputs": [],
   "source": [
    "# working_dir = 'MLSys_100Knocks' #　※※ 여러분이 만든 폴더 경로가 다를 때는 다음을 변경합니다. ※※\n",
    "# path = f'/content/drive/MyDrive/{working_dir}/MainChapter/chapter08'\n",
    "# os.chdir(path)"
   ]
  },
  {
   "cell_type": "code",
   "execution_count": null,
   "metadata": {},
   "outputs": [],
   "source": [
    "# Jupyter notebook ipywidgets 활성화\n",
    "# for jupyter notebook (virtualenv 사용 시)\n",
    "#!jupyter nbextension enable --user --py widgetsnbextension\n",
    "\n",
    "# for jupyter lab\n",
    "#!jupyter labextension install @jupyter-widgets/jupyterlab-manager"
   ]
  },
  {
   "cell_type": "markdown",
   "metadata": {},
   "source": [
    "# 8장 구현한 머신러닝 모델로 새로운 데이터를 예측하는 테크닉 10\n",
    "\n"
   ]
  },
  {
   "cell_type": "markdown",
   "metadata": {},
   "source": [
    "### 테크닉 71: 폴더를 만들고 데이터 로딩을 준비하자"
   ]
  },
  {
   "cell_type": "code",
   "execution_count": null,
   "metadata": {},
   "outputs": [],
   "source": [
    "import os\n",
    "\n",
    "data_dir = 'data'\n",
    "input_dir = os.path.join(data_dir, '0_input')\n",
    "output_dir = os.path.join(data_dir, '1_output')\n",
    "master_dir = os.path.join(data_dir, '99_master')\n",
    "model_dir = 'models'\n",
    "os.makedirs(input_dir, exist_ok=True)\n",
    "os.makedirs(output_dir, exist_ok=True)\n",
    "os.makedirs(master_dir, exist_ok=True)\n",
    "os.makedirs(model_dir, exist_ok=True)"
   ]
  },
  {
   "cell_type": "markdown",
   "metadata": {},
   "source": [
    "##### **반드시 데이터와 모델을 해당 폴더에 넣어주십시오.**"
   ]
  },
  {
   "cell_type": "markdown",
   "metadata": {},
   "source": [
    "### 테크닉 72: 예측할 신규 데이터를 로딩하자"
   ]
  },
  {
   "cell_type": "code",
   "execution_count": null,
   "metadata": {},
   "outputs": [],
   "source": [
    "import pandas as pd\n",
    "\n",
    "m_area_file = 'm_area.csv'\n",
    "m_store_file = 'm_store.csv'\n",
    "m_area = pd.read_csv(os.path.join(master_dir, m_area_file))\n",
    "m_store = pd.read_csv(os.path.join(master_dir, m_store_file))"
   ]
  },
  {
   "cell_type": "code",
   "execution_count": null,
   "metadata": {},
   "outputs": [],
   "source": [
    "tg_ym = '202103'\n",
    "target_file = 'tbl_order_' + tg_ym + '.csv'\n",
    "target_data = pd.read_csv(os.path.join(input_dir, target_file))\n",
    "\n",
    "import datetime\n",
    "\n",
    "max_date = pd.to_datetime(target_data['order_accept_date']).max()\n",
    "min_date = pd.to_datetime(target_data['order_accept_date']).min()\n",
    "max_str_date = max_date.strftime('%Y%m')\n",
    "min_str_date = min_date.strftime(\"%Y%m\")\n",
    "\n",
    "if tg_ym == min_str_date and tg_ym == max_str_date:\n",
    "    print('날짜가 일치합니다')\n",
    "else:\n",
    "    raise Exception('날짜가 일치하지 않습니다')"
   ]
  },
  {
   "cell_type": "markdown",
   "metadata": {},
   "source": [
    "### 테크닉 73: 신규 데이터를 매장별로 집계하자"
   ]
  },
  {
   "cell_type": "code",
   "execution_count": null,
   "metadata": {},
   "outputs": [],
   "source": [
    "def calc_delta(t):\n",
    "    t1, t2 = t\n",
    "    delta = t2 - t1\n",
    "    return delta.total_seconds() / 60\n",
    "\n",
    "\n",
    "def data_processing(order_data):\n",
    "    order_data = order_data.loc[order_data['store_id'] != 999]\n",
    "    order_data = pd.merge(order_data, m_store, on='store_id', how='left')\n",
    "    order_data = pd.merge(order_data, m_area, on='area_cd', how='left')\n",
    "    order_data.loc[order_data['takeout_flag'] == 0, 'takeout_name'] = 'delivery'\n",
    "    order_data.loc[order_data['takeout_flag'] == 1, 'takeout_name'] = 'takeout'\n",
    "    order_data.loc[order_data['status'] == 0, 'status_name'] = '주문 접수'\n",
    "    order_data.loc[order_data['status'] == 1, 'status_name'] = '결제 완료'\n",
    "    order_data.loc[order_data['status'] == 2, 'status_name'] = '배달 완료'\n",
    "    order_data.loc[order_data['status'] == 9, 'status_name'] = '주문 취소'\n",
    "\n",
    "    order_data.loc[:, 'order_accept_datetime'] = \\\n",
    "        pd.to_datetime(order_data['order_accept_date'])\n",
    "    order_data.loc[:, 'delivered_datetime'] = \\\n",
    "        pd.to_datetime(order_data['delivered_date'])\n",
    "    order_data.loc[:, 'delta'] = \\\n",
    "        order_data[['order_accept_datetime', 'delivered_datetime']].apply(\n",
    "            calc_delta, axis=1)\n",
    "    order_data.loc[:, 'order_accept_hour'] = \\\n",
    "        order_data['order_accept_datetime'].dt.hour\n",
    "    order_data.loc[:, 'order_accept_weekday'] = \\\n",
    "        order_data['order_accept_datetime'].dt.weekday\n",
    "    order_data.loc[order_data['order_accept_weekday'] >= 5,\n",
    "                   'weekday_info'] = '휴일'\n",
    "    order_data.loc[order_data['order_accept_weekday'] < 5,\n",
    "                   'weekday_info'] = '평일'\n",
    "\n",
    "    store_data = order_data.groupby(['store_name']).count()[['order_id']]\n",
    "    store_f = order_data.loc[\n",
    "        (order_data['status_name'] == '배달 완료') |\n",
    "        (order_data['status_name'] == '결제 완료')\n",
    "        ].groupby(['store_name']).count()[['order_id']]\n",
    "    store_c = order_data.loc[\n",
    "        order_data['status_name'] == '주문 취소'\n",
    "        ].groupby(['store_name']).count()[['order_id']]\n",
    "    store_d = order_data.loc[\n",
    "        order_data['takeout_name'] == 'delivery'\n",
    "        ].groupby(['store_name']).count()[['order_id']]\n",
    "    store_t = order_data.loc[\n",
    "        order_data['takeout_name'] == 'takeout'\n",
    "        ].groupby(['store_name']).count()[['order_id']]\n",
    "    store_weekday = order_data.loc[\n",
    "        order_data['weekday_info'] == '평일'\n",
    "        ].groupby(['store_name']).count()[['order_id']]\n",
    "    store_weekend = order_data.loc[\n",
    "        order_data['weekday_info'] == '휴일'\n",
    "        ].groupby(['store_name']).count()[['order_id']]\n",
    "    times = order_data['order_accept_hour'].unique()\n",
    "    store_time = []\n",
    "\n",
    "    for time in times:\n",
    "        time_tmp = order_data.loc[\n",
    "            order_data['order_accept_hour'] == time\n",
    "            ].groupby(['store_name']).count()[['order_id']]\n",
    "        time_tmp.columns = [f'order_time_{time}']\n",
    "        store_time.append(time_tmp)\n",
    "\n",
    "    store_time = pd.concat(store_time, axis=1)\n",
    "    store_delta = order_data.loc[\n",
    "        order_data['status_name'] != '주문 취소'\n",
    "        ].groupby(['store_name']).mean()[['delta']]\n",
    "    store_data.columns = ['order']\n",
    "    store_f.columns = ['order_fin']\n",
    "    store_c.columns = ['order_cancel']\n",
    "    store_d.columns = ['order_delivery']\n",
    "    store_t.columns = ['order_takeout']\n",
    "    store_delta.columns = ['delta_avg']\n",
    "    store_weekday.columns = ['order_weekday']\n",
    "    store_weekend.columns = ['order_weekend']\n",
    "    store_data = pd.concat([\n",
    "        store_data, store_f, store_c, store_d, store_t,\n",
    "        store_weekday, store_weekend, store_time, store_delta], axis=1)\n",
    "    return store_data"
   ]
  },
  {
   "cell_type": "code",
   "execution_count": null,
   "metadata": {},
   "outputs": [],
   "source": [
    "store_data = data_processing(target_data)\n",
    "store_data.reset_index(drop=False, inplace=True)\n",
    "actual_data = store_data.copy()"
   ]
  },
  {
   "cell_type": "markdown",
   "metadata": {},
   "source": [
    "### 테크닉 74: 신규 데이터의 범주형 변수에 대응하자"
   ]
  },
  {
   "cell_type": "code",
   "execution_count": null,
   "metadata": {},
   "outputs": [],
   "source": [
    "category_data = pd.get_dummies(store_data['store_name'], \n",
    "                               prefix='store', prefix_sep='_')\n",
    "del category_data['store_가덕해안로점']\n",
    "store_data = pd.concat([store_data, category_data], axis=1)\n",
    "store_data.head(3)"
   ]
  },
  {
   "cell_type": "markdown",
   "metadata": {},
   "source": [
    "### 테크닉 75: 모델 투입 직전의 형식으로 정리하자"
   ]
  },
  {
   "cell_type": "code",
   "execution_count": null,
   "metadata": {},
   "outputs": [],
   "source": [
    "X_cols_name = 'X_cols.csv'\n",
    "X_cols = pd.read_csv(os.path.join(model_dir, X_cols_name))\n",
    "X_cols = X_cols['X_cols']"
   ]
  },
  {
   "cell_type": "code",
   "execution_count": null,
   "metadata": {},
   "outputs": [],
   "source": [
    "X = store_data[X_cols].copy()\n",
    "X.head(3)"
   ]
  },
  {
   "cell_type": "markdown",
   "metadata": {},
   "source": [
    "### 테크닉 76: 모델 파일을 로딩하자"
   ]
  },
  {
   "cell_type": "code",
   "execution_count": null,
   "metadata": {
    "scrolled": true
   },
   "outputs": [],
   "source": [
    "import pickle\n",
    "\n",
    "model_weekday_name = 'model_y_weekday_GradientBoosting.pickle'\n",
    "model_weekend_name = 'model_y_weekend_GradientBoosting.pickle'\n",
    "\n",
    "model_weekday_path = os.path.join(model_dir, model_weekday_name)\n",
    "model_weekend_path = os.path.join(model_dir, model_weekend_name)\n",
    "\n",
    "with open(model_weekday_path, mode='rb') as f:\n",
    "    model_weekday = pickle.load(f)\n",
    "\n",
    "with open(model_weekend_path, mode='rb') as f:\n",
    "    model_weekend = pickle.load(f)\n",
    "\n",
    "print(model_weekday)\n",
    "print(model_weekend)"
   ]
  },
  {
   "cell_type": "markdown",
   "metadata": {},
   "source": [
    "### 테크닉 77: 신규 데이터를 예측하자"
   ]
  },
  {
   "cell_type": "code",
   "execution_count": null,
   "metadata": {},
   "outputs": [],
   "source": [
    "pred_weekday = model_weekday.predict(X)\n",
    "pred_weekend = model_weekend.predict(X)\n",
    "pred_weekend[:10]"
   ]
  },
  {
   "cell_type": "code",
   "execution_count": null,
   "metadata": {},
   "outputs": [],
   "source": [
    "pred_proba_weekday = model_weekday.predict_proba(X)\n",
    "pred_proba_weekend = model_weekend.predict_proba(X)\n",
    "pred_proba_weekend[:10]"
   ]
  },
  {
   "cell_type": "code",
   "execution_count": null,
   "metadata": {},
   "outputs": [],
   "source": [
    "pred_proba_weekday = pred_proba_weekday[:, 1]\n",
    "pred_proba_weekend = pred_proba_weekend[:, 1]\n",
    "pred_proba_weekend[:10]"
   ]
  },
  {
   "cell_type": "code",
   "execution_count": null,
   "metadata": {
    "scrolled": true
   },
   "outputs": [],
   "source": [
    "pred = pd.DataFrame({'pred_weekday': pred_weekday,\n",
    "                     'pred_weekend': pred_weekend,\n",
    "                     'score_weekday': pred_proba_weekday,\n",
    "                     'score_weekend': pred_proba_weekend})\n",
    "pred.loc[:, 'store_name'] = store_data['store_name']\n",
    "pred.loc[:, 'year_month'] = tg_ym\n",
    "pred.head(3)"
   ]
  },
  {
   "cell_type": "markdown",
   "metadata": {},
   "source": [
    "### 테크닉 78: 예측 결과를 히트맵으로 그리자"
   ]
  },
  {
   "cell_type": "code",
   "execution_count": null,
   "metadata": {},
   "outputs": [],
   "source": [
    "pred_viz = pred[['store_name','score_weekday','score_weekend']].copy()\n",
    "pred_viz.set_index('store_name', inplace=True)\n",
    "pred_viz"
   ]
  },
  {
   "cell_type": "code",
   "execution_count": null,
   "metadata": {},
   "outputs": [],
   "source": [
    "import seaborn as sns\n",
    "import matplotlib as plt\n",
    "\n",
    "# 한글 폰트 처리\n",
    "import os\n",
    "\n",
    "if os.name == 'nt':  # Windows\n",
    "    plt.rc('font', family='Malgun Gothic')\n",
    "elif os.name == 'posix':  # macOS\n",
    "    plt.rc('font', family='AllieGothic')\n",
    "\n",
    "sns.heatmap(pred_viz[:20].T)"
   ]
  },
  {
   "cell_type": "markdown",
   "metadata": {},
   "source": [
    "### 테크닉 79: 실적 데이터를 만들자"
   ]
  },
  {
   "cell_type": "code",
   "execution_count": null,
   "metadata": {},
   "outputs": [],
   "source": [
    "target_cols = [\n",
    "    'store_name', 'order', 'order_fin', 'order_cancel', 'order_delivery', \n",
    "    'order_takeout', 'order_weekday', 'order_weekend', 'delta_avg']\n",
    "actual_data = actual_data[target_cols]\n",
    "actual_cols = ['store_name']\n",
    "rename_cols = [f'{x}_{tg_ym}' \n",
    "               for x in actual_data.columns if x != 'store_name']\n",
    "actual_cols.extend(rename_cols)\n",
    "actual_data.columns = actual_cols\n",
    "actual_data.head(3)"
   ]
  },
  {
   "cell_type": "markdown",
   "metadata": {},
   "source": [
    "### 테크닉 80: 현장용 보고서를 만들어 출력하자"
   ]
  },
  {
   "cell_type": "code",
   "execution_count": null,
   "metadata": {},
   "outputs": [],
   "source": [
    "pred.loc[pred['score_weekday'] >= 0.75,\n",
    "         '주문 예측/평일'] = '증가(큼)'\n",
    "pred.loc[(pred['score_weekday'] < 0.75) & (pred['score_weekday'] >= 0.5),\n",
    "         '주문 예측/평일'] = '증가'\n",
    "pred.loc[(pred['score_weekday'] < 0.5) & (pred['score_weekday'] >= 0.25),\n",
    "         '주문 예측/평일'] = '감소'\n",
    "pred.loc[pred['score_weekday'] < 0.25,\n",
    "         '주문 예측/평일'] = '감소(큼)'\n",
    "\n",
    "pred.loc[pred['score_weekend'] >= 0.75,\n",
    "         '주문 예측/휴일'] = '증가(큼)'\n",
    "pred.loc[(pred['score_weekend'] < 0.75) & (pred['score_weekend'] >= 0.5),\n",
    "         '주문 예측/휴일'] = '증가'\n",
    "pred.loc[(pred['score_weekend'] < 0.5) & (pred['score_weekend'] >= 0.25),\n",
    "         '주문 예측/휴일'] = '감소'\n",
    "pred.loc[pred['score_weekend'] < 0.25,\n",
    "         '주문 예측/휴일'] = '감소(큼)'"
   ]
  },
  {
   "cell_type": "code",
   "execution_count": null,
   "metadata": {},
   "outputs": [],
   "source": [
    "report = pred[['store_name', '주문 예측/평일', '주문 예측/휴일', \n",
    "               'score_weekday', 'score_weekend']]\n",
    "report = pd.merge(report, actual_data, on='store_name', how='left')\n",
    "report.head(3)"
   ]
  },
  {
   "cell_type": "code",
   "execution_count": null,
   "metadata": {},
   "outputs": [],
   "source": [
    "pred_ym = datetime.datetime.strptime(tg_ym, '%Y%m')\n",
    "\n",
    "from dateutil.relativedelta import relativedelta\n",
    "\n",
    "pred_ym = pred_ym + relativedelta(months=1)\n",
    "pred_ym = datetime.datetime.strftime(pred_ym, '%Y%m')\n",
    "\n",
    "report_name = f'report_pred_{pred_ym}.xlsx'\n",
    "report.to_excel(os.path.join(output_dir, report_name), index=False)"
   ]
  },
  {
   "cell_type": "code",
   "execution_count": null,
   "metadata": {},
   "outputs": [],
   "source": []
  }
 ],
 "metadata": {
  "kernelspec": {
   "display_name": "Python 3 (ipykernel)",
   "language": "python",
   "name": "python3"
  },
  "language_info": {
   "codemirror_mode": {
    "name": "ipython",
    "version": 3
   },
   "file_extension": ".py",
   "mimetype": "text/x-python",
   "name": "python",
   "nbconvert_exporter": "python",
   "pygments_lexer": "ipython3",
   "version": "3.7.9"
  }
 },
 "nbformat": 4,
 "nbformat_minor": 4
}
