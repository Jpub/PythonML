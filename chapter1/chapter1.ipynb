{
 "cells": [
  {
   "cell_type": "code",
   "execution_count": 1,
   "metadata": {
    "ExecuteTime": {
     "end_time": "2021-08-06T07:45:46.793536Z",
     "start_time": "2021-08-06T07:45:35.734484Z"
    }
   },
   "outputs": [
    {
     "name": "stdout",
     "output_type": "stream",
     "text": [
      "Train on 10 samples\n",
      "Epoch 1/10\n",
      "10/10 [==============================] - 1s 51ms/sample - loss: 0.0898\n",
      "Epoch 2/10\n",
      "10/10 [==============================] - 0s 6ms/sample - loss: 0.0730\n",
      "Epoch 3/10\n",
      "10/10 [==============================] - 0s 6ms/sample - loss: 0.0646\n",
      "Epoch 4/10\n",
      "10/10 [==============================] - 0s 6ms/sample - loss: 0.0592\n",
      "Epoch 5/10\n",
      "10/10 [==============================] - 0s 6ms/sample - loss: 0.0554\n",
      "Epoch 6/10\n",
      "10/10 [==============================] - 0s 6ms/sample - loss: 0.0528\n",
      "Epoch 7/10\n",
      "10/10 [==============================] - 0s 6ms/sample - loss: 0.0504\n",
      "Epoch 8/10\n",
      "10/10 [==============================] - 0s 698us/sample - loss: 0.0487\n",
      "Epoch 9/10\n",
      "10/10 [==============================] - 0s 688us/sample - loss: 0.0473\n",
      "Epoch 10/10\n",
      "10/10 [==============================] - 0s 798us/sample - loss: 0.0455\n",
      "input 30 => predict: [1.]\n",
      "input 40 => predict: [1.]\n",
      "input -20 => predict: [0.019264]\n",
      "input -60 => predict: [7.910727e-06]\n"
     ]
    }
   ],
   "source": [
    "import tensorflow as tf\n",
    "from tensorflow.keras.models import Sequential\n",
    "from tensorflow.keras.layers import Dense\n",
    "\n",
    "model = Sequential()\n",
    "model.add(Dense(units=8, activation='relu', input_dim=1))\n",
    "model.add(Dense(units=1, activation='sigmoid'))\n",
    "model.compile(loss='mean_squared_error', optimizer='sgd')\n",
    "\n",
    "x = [1, 2, 3, 10, 20, -2, -10, -100, -5, -20]\n",
    "y = [1.0, 1.0, 1.0, 1.0, 1.0,  0.0, 0.0, 0.0, 0.0, 0.0]\n",
    "model.fit(x, y, epochs=10, batch_size=4)\n",
    "\n",
    "test_x = [30, 40, -20, -60]\n",
    "test_y = model.predict(test_x)\n",
    "\n",
    "for i in range(len(test_x)):\n",
    "\tprint('input {} => predict: {}'.format(test_x[i], test_y[i]))"
   ]
  },
  {
   "cell_type": "code",
   "execution_count": null,
   "metadata": {},
   "outputs": [],
   "source": []
  }
 ],
 "metadata": {
  "kernelspec": {
   "display_name": "Python 3",
   "language": "python",
   "name": "python3"
  },
  "language_info": {
   "codemirror_mode": {
    "name": "ipython",
    "version": 3
   },
   "file_extension": ".py",
   "mimetype": "text/x-python",
   "name": "python",
   "nbconvert_exporter": "python",
   "pygments_lexer": "ipython3",
   "version": "3.7.3"
  },
  "varInspector": {
   "cols": {
    "lenName": 16,
    "lenType": 16,
    "lenVar": 40
   },
   "kernels_config": {
    "python": {
     "delete_cmd_postfix": "",
     "delete_cmd_prefix": "del ",
     "library": "var_list.py",
     "varRefreshCmd": "print(var_dic_list())"
    },
    "r": {
     "delete_cmd_postfix": ") ",
     "delete_cmd_prefix": "rm(",
     "library": "var_list.r",
     "varRefreshCmd": "cat(var_dic_list()) "
    }
   },
   "types_to_exclude": [
    "module",
    "function",
    "builtin_function_or_method",
    "instance",
    "_Feature"
   ],
   "window_display": false
  }
 },
 "nbformat": 4,
 "nbformat_minor": 4
}
