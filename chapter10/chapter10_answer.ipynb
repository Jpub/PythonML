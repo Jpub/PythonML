{
 "cells": [
  {
   "cell_type": "code",
   "execution_count": null,
   "metadata": {},
   "outputs": [],
   "source": [
    "# Google Colaboratory를 사용할 때는 다음 주석을 해제하고 실행하기 바랍니다."
   ]
  },
  {
   "cell_type": "code",
   "execution_count": null,
   "metadata": {},
   "outputs": [],
   "source": [
    "# # 다음을 실행하면 authorization code 입력을 요청받습니다.\n",
    "# # 출력된 링크를 클릭하고 Google 계정으로 로그인한 뒤,\n",
    "# # authorization code를 복사해서 붙여 넣습니다.\n",
    "# import os\n",
    "# from google.colab import drive\n",
    "# drive.mount('/content/drive')"
   ]
  },
  {
   "cell_type": "code",
   "execution_count": null,
   "metadata": {},
   "outputs": [],
   "source": [
    "# working_dir = 'MLSys_100Knocks' #　※※ 여러분이 만든 폴더 경로가 다를 때는 다음을 변경합니다. ※※\n",
    "# path = f'/content/drive/MyDrive/{working_dir}/MainChapter/chapter10'\n",
    "# os.chdir(path)"
   ]
  },
  {
   "cell_type": "code",
   "execution_count": null,
   "metadata": {},
   "outputs": [],
   "source": [
    "# Jupyter notebook ipywidgets 활성화\n",
    "# for jupyter notebook (virtualenv 사용 시)\n",
    "#!jupyter nbextension enable --user --py widgetsnbextension\n",
    "\n",
    "# for jupyter lab\n",
    "#!jupyter labextension install @jupyter-widgets/jupyterlab-manager"
   ]
  },
  {
   "cell_type": "markdown",
   "metadata": {},
   "source": [
    "# 10장 머신러닝 시스템 대시보드를 만드는 테크닉 10"
   ]
  },
  {
   "cell_type": "markdown",
   "metadata": {},
   "source": [
    "### 테크닉 91: 단일 데이터를 로딩하자"
   ]
  },
  {
   "cell_type": "code",
   "execution_count": null,
   "metadata": {},
   "outputs": [],
   "source": [
    "import os\n",
    "import pandas as pd\n",
    "\n",
    "data_dir = 'data'\n",
    "store_monthly_dir = os.path.join(data_dir, '01_store_monthly')\n",
    "ml_base_dir = os.path.join(data_dir, '02_ml_base')\n",
    "\n",
    "output_ml_result_dir = os.path.join(data_dir, '10_output_ml_result')\n",
    "output_report_dir = os.path.join(data_dir, '11_output_report')\n",
    "\n",
    "store_monthly_file = 'store_monthly_data.csv'\n",
    "ml_base_file = 'ml_base_data.csv'\n",
    "\n",
    "store_monthly_data = pd.read_csv(\n",
    "    os.path.join(store_monthly_dir, store_monthly_file))\n",
    "ml_base_data = pd.read_csv(os.path.join(ml_base_dir, ml_base_file))\n",
    "display(store_monthly_data.head(3))\n",
    "display(ml_base_data.head(3))"
   ]
  },
  {
   "cell_type": "markdown",
   "metadata": {},
   "source": [
    "### 테크닉 92: 업데이트 데이터를 로딩해 매장별 데이터를 만들자"
   ]
  },
  {
   "cell_type": "code",
   "execution_count": null,
   "metadata": {
    "scrolled": true
   },
   "outputs": [],
   "source": [
    "ml_results_dirs = os.listdir(output_ml_result_dir)\n",
    "score_all = []\n",
    "\n",
    "for ml_results_dir in ml_results_dirs:\n",
    "    score_file_path = os.path.join(\n",
    "        output_ml_result_dir, ml_results_dir, 'score.csv')\n",
    "    score_monthly = pd.read_csv(score_file_path)\n",
    "    score_monthly['dirs'] = ml_results_dir\n",
    "    score_all.append(score_monthly)\n",
    "\n",
    "score_all = pd.concat(score_all, ignore_index=True)\n",
    "score_all.head()"
   ]
  },
  {
   "cell_type": "code",
   "execution_count": null,
   "metadata": {},
   "outputs": [],
   "source": [
    "score_all.loc[:, 'year_month'] = score_all['dirs'].str.split('_', expand=True)[1]\n",
    "score_all.head()"
   ]
  },
  {
   "cell_type": "markdown",
   "metadata": {},
   "source": [
    "### 테크닉 93: 머신러닝 모델의 중요 변수 데이터를 로딩하고 결합하자"
   ]
  },
  {
   "cell_type": "code",
   "execution_count": null,
   "metadata": {},
   "outputs": [],
   "source": [
    "ml_results_dirs = os.listdir(output_ml_result_dir)\n",
    "importance_all = []\n",
    "\n",
    "for ml_results_dir in ml_results_dirs:\n",
    "    importance_file_path = os.path.join(\n",
    "        output_ml_result_dir, ml_results_dir, 'importance.csv')\n",
    "    importance_monthly = pd.read_csv(importance_file_path)\n",
    "    importance_monthly['dirs'] = ml_results_dir\n",
    "    importance_all.append(importance_monthly)\n",
    "\n",
    "importance_all = pd.concat(importance_all, ignore_index=True)\n",
    "importance_all.loc[:, 'year_month'] = \\\n",
    "    importance_all['dirs'].str.split('_', expand=True)[1]\n",
    "importance_all.head()"
   ]
  },
  {
   "cell_type": "markdown",
   "metadata": {},
   "source": [
    "### 테크닉 94: 머신러닝 모델의 예측 결과를 로딩하고 결합하자"
   ]
  },
  {
   "cell_type": "code",
   "execution_count": null,
   "metadata": {},
   "outputs": [],
   "source": [
    "report_files = os.listdir(output_report_dir)\n",
    "report_all = []\n",
    "\n",
    "for report_file in report_files:\n",
    "    report_file_path = os.path.join(output_report_dir, report_file)\n",
    "    report_monthly = pd.read_excel(report_file_path)\n",
    "    report_monthly = report_monthly[\n",
    "        ['store_name', 'score_weekday', 'score_weekend']].copy()\n",
    "    report_monthly['files'] = report_file\n",
    "    report_all.append(report_monthly)\n",
    "\n",
    "report_all = pd.concat(report_all, ignore_index=True)\n",
    "report_all.head()"
   ]
  },
  {
   "cell_type": "code",
   "execution_count": null,
   "metadata": {},
   "outputs": [],
   "source": [
    "report_all.loc[:, 'pred_year_month'] = \\\n",
    "    report_all['files'].str.split('.', expand=True)[0]\n",
    "report_all.loc[:, 'pred_year_month'] = \\\n",
    "    report_all['pred_year_month'].str[12:]\n",
    "report_all.head()"
   ]
  },
  {
   "cell_type": "markdown",
   "metadata": {},
   "source": [
    "### 테크닉 95: 머신러닝 모델용 사전 데이터를 가공하자"
   ]
  },
  {
   "cell_type": "code",
   "execution_count": null,
   "metadata": {},
   "outputs": [],
   "source": [
    "ml_data = ml_base_data[\n",
    "    ['store_name', 'y_weekday', 'y_weekend', 'year_month']].copy()\n",
    "ml_data.loc[:, 'pred_year_month'] = \\\n",
    "    pd.to_datetime(ml_data['year_month'], format='%Y%m')\n",
    "\n",
    "from dateutil.relativedelta import relativedelta\n",
    "\n",
    "ml_data.loc[:, 'pred_year_month'] = \\\n",
    "    ml_data['pred_year_month'].map(lambda x: x + relativedelta(months=1))\n",
    "ml_data.loc[:, 'pred_year_month'] = \\\n",
    "    ml_data['pred_year_month'].dt.strftime('%Y%m')\n",
    "del ml_data['year_month']\n",
    "ml_data.head(3)"
   ]
  },
  {
   "cell_type": "code",
   "execution_count": null,
   "metadata": {},
   "outputs": [],
   "source": [
    "report_valid = pd.merge(report_all, ml_data, \n",
    "                        on=['store_name', 'pred_year_month'], \n",
    "                        how='left')\n",
    "report_valid"
   ]
  },
  {
   "cell_type": "code",
   "execution_count": null,
   "metadata": {},
   "outputs": [],
   "source": [
    "report_valid.dropna(inplace=True)\n",
    "report_valid"
   ]
  },
  {
   "cell_type": "markdown",
   "metadata": {},
   "source": [
    "### 테크닉 96: 매장 분석용 대시보드를 만들자"
   ]
  },
  {
   "cell_type": "code",
   "execution_count": null,
   "metadata": {},
   "outputs": [],
   "source": [
    "import seaborn as sns\n",
    "from IPython.display import display, clear_output\n",
    "from ipywidgets import Select, SelectMultiple\n",
    "import matplotlib.pyplot as plt\n",
    "\n",
    "# 한글 폰트 처리\n",
    "import os\n",
    "\n",
    "if os.name == 'nt':  # Windows\n",
    "    plt.rc('font', family='Malgun Gothic')\n",
    "elif os.name == 'posix':  # macOS\n",
    "    plt.rc('font', family='AllieGothic')\n",
    "\n",
    "store_list = store_monthly_data['store_name'].unique()\n",
    "\n",
    "\n",
    "def make_graph_96(val):\n",
    "    clear_output()\n",
    "    display(select_96)\n",
    "\n",
    "    fig = plt.figure(figsize=(17, 4))\n",
    "    plt.subplots_adjust(wspace=0.25, hspace=0.6)\n",
    "\n",
    "    for i, trg in enumerate(val['new']):\n",
    "        pick_data = store_monthly_data.loc[\n",
    "            store_monthly_data['store_name'] == trg]\n",
    "\n",
    "        graph_fin = pick_data[[\n",
    "            'store_name', 'order_fin', 'year_month']].copy()\n",
    "        graph_fin.loc[:, 'type'] = 'fin'\n",
    "        graph_fin = graph_fin.rename(columns={'order_fin': 'count'})\n",
    "\n",
    "        graph_cancel = pick_data[[\n",
    "            'store_name', 'order_cancel', 'year_month']].copy()\n",
    "        graph_cancel.loc[:, 'type'] = 'cancel'\n",
    "        graph_cancel = graph_cancel.rename(columns={'order_cancel': 'count'})\n",
    "\n",
    "        ax = fig.add_subplot(1, len(val['new']), (i + 1))\n",
    "        sns.pointplot(x=\"year_month\", y=\"count\", \n",
    "                      data=graph_fin, color='orange')\n",
    "        sns.pointplot(x=\"year_month\", y=\"count\", \n",
    "                      data=graph_cancel, color='blue')\n",
    "        ax.set_title(trg)\n",
    "\n",
    "\n",
    "select_96 = SelectMultiple(options=store_list)\n",
    "select_96.observe(make_graph_96, names='value')\n",
    "display(select_96)"
   ]
  },
  {
   "cell_type": "markdown",
   "metadata": {},
   "source": [
    "### 테크닉 97: 머신러닝 모델의 정밀도 평가 대시보드를 만들자"
   ]
  },
  {
   "cell_type": "code",
   "execution_count": null,
   "metadata": {
    "scrolled": false
   },
   "outputs": [],
   "source": [
    "opt1 = ''\n",
    "\n",
    "\n",
    "def s1_update_97(val):\n",
    "    global opt1\n",
    "    opt1 = val['new']\n",
    "    graph_97()\n",
    "\n",
    "\n",
    "def graph_97():\n",
    "    clear_output()\n",
    "    display(select1_97)\n",
    "\n",
    "    graph_df_wd = score_all.loc[\n",
    "        (score_all['model_name'] == opt1) & \n",
    "        (score_all['model_target'] == 'y_weekday')].copy()\n",
    "    graph_df_we = score_all.loc[\n",
    "        (score_all['model_name'] == opt1) & \n",
    "        (score_all['model_target'] == 'y_weekend')].copy()\n",
    "\n",
    "    fig, (ax1, ax2) = plt.subplots(1, 2, figsize=(15, 5))\n",
    "    plt.subplots_adjust(wspace=0.25, hspace=0.6)\n",
    "    ax1 = fig.add_subplot(1, 2, 1)\n",
    "    sns.barplot(x='dirs', y='acc', data=graph_df_wd, hue='DataCategory')\n",
    "    ax1.set_title('평일')\n",
    "\n",
    "    ax2 = fig.add_subplot(1, 2, 2)\n",
    "    sns.barplot(x='dirs', y='acc', data=graph_df_we, hue='DataCategory')\n",
    "    ax2.set_title('휴일')\n",
    "\n",
    "\n",
    "s1_option_97 = score_all['model_name'].unique()\n",
    "select1_97 = Select(options=s1_option_97)\n",
    "select1_97.observe(s1_update_97, names='value')\n",
    "display(select1_97)"
   ]
  },
  {
   "cell_type": "markdown",
   "metadata": {},
   "source": [
    "### 테크닉 98: 머신러닝 모델의 혼동 행렬 대시보드를 만들자"
   ]
  },
  {
   "cell_type": "code",
   "execution_count": null,
   "metadata": {
    "scrolled": false
   },
   "outputs": [],
   "source": [
    "opt1 = ''\n",
    "opt2 = ''\n",
    "\n",
    "\n",
    "def s1_update_98(val):\n",
    "    global opt1\n",
    "    opt1 = val['new']\n",
    "    graph_98()\n",
    "\n",
    "\n",
    "def s2_update_98(val):\n",
    "    global opt2\n",
    "    opt2 = val['new']\n",
    "    graph_98()\n",
    "\n",
    "\n",
    "def graph_98():\n",
    "    clear_output()\n",
    "    display(select1_98, select2_98)\n",
    "\n",
    "    for i, ym in enumerate(score_all['year_month'].unique()):\n",
    "        fig, (ax1, ax2) = plt.subplots(1, 2, figsize=(15, 5))\n",
    "        plt.subplots_adjust(wspace=0.25, hspace=0.6)\n",
    "\n",
    "        tmp = score_all.loc[(score_all['model_name'] == opt1) &\n",
    "                            (score_all['model_target'] == opt2) &\n",
    "                            (score_all['DataCategory'] == 'train') &\n",
    "                            (score_all['year_month'] == ym)]\n",
    "        if len(tmp) == 1:\n",
    "            maxcnt = tmp[\"tp\"].values[0] + tmp[\"fn\"].values[0] + \\\n",
    "                     tmp[\"fp\"].values[0] + tmp[\"tn\"].values[0]\n",
    "            cm = [[tmp['tp'].values[0] / maxcnt, tmp['fn'].values[0] / maxcnt],\n",
    "                  [tmp['fp'].values[0] / maxcnt, tmp['tn'].values[0] / maxcnt]]\n",
    "            ax1 = fig.add_subplot(1, 2, 1)\n",
    "            sns.heatmap(cm, vmax=0.5, vmin=0, cmap='Blues', annot=True,\n",
    "                        xticklabels=False, yticklabels=False, cbar=False)\n",
    "            ax1.set_title(f'{ym} train')\n",
    "\n",
    "        tmp = score_all.loc[(score_all['model_name'] == opt1) &\n",
    "                            (score_all['model_target'] == opt2) &\n",
    "                            (score_all['DataCategory'] == 'test') &\n",
    "                            (score_all['year_month'] == ym)]\n",
    "        if len(tmp) == 1:\n",
    "            maxcnt = tmp[\"tp\"].values[0] + tmp[\"fn\"].values[0] + \\\n",
    "                     tmp[\"fp\"].values[0] + tmp[\"tn\"].values[0]\n",
    "            cm = [[tmp['tp'].values[0] / maxcnt, tmp['fn'].values[0] / maxcnt],\n",
    "                  [tmp['fp'].values[0] / maxcnt, tmp['tn'].values[0] / maxcnt]]\n",
    "            ax2 = fig.add_subplot(1, 2, 2)\n",
    "            sns.heatmap(cm, vmax=0.5, vmin=0, cmap='Blues', annot=True,\n",
    "                        xticklabels=False, yticklabels=False, cbar=False)\n",
    "            ax2.set_title(f'{ym} test')\n",
    "\n",
    "\n",
    "s1_option_98 = score_all['model_name'].unique()\n",
    "s2_option_98 = score_all['model_target'].unique()\n",
    "\n",
    "select1_98 = Select(options=s1_option_98)\n",
    "select1_98.observe(s1_update_98, names='value')\n",
    "\n",
    "select2_98 = Select(options=s2_option_98)\n",
    "select2_98.observe(s2_update_98, names='value')\n",
    "\n",
    "display(select1_98, select2_98)"
   ]
  },
  {
   "cell_type": "markdown",
   "metadata": {},
   "source": [
    "### 테크닉 99: 머신러닝 모델의 변수 중요도 분석 대시보드를 만들자"
   ]
  },
  {
   "cell_type": "code",
   "execution_count": null,
   "metadata": {
    "scrolled": false
   },
   "outputs": [],
   "source": [
    "opt1 = ''\n",
    "opt2 = ''\n",
    "\n",
    "\n",
    "def s1_update(val):\n",
    "    global opt1\n",
    "    opt1 = val['new']\n",
    "    if opt2 != '':\n",
    "        graph_by_multi()\n",
    "\n",
    "\n",
    "def s2_update(val):\n",
    "    global opt2\n",
    "    opt2 = val['new']\n",
    "    if opt1 != '':\n",
    "        graph_by_multi()\n",
    "\n",
    "\n",
    "def graph_by_multi():\n",
    "    clear_output()\n",
    "    display(select1, select2)\n",
    "\n",
    "    importance_tg_wd = importance_all.loc[\n",
    "        (importance_all['model_name'] == opt1) &\n",
    "        (importance_all['year_month'] == opt2) &\n",
    "        (importance_all['model_target'] == 'y_weekday')].copy()\n",
    "\n",
    "    importance_tg_we = importance_all.loc[\n",
    "        (importance_all['model_name'] == opt1) &\n",
    "        (importance_all['year_month'] == opt2) &\n",
    "        (importance_all['model_target'] == 'y_weekend')].copy()\n",
    "\n",
    "    importance_tg_wd.sort_values('importance', ascending=False, inplace=True)\n",
    "    importance_tg_we.sort_values('importance', ascending=False, inplace=True)\n",
    "\n",
    "    importance_tg_wd = importance_tg_wd.head(10)\n",
    "    importance_tg_we = importance_tg_we.head(10)\n",
    "\n",
    "    fig, (ax1, ax2) = plt.subplots(1, 2, figsize=(15, 5))\n",
    "    plt.subplots_adjust(wspace=0.25, hspace=0.6)\n",
    "    ax1 = fig.add_subplot(1, 2, 1)\n",
    "    plt.barh(importance_tg_wd['cols'], importance_tg_wd['importance'])\n",
    "    ax1.set_title('평일')\n",
    "\n",
    "    ax2 = fig.add_subplot(1, 2, 2)\n",
    "    plt.barh(importance_tg_we['cols'], importance_tg_we['importance'])\n",
    "    ax2.set_title('휴일')\n",
    "\n",
    "\n",
    "s1_option = importance_all['model_name'].unique()\n",
    "s2_option = importance_all['year_month'].unique()\n",
    "\n",
    "select1 = Select(options=s1_option)\n",
    "select1.observe(s1_update, names='value')\n",
    "\n",
    "select2 = Select(options=s2_option)\n",
    "select2.observe(s2_update, names='value')\n",
    "\n",
    "display(select1, select2)"
   ]
  },
  {
   "cell_type": "markdown",
   "metadata": {},
   "source": [
    "### 테크닉 100: 머신러닝 모델의 예측 결과를 시각화해서 검증하자"
   ]
  },
  {
   "cell_type": "code",
   "execution_count": null,
   "metadata": {},
   "outputs": [],
   "source": [
    "view_data = report_valid.copy()\n",
    "view_data.loc[(view_data['score_weekday'] >= 0.5) & \n",
    "              (view_data['y_weekday'] == 1), 'correct_weekday'] = 1\n",
    "view_data.loc[(view_data['score_weekday'] < 0.5) & \n",
    "              (view_data['y_weekday'] == 0), 'correct_weekday'] = 1\n",
    "view_data.loc[(view_data['score_weekend'] >= 0.5) & \n",
    "              (view_data['y_weekend'] == 1), 'correct_weekend'] = 1\n",
    "view_data.loc[(view_data['score_weekend'] < 0.5) & \n",
    "              (view_data['y_weekend'] == 0), 'correct_weekend'] = 1\n",
    "view_data.loc[:, 'count'] = 1\n",
    "view_data.fillna(0, inplace=True)\n",
    "view_data = view_data.groupby('pred_year_month').sum()[\n",
    "    ['correct_weekday', 'correct_weekend', 'count']]\n",
    "view_data.loc[:, 'acc_weekday'] = \\\n",
    "    view_data['correct_weekday'] / view_data['count']\n",
    "view_data.loc[:, 'acc_weekend'] = \\\n",
    "    view_data['correct_weekend'] / view_data['count']\n",
    "view_data = view_data[['acc_weekday', 'acc_weekend']]\n",
    "\n",
    "sns.heatmap(view_data.T, cmap='Blues', annot=True, \n",
    "            yticklabels=2, linewidths=.5)"
   ]
  },
  {
   "cell_type": "code",
   "execution_count": null,
   "metadata": {},
   "outputs": [],
   "source": []
  }
 ],
 "metadata": {
  "kernelspec": {
   "display_name": "Python 3 (ipykernel)",
   "language": "python",
   "name": "python3"
  },
  "language_info": {
   "codemirror_mode": {
    "name": "ipython",
    "version": 3
   },
   "file_extension": ".py",
   "mimetype": "text/x-python",
   "name": "python",
   "nbconvert_exporter": "python",
   "pygments_lexer": "ipython3",
   "version": "3.7.9"
  }
 },
 "nbformat": 4,
 "nbformat_minor": 4
}
