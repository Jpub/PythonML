{
 "cells": [
  {
   "cell_type": "code",
   "execution_count": 1,
   "metadata": {
    "ExecuteTime": {
     "end_time": "2021-08-06T07:54:59.431141Z",
     "start_time": "2021-08-06T07:54:59.412192Z"
    }
   },
   "outputs": [
    {
     "name": "stdout",
     "output_type": "stream",
     "text": [
      "input 30 => predict: 1.0\n",
      "input 40 => predict: 1.0\n",
      "input -20 => predict: 0.0\n",
      "input -60 => predict: 0.0\n",
      "0.01\n",
      "0.01\n"
     ]
    }
   ],
   "source": [
    "class Perceptron(object):\n",
    "\tdef __init__(self, eta=0.01, iterations=10):\n",
    "\t\tself.lr = eta\n",
    "\t\tself.iterations = iterations\n",
    "\t\tself.w = 0.0\n",
    "\t\tself.bias = 0.0\n",
    "\n",
    "\n",
    "\tdef fit(self, X, Y):\n",
    "\t\tself.errors = []\n",
    "\n",
    "\t\tfor _ in range(self.iterations):\n",
    "\t\t\terror = 0\n",
    "\t\t\tfor i in range(len(X)):\n",
    "\t\t\t\tx = X[i]\n",
    "\t\t\t\ty = Y[i]\n",
    "\t\t\t\tupdate = self.lr * (y - self.predict(x))\n",
    "\t\t\t\tself.w += update * x\n",
    "\t\t\t\tself.bias += update\n",
    "\t\t\t\terror += int(update != 0.0)\n",
    "\t\t\tself.errors.append(error)\n",
    "\n",
    "\n",
    "\tdef net_input(self, x):\n",
    "\t\treturn self.w * x + self.bias\n",
    "\n",
    "\n",
    "\tdef predict(self, x):\n",
    "\t\treturn 1.0 if self.net_input(x) > 0.0 else 0.0\n",
    "\n",
    "\n",
    "\n",
    "x = [1, 2, 3, 10, 20, -2, -10, -100, -5, -20]\n",
    "y = [1.0, 1.0, 1.0, 1.0, 1.0,  0.0, 0.0, 0.0, 0.0, 0.0]\n",
    "\n",
    "model = Perceptron(0.01, 10)\n",
    "model.fit(x, y)\n",
    "\n",
    "test_x = [30, 40, -20, -60]\n",
    "for i in range(len(test_x)):\n",
    "\tprint('input {} => predict: {}'.format(test_x[i], model.predict(test_x[i])))\n",
    "\n",
    "print(model.w)\n",
    "print(model.bias)\n"
   ]
  },
  {
   "cell_type": "code",
   "execution_count": null,
   "metadata": {},
   "outputs": [],
   "source": []
  }
 ],
 "metadata": {
  "kernelspec": {
   "display_name": "Python 3",
   "language": "python",
   "name": "python3"
  },
  "language_info": {
   "codemirror_mode": {
    "name": "ipython",
    "version": 3
   },
   "file_extension": ".py",
   "mimetype": "text/x-python",
   "name": "python",
   "nbconvert_exporter": "python",
   "pygments_lexer": "ipython3",
   "version": "3.7.3"
  },
  "varInspector": {
   "cols": {
    "lenName": 16,
    "lenType": 16,
    "lenVar": 40
   },
   "kernels_config": {
    "python": {
     "delete_cmd_postfix": "",
     "delete_cmd_prefix": "del ",
     "library": "var_list.py",
     "varRefreshCmd": "print(var_dic_list())"
    },
    "r": {
     "delete_cmd_postfix": ") ",
     "delete_cmd_prefix": "rm(",
     "library": "var_list.r",
     "varRefreshCmd": "cat(var_dic_list()) "
    }
   },
   "types_to_exclude": [
    "module",
    "function",
    "builtin_function_or_method",
    "instance",
    "_Feature"
   ],
   "window_display": false
  }
 },
 "nbformat": 4,
 "nbformat_minor": 4
}
