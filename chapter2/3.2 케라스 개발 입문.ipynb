{
 "cells": [
  {
   "cell_type": "code",
   "execution_count": 5,
   "metadata": {
    "ExecuteTime": {
     "end_time": "2021-08-06T08:25:43.704303Z",
     "start_time": "2021-08-06T08:25:36.155095Z"
    }
   },
   "outputs": [
    {
     "name": "stdout",
     "output_type": "stream",
     "text": [
      "Failed to import pydot. You must install pydot and graphviz for `pydotprint` to work.\n",
      "Train on 10000 samples\n",
      "Epoch 1/20\n",
      "10000/10000 [==============================] - 1s 60us/sample - loss: 0.2537 - accuracy: 0.5250\n",
      "Epoch 2/20\n",
      "10000/10000 [==============================] - 0s 22us/sample - loss: 0.2376 - accuracy: 0.7386\n",
      "Epoch 3/20\n",
      "10000/10000 [==============================] - 0s 21us/sample - loss: 0.2216 - accuracy: 0.8408\n",
      "Epoch 4/20\n",
      "10000/10000 [==============================] - 0s 22us/sample - loss: 0.2019 - accuracy: 0.8887\n",
      "Epoch 5/20\n",
      "10000/10000 [==============================] - 0s 21us/sample - loss: 0.1790 - accuracy: 0.9180\n",
      "Epoch 6/20\n",
      "10000/10000 [==============================] - 0s 21us/sample - loss: 0.1559 - accuracy: 0.9354\n",
      "Epoch 7/20\n",
      "10000/10000 [==============================] - 0s 22us/sample - loss: 0.1344 - accuracy: 0.9475\n",
      "Epoch 8/20\n",
      "10000/10000 [==============================] - 0s 21us/sample - loss: 0.1161 - accuracy: 0.9572\n",
      "Epoch 9/20\n",
      "10000/10000 [==============================] - 0s 22us/sample - loss: 0.1011 - accuracy: 0.9653\n",
      "Epoch 10/20\n",
      "10000/10000 [==============================] - 0s 21us/sample - loss: 0.0890 - accuracy: 0.9724\n",
      "Epoch 11/20\n",
      "10000/10000 [==============================] - 0s 22us/sample - loss: 0.0793 - accuracy: 0.9782\n",
      "Epoch 12/20\n",
      "10000/10000 [==============================] - 0s 23us/sample - loss: 0.0714 - accuracy: 0.9835\n",
      "Epoch 13/20\n",
      "10000/10000 [==============================] - 0s 22us/sample - loss: 0.0649 - accuracy: 0.9855\n",
      "Epoch 14/20\n",
      "10000/10000 [==============================] - 0s 21us/sample - loss: 0.0595 - accuracy: 0.9884\n",
      "Epoch 15/20\n",
      "10000/10000 [==============================] - 0s 21us/sample - loss: 0.0550 - accuracy: 0.9909\n",
      "Epoch 16/20\n",
      "10000/10000 [==============================] - 0s 22us/sample - loss: 0.0512 - accuracy: 0.9924\n",
      "Epoch 17/20\n",
      "10000/10000 [==============================] - 0s 22us/sample - loss: 0.0479 - accuracy: 0.9935\n",
      "Epoch 18/20\n",
      "10000/10000 [==============================] - 0s 22us/sample - loss: 0.0450 - accuracy: 0.9943\n",
      "Epoch 19/20\n",
      "10000/10000 [==============================] - 0s 22us/sample - loss: 0.0425 - accuracy: 0.9950\n",
      "Epoch 20/20\n",
      "10000/10000 [==============================] - 0s 22us/sample - loss: 0.0403 - accuracy: 0.9961\n",
      "totoal errors:0, accuracy:1.0\n"
     ]
    }
   ],
   "source": [
    "# from __future__ import absolute_import, division, print_function, unicode_literals\n",
    "import numpy as np\n",
    "import tensorflow as tf\n",
    "from tensorflow.keras.models import Sequential\n",
    "from tensorflow.keras.layers import Dense, Activation\n",
    "from tensorflow.keras.utils import plot_model\n",
    "\n",
    "model = Sequential([\n",
    "    Dense(4, input_shape=(2,)),\n",
    "    Activation('sigmoid'),\n",
    "    Dense(1),\n",
    "    Activation('sigmoid'),\n",
    "])\n",
    "\n",
    "model.compile(optimizer=tf.optimizers.Adam(0.001),\n",
    "              loss='mse',\n",
    "              metrics=['accuracy'])\n",
    "\n",
    "plot_model(model, to_file='training_model.png', show_shapes=True)\n",
    "\n",
    "training_number = 10000\n",
    "training_data = np.random.random((training_number, 2))\n",
    "labels = np.array([(1 if data[0]<data[1] else 0) for data in training_data ])\n",
    "model.fit(training_data, labels, epochs=20, batch_size=32)\n",
    "\n",
    "test_number = 100\n",
    "test_data = np.random.random((test_number, 2))\n",
    "expected = [(1 if data[0]<data[1] else 0) for data in test_data ]\n",
    "error = 0\n",
    "for i in range(0,test_number):\n",
    "\tdata = test_data[i].reshape(1,2)\n",
    "\tpred = 0 if model.predict(data) < 0.5 else 1\n",
    "\n",
    "\tif (pred != expected[i]):\n",
    "\t\terror+=1\n",
    "\n",
    "print(\"totoal errors:{}, accuracy:{}\".format(error, 1.0-error/test_number))"
   ]
  },
  {
   "cell_type": "code",
   "execution_count": null,
   "metadata": {},
   "outputs": [],
   "source": []
  }
 ],
 "metadata": {
  "kernelspec": {
   "display_name": "Python 3",
   "language": "python",
   "name": "python3"
  },
  "language_info": {
   "codemirror_mode": {
    "name": "ipython",
    "version": 3
   },
   "file_extension": ".py",
   "mimetype": "text/x-python",
   "name": "python",
   "nbconvert_exporter": "python",
   "pygments_lexer": "ipython3",
   "version": "3.7.3"
  },
  "varInspector": {
   "cols": {
    "lenName": 16,
    "lenType": 16,
    "lenVar": 40
   },
   "kernels_config": {
    "python": {
     "delete_cmd_postfix": "",
     "delete_cmd_prefix": "del ",
     "library": "var_list.py",
     "varRefreshCmd": "print(var_dic_list())"
    },
    "r": {
     "delete_cmd_postfix": ") ",
     "delete_cmd_prefix": "rm(",
     "library": "var_list.r",
     "varRefreshCmd": "cat(var_dic_list()) "
    }
   },
   "types_to_exclude": [
    "module",
    "function",
    "builtin_function_or_method",
    "instance",
    "_Feature"
   ],
   "window_display": false
  }
 },
 "nbformat": 4,
 "nbformat_minor": 4
}
