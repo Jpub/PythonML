{
 "cells": [
  {
   "cell_type": "code",
   "execution_count": null,
   "metadata": {
    "ExecuteTime": {
     "end_time": "2021-08-06T08:35:02.382947Z",
     "start_time": "2021-08-06T08:34:57.553888Z"
    }
   },
   "outputs": [],
   "source": [
    "from tensorflow.keras.models import Model, Sequential\n",
    "from tensorflow.keras.layers import Input, Dense, Activation, concatenate\n",
    "from tensorflow.keras.utils import plot_model\n",
    "\n",
    "model1 = Sequential()\n",
    "model1.add(Dense(32, input_shape=(32,), activation='sigmoid'))\n",
    "plot_model(model1, to_file='m1.png', show_shapes=True)\n",
    "\n",
    "a = Input(shape=(32,))\n",
    "b = Dense(1, activation='sigmoid')(a)\n",
    "model2 = Model(inputs=a, outputs=b)\n",
    "plot_model(model2, to_file='m2.png', show_shapes=True)\n",
    "\n",
    "\n",
    "input1 = Input(shape=(2,))\n",
    "h1 = Dense(3, activation='sigmoid')(input1)\n",
    "output1 = Dense(1, activation='sigmoid')(h1)\n",
    "\n",
    "input2 = Input(shape=(3,))\n",
    "new_input = concatenate([output1, input2])\t\n",
    "h2 = Dense(4, activation='sigmoid')(new_input)\n",
    "output2 = Dense(2, activation='sigmoid')(h2)\n",
    "model3 = Model(inputs=[input1, input2], outputs=[output1, output2])\n",
    "plot_model(model3, to_file='m3.png', show_shapes=True)\n"
   ]
  },
  {
   "cell_type": "code",
   "execution_count": null,
   "metadata": {},
   "outputs": [],
   "source": []
  }
 ],
 "metadata": {
  "kernelspec": {
   "display_name": "Python 3",
   "language": "python",
   "name": "python3"
  },
  "language_info": {
   "codemirror_mode": {
    "name": "ipython",
    "version": 3
   },
   "file_extension": ".py",
   "mimetype": "text/x-python",
   "name": "python",
   "nbconvert_exporter": "python",
   "pygments_lexer": "ipython3",
   "version": "3.7.3"
  },
  "varInspector": {
   "cols": {
    "lenName": 16,
    "lenType": 16,
    "lenVar": 40
   },
   "kernels_config": {
    "python": {
     "delete_cmd_postfix": "",
     "delete_cmd_prefix": "del ",
     "library": "var_list.py",
     "varRefreshCmd": "print(var_dic_list())"
    },
    "r": {
     "delete_cmd_postfix": ") ",
     "delete_cmd_prefix": "rm(",
     "library": "var_list.r",
     "varRefreshCmd": "cat(var_dic_list()) "
    }
   },
   "types_to_exclude": [
    "module",
    "function",
    "builtin_function_or_method",
    "instance",
    "_Feature"
   ],
   "window_display": false
  }
 },
 "nbformat": 4,
 "nbformat_minor": 4
}
