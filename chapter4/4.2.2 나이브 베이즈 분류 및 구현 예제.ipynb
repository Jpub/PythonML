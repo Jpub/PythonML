{
 "cells": [
  {
   "cell_type": "code",
   "execution_count": 2,
   "metadata": {
    "ExecuteTime": {
     "end_time": "2021-08-06T15:10:53.353767Z",
     "start_time": "2021-08-06T15:10:51.119456Z"
    }
   },
   "outputs": [
    {
     "name": "stdout",
     "output_type": "stream",
     "text": [
      "Predicted Value: [1]\n"
     ]
    }
   ],
   "source": [
    "from sklearn import preprocessing\n",
    "import pandas as pd\n",
    "import numpy as np\n",
    "from sklearn.naive_bayes import GaussianNB\n",
    "weather=['Sunny', 'Sunny', 'Overcast', 'Rainy', 'Rainy', 'Rainy', 'Overcast','Sunny',\n",
    "'Sunny', 'Rainy', 'Sunny', 'Overcast', 'Overcast', 'Rainy']\n",
    "temp=['Hot', 'Hot', 'Hot', 'Mild', 'Cool', 'Cool', 'Cool', 'Mild', 'Cool', 'Mild', 'Mild',\n",
    "'Mild', 'Hot', 'Mild']\n",
    "play=['No', 'No', 'Yes', 'Yes', 'Yes', 'No', 'Yes', 'No', 'Yes', 'Yes', 'Yes', 'Yes', 'Yes',\n",
    "'No']\n",
    "le = preprocessing.LabelEncoder()\n",
    "wheather_encoded = le.fit_transform(weather)\n",
    "temp_encoded = le.fit_transform(temp)\n",
    "label = le.fit_transform(play)\n",
    "# 변환 후 변수와 레이블은 각각 다음과 같음\n",
    "# wheather_encoded: [2 2 0 1 1 1 0 2 2 1 2 0 0 1]\n",
    "# temp_encoded: [1 1 1 2 0 0 0 2 0 2 2 2 1 2]\n",
    "# label: [0 0 1 1 1 0 1 0 1 1 1 1 1 0]\n",
    "# Pandas의 concat 메서드를 사용해 결합\n",
    "df1 = pd.DataFrame(wheather_encoded, columns = ['wheather'])\n",
    "df2 = pd.DataFrame(temp_encoded, columns = ['temp'])\n",
    "result = pd.concat([df1, df2], axis=1, sort=False)\n",
    "# 결합 후 특성은[(2, 1), (2, 1), (0, 1), (1, 2), (1, 0), (1, 0), (0, 0), (2,2), (2, 0), (1, 2),\n",
    "#(2, 2), (0, 2), (0, 1), (1, 2)]\n",
    "# 나이브 베이즈 모델을 만들고 데이터를 대입해 훈련함\n",
    "model = GaussianNB()\n",
    "trainx = np.array(result)\n",
    "model.fit(trainx, label)\n",
    "# 생성된 모델로 날씨는 overcast, 온도는 mild인 경우의 결과를 얻음\n",
    "predicted= model.predict([[0,2]]) # 0:Overcast, 2:Mild\n",
    "print(\"Predicted Value:\", predicted)"
   ]
  },
  {
   "cell_type": "code",
   "execution_count": null,
   "metadata": {},
   "outputs": [],
   "source": []
  }
 ],
 "metadata": {
  "kernelspec": {
   "display_name": "Python 3",
   "language": "python",
   "name": "python3"
  },
  "language_info": {
   "codemirror_mode": {
    "name": "ipython",
    "version": 3
   },
   "file_extension": ".py",
   "mimetype": "text/x-python",
   "name": "python",
   "nbconvert_exporter": "python",
   "pygments_lexer": "ipython3",
   "version": "3.7.3"
  },
  "varInspector": {
   "cols": {
    "lenName": 16,
    "lenType": 16,
    "lenVar": 40
   },
   "kernels_config": {
    "python": {
     "delete_cmd_postfix": "",
     "delete_cmd_prefix": "del ",
     "library": "var_list.py",
     "varRefreshCmd": "print(var_dic_list())"
    },
    "r": {
     "delete_cmd_postfix": ") ",
     "delete_cmd_prefix": "rm(",
     "library": "var_list.r",
     "varRefreshCmd": "cat(var_dic_list()) "
    }
   },
   "types_to_exclude": [
    "module",
    "function",
    "builtin_function_or_method",
    "instance",
    "_Feature"
   ],
   "window_display": false
  }
 },
 "nbformat": 4,
 "nbformat_minor": 4
}
