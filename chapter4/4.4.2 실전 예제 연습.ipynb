{
 "cells": [
  {
   "cell_type": "code",
   "execution_count": 1,
   "metadata": {
    "ExecuteTime": {
     "end_time": "2021-08-06T15:25:36.848491Z",
     "start_time": "2021-08-06T15:25:35.946869Z"
    }
   },
   "outputs": [
    {
     "name": "stdout",
     "output_type": "stream",
     "text": [
      "train mse:19.93655988564412test mse:41.7245762558578\n",
      "train mse:20.51570661251813test mse:36.6066396282239\n",
      "train mse:22.385226318403923test mse:18.519287957004796\n",
      "lr best mse score: 18.519287957004796\n"
     ]
    }
   ],
   "source": [
    "from __future__ import print_function\n",
    "from sklearn import datasets\n",
    "from sklearn.linear_model import LinearRegression\n",
    "from sklearn.metrics import mean_squared_error\n",
    "from sklearn.model_selection import ShuffleSplit\n",
    "if __name__ == '__main__':\n",
    "    loaded_data = datasets.load_boston()\n",
    "    feature = loaded_data['feature_names']\n",
    "    X = loaded_data.data\n",
    "    y = loaded_data.target\n",
    "    model = LinearRegression()\n",
    "    best_model = model\n",
    "    best_test_mse = 100\n",
    "    cv = ShuffleSplit(n_splits=3, test_size=.1, random_state=0)\n",
    "    for train, test in cv.split(X):\n",
    "        model.fit(X[train], y[train])\n",
    "        train_pred = model.predict(X[train])\n",
    "        train_mse = mean_squared_error(y[train], train_pred)\n",
    "        test_pred = model.predict(X[test])\n",
    "        test_mse = mean_squared_error(y[test], test_pred)\n",
    "        print('train mse:' + str(train_mse) + 'test mse:' + str(test_mse))\n",
    "        if test_mse < best_test_mse:\n",
    "            best_test_mse = test_mse\n",
    "            best_model = model\n",
    "    print('lr best mse score: ' + str(best_test_mse)) "
   ]
  },
  {
   "cell_type": "code",
   "execution_count": null,
   "metadata": {},
   "outputs": [],
   "source": []
  }
 ],
 "metadata": {
  "kernelspec": {
   "display_name": "Python 3",
   "language": "python",
   "name": "python3"
  },
  "language_info": {
   "codemirror_mode": {
    "name": "ipython",
    "version": 3
   },
   "file_extension": ".py",
   "mimetype": "text/x-python",
   "name": "python",
   "nbconvert_exporter": "python",
   "pygments_lexer": "ipython3",
   "version": "3.7.3"
  },
  "varInspector": {
   "cols": {
    "lenName": 16,
    "lenType": 16,
    "lenVar": 40
   },
   "kernels_config": {
    "python": {
     "delete_cmd_postfix": "",
     "delete_cmd_prefix": "del ",
     "library": "var_list.py",
     "varRefreshCmd": "print(var_dic_list())"
    },
    "r": {
     "delete_cmd_postfix": ") ",
     "delete_cmd_prefix": "rm(",
     "library": "var_list.r",
     "varRefreshCmd": "cat(var_dic_list()) "
    }
   },
   "types_to_exclude": [
    "module",
    "function",
    "builtin_function_or_method",
    "instance",
    "_Feature"
   ],
   "window_display": false
  }
 },
 "nbformat": 4,
 "nbformat_minor": 4
}
