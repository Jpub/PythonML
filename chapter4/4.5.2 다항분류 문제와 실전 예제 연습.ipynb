{
 "cells": [
  {
   "cell_type": "code",
   "execution_count": null,
   "metadata": {
    "ExecuteTime": {
     "end_time": "2021-08-06T15:26:58.977051Z",
     "start_time": "2021-08-06T15:26:58.948129Z"
    }
   },
   "outputs": [],
   "source": [
    "import numpy as np\n",
    "import pandas as pd\n",
    "from sklearn import preprocessing\n",
    "from sklearn.linear_model import LogisticRegression\n",
    "from sklearn.preprocessing import StandardScaler, PolynomialFeatures\n",
    "from sklearn.pipeline import Pipeline\n",
    "import matplotlib.pyplot as plt\n",
    "import matplotlib as mpl\n",
    "import matplotlib.patches as mpatches\n",
    "if __name__ == \"__main__\":\n",
    "    # 데이터 경로 지정\n",
    "    path = 'iris.data'\n",
    "    data = pd.read_csv(path, header=None)\n",
    "    data[4] = pd.Categorical(data[4]).codes\n",
    "    x, y = np.split(data.values, (4,), axis=1)\n",
    "    \n",
    "    # 두개의 특성만 사용\n",
    "    x = x[:, :2]\n",
    "    lr = Pipeline([('sc', StandardScaler()),\n",
    "                   ('poly', PolynomialFeatures(degree=3)),\n",
    "                   ('clf', LogisticRegression()) ])\n",
    "    lr.fit(x, y.ravel())\n",
    "    y_hat = lr.predict(x)\n",
    "    y_hat_prob = lr.predict_proba(x)\n",
    "    np.set_printoptions(suppress=True)\n",
    "    print('y_hat = \\n', y_hat)\n",
    "    print('y_hat_prob = \\n', y_hat_prob)\n",
    "    print('정확도:%.2f%%' % (100*np.mean(y_hat == y.ravel())))"
   ]
  },
  {
   "cell_type": "code",
   "execution_count": null,
   "metadata": {},
   "outputs": [],
   "source": []
  }
 ],
 "metadata": {
  "kernelspec": {
   "display_name": "Python 3",
   "language": "python",
   "name": "python3"
  },
  "language_info": {
   "codemirror_mode": {
    "name": "ipython",
    "version": 3
   },
   "file_extension": ".py",
   "mimetype": "text/x-python",
   "name": "python",
   "nbconvert_exporter": "python",
   "pygments_lexer": "ipython3",
   "version": "3.7.3"
  },
  "varInspector": {
   "cols": {
    "lenName": 16,
    "lenType": 16,
    "lenVar": 40
   },
   "kernels_config": {
    "python": {
     "delete_cmd_postfix": "",
     "delete_cmd_prefix": "del ",
     "library": "var_list.py",
     "varRefreshCmd": "print(var_dic_list())"
    },
    "r": {
     "delete_cmd_postfix": ") ",
     "delete_cmd_prefix": "rm(",
     "library": "var_list.r",
     "varRefreshCmd": "cat(var_dic_list()) "
    }
   },
   "types_to_exclude": [
    "module",
    "function",
    "builtin_function_or_method",
    "instance",
    "_Feature"
   ],
   "window_display": false
  }
 },
 "nbformat": 4,
 "nbformat_minor": 4
}
