{
 "cells": [
  {
   "cell_type": "code",
   "execution_count": 3,
   "metadata": {
    "ExecuteTime": {
     "end_time": "2021-08-06T15:36:16.539464Z",
     "start_time": "2021-08-06T15:36:16.532507Z"
    }
   },
   "outputs": [],
   "source": [
    "def getRatingInformation(ratings):\n",
    "    rates=[]\n",
    "    for line in ratings:\n",
    "        rate=line.split(\"\\t\")\n",
    "        rates.append([int(rate[0]),int(rate[1]),int(rate[2])])\n",
    "    return rates\n",
    "#\n",
    "# 사용자 평점 데이터 구조 생성\n",
    "#\n",
    "# Input: 평점 데이터 [[2,1,5],[2,4,2]...]\n",
    "# output: 1. 사용자 평점 딕셔너리; 2. 영화 딕셔너리\n",
    "# 딕셔너리를 사용. 키(key)는 사용자 id. 값(value)은 영화에 대한 사용자 평점\n",
    "# rate_dic[2]=[(1,5),(4,2)]...는 사용자 2가 영화 1에 대해 평점 5점을, 영화 4에 대해 평점 2점을 매겼다는 뜻\n",
    "def createUserRankDic(rates):\n",
    "    user_rate_dic={}\n",
    "    item_to_user={}\n",
    "    for i in rates:\n",
    "        user_rank=(i[1],i[2])\n",
    "        if i[0] in user_rate_dic:\n",
    "            user_rate_dic[i[0]].append(user_rank)\n",
    "        else:\n",
    "            user_rate_dic[i[0]]=[user_rank]\n",
    "        if i[1] in item_to_user:\n",
    "            item_to_user[i[1]].append(i[0])\n",
    "        else:\n",
    "            item_to_user[i[1]]=[i[0]]\n",
    "    return user_rate_dic,item_to_user\n"
   ]
  },
  {
   "cell_type": "code",
   "execution_count": 5,
   "metadata": {
    "ExecuteTime": {
     "end_time": "2021-08-06T15:39:55.661765Z",
     "start_time": "2021-08-06T15:39:55.644329Z"
    }
   },
   "outputs": [],
   "source": [
    "def recommendByUserFC(file_name,userid,k=5):\n",
    "    \n",
    "    # 파일 데이터(file data) 읽기\n",
    "    test_contents=readFile(file_name)\n",
    "    \n",
    "    # 파일 데이터를 이차원 어레이 리스트인 [[user id, movie id, movie rating]...]로 변환\n",
    "    test_rates=getRatingInformation(test_contents)\n",
    "    \n",
    "    # # 딕셔너리 데이터로 형식 변환\n",
    "    # 1. 사용자 딕셔너리: dic[userid]=[(movie id, movie rating)...]\n",
    "    # 2. 영화 딕셔너리: dic[movie id]=[user id1, user id2...]\n",
    "    test_dic,test_item_to_user=createUserRankDic(test_rates)\n",
    "    \n",
    "    # 이웃(neighbors) 찾기\n",
    "    neighbors=calcNearestNeighbor(userid,test_dic,test_item_to_user)[:k]\n",
    "    recommend_dic={}\n",
    "    for neighbor in neighbors:\n",
    "        neighbor_user_id=neighbor[1]\n",
    "        movies=test_dic[neighbor_user_id]\n",
    "        for movie in movies:\n",
    "            #print movie\n",
    "            if movie[0] not in recommend_dic:\n",
    "                recommend_dic[movie[0]]=neighbor[0]\n",
    "            else:\n",
    "                recommend_dic[movie[0]]+=neighbor[0]\n",
    "        # print len(recommend_dic)\n",
    "    # 추천 리스트 만들기\n",
    "        recommend_list=[]\n",
    "        for key in recommend_dic:\n",
    "        # 키(key) 출력\n",
    "            recommend_list.append([recommend_dic[key],key])\n",
    "        recommend_list.sort(reverse=True)\n",
    "        # recommend_list 출력\n",
    "        user_movies = [ i[0] for i in test_dic[userid]]\n",
    "    return [i[1] for i in recommend_list],user_movies,test_item_to_user,neighbors"
   ]
  },
  {
   "cell_type": "code",
   "execution_count": null,
   "metadata": {},
   "outputs": [],
   "source": []
  }
 ],
 "metadata": {
  "kernelspec": {
   "display_name": "Python 3",
   "language": "python",
   "name": "python3"
  },
  "language_info": {
   "codemirror_mode": {
    "name": "ipython",
    "version": 3
   },
   "file_extension": ".py",
   "mimetype": "text/x-python",
   "name": "python",
   "nbconvert_exporter": "python",
   "pygments_lexer": "ipython3",
   "version": "3.7.3"
  },
  "varInspector": {
   "cols": {
    "lenName": 16,
    "lenType": 16,
    "lenVar": 40
   },
   "kernels_config": {
    "python": {
     "delete_cmd_postfix": "",
     "delete_cmd_prefix": "del ",
     "library": "var_list.py",
     "varRefreshCmd": "print(var_dic_list())"
    },
    "r": {
     "delete_cmd_postfix": ") ",
     "delete_cmd_prefix": "rm(",
     "library": "var_list.r",
     "varRefreshCmd": "cat(var_dic_list()) "
    }
   },
   "types_to_exclude": [
    "module",
    "function",
    "builtin_function_or_method",
    "instance",
    "_Feature"
   ],
   "window_display": false
  }
 },
 "nbformat": 4,
 "nbformat_minor": 4
}
