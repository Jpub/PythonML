{
 "cells": [
  {
   "cell_type": "code",
   "execution_count": null,
   "metadata": {
    "ExecuteTime": {
     "end_time": "2021-08-07T13:18:56.558299Z",
     "start_time": "2021-08-07T13:18:53.801629Z"
    }
   },
   "outputs": [],
   "source": [
    "import pandas as pd\n",
    "from sklearn.linear_model import LogisticRegression\n",
    "from sklearn.metrics import roc_auc_score\n",
    "from sklearn.model_selection import train_test_split\n",
    "\n",
    "\n",
    "movies_path = './movies.csv'\n",
    "ratings_path = './ratings.csv'\n",
    "\n",
    "# rating 변수를 0과 1으로 변환\n",
    "def convert_rating_2_labels(ratings):\n",
    "    label = []\n",
    "    ratings_list = ratings.values.tolist()\n",
    "    for rate in ratings_list:\n",
    "        if rate >= 3.0:\n",
    "            label.append(1)\n",
    "        else:\n",
    "            label.append(0)\n",
    "    return label\n",
    "\n",
    "\n",
    "# genres 변수를 one-hot encoding을 사용해 변환\n",
    "def convert_2_one_hot(df):\n",
    "    genres_vals = df['genres'].values.tolist()\n",
    "    genres_set = set()\n",
    "    for row in genres_vals:\n",
    "        genres_set.update(row.split('|'))\n",
    "    genres_list = list(genres_set)\n",
    "    row_num = 0\n",
    "    df_new = pd.DataFrame(columns=genres_list)\n",
    "    for row in genres_vals:\n",
    "        init_genres_vals = [0] * len(genres_list)\n",
    "        genres_names = row.split('|')\n",
    "        for name in genres_names:\n",
    "            init_genres_vals[genres_list.index(name)] = 1\n",
    "        df_new.loc[row_num] = init_genres_vals\n",
    "        row_num += 1\n",
    "\n",
    "    df_update = pd.concat([df, df_new], axis=1)\n",
    "    return df_update\n",
    "\n",
    "\n",
    "def training_lr(X, y):\n",
    "    model = LogisticRegression(penalty='l2', C=1, solver='sag', max_iter=500, verbose=1, n_jobs=8)\n",
    "    X_train, X_test, y_train, y_test = train_test_split(X, y, test_size = 0.1, random_state = 42)\n",
    "    model.fit(X_train, y_train)\n",
    "    train_pred = model.predict_proba(X_train)\n",
    "    train_auc = roc_auc_score(y_train, train_pred[:, 1])\n",
    "\n",
    "    test_pred = model.predict_proba(X_test)\n",
    "    test_auc = roc_auc_score(y_test, test_pred[:, 1])\n",
    "\n",
    "    # print(model.score())\n",
    "    print('lr train auc score: ' + str(train_auc))\n",
    "    print('lr test auc score: ' + str(test_auc))\n",
    "\n",
    "# 데이터 읽어오기\n",
    "def load_data():\n",
    "    movie_df = pd.read_csv(movies_path)\n",
    "    rating_df = pd.read_csv(ratings_path)\n",
    "    df_update = convert_2_one_hot(movie_df)\n",
    "    df_final = pd.merge(rating_df, df_update, on='movieId')\n",
    "    ratings = df_final['rating']\n",
    "    df_final = df_final.drop(columns=['userId', 'movieId', 'timestamp', 'title', 'genres', 'rating'])\n",
    "    labels = convert_rating_2_labels(ratings)\n",
    "    trainx = df_final.values.tolist()\n",
    "    return trainx, labels\n",
    "\n",
    "\n",
    "if __name__ == '__main__':\n",
    "    trainx, labels = load_data()\n",
    "    training_lr(trainx, labels)\n"
   ]
  },
  {
   "cell_type": "code",
   "execution_count": null,
   "metadata": {},
   "outputs": [],
   "source": []
  }
 ],
 "metadata": {
  "kernelspec": {
   "display_name": "Python 3",
   "language": "python",
   "name": "python3"
  },
  "language_info": {
   "codemirror_mode": {
    "name": "ipython",
    "version": 3
   },
   "file_extension": ".py",
   "mimetype": "text/x-python",
   "name": "python",
   "nbconvert_exporter": "python",
   "pygments_lexer": "ipython3",
   "version": "3.7.3"
  },
  "varInspector": {
   "cols": {
    "lenName": 16,
    "lenType": 16,
    "lenVar": 40
   },
   "kernels_config": {
    "python": {
     "delete_cmd_postfix": "",
     "delete_cmd_prefix": "del ",
     "library": "var_list.py",
     "varRefreshCmd": "print(var_dic_list())"
    },
    "r": {
     "delete_cmd_postfix": ") ",
     "delete_cmd_prefix": "rm(",
     "library": "var_list.r",
     "varRefreshCmd": "cat(var_dic_list()) "
    }
   },
   "types_to_exclude": [
    "module",
    "function",
    "builtin_function_or_method",
    "instance",
    "_Feature"
   ],
   "window_display": false
  }
 },
 "nbformat": 4,
 "nbformat_minor": 4
}
