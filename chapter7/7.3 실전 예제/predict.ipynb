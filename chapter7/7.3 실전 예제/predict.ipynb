{
 "cells": [
  {
   "cell_type": "code",
   "execution_count": null,
   "metadata": {},
   "outputs": [],
   "source": [
    "import numpy as np\n",
    "import os\n",
    "\n",
    "import pandas as pd\n",
    "from skimage import io, color, exposure, transform\n",
    "from sklearn.model_selection import train_test_split\n",
    "\n",
    "from util import create_model, preprocess_image, create_resnet50\n",
    "\n",
    "NUM_CLASSES = 43\n",
    "IMG_SIZE = 48\n",
    "\n",
    "DATA_PATH = \"./GTSRB/Final_Test/Images/\"\n",
    "\n",
    "def get_test_data(csv_path, data_path):\n",
    "\ttest = pd.read_csv(csv_path, sep=';')\n",
    "\tX_test = []\n",
    "\ty_test = []\n",
    "\n",
    "\ti=0\n",
    "\tfor file_name, class_id in zip(list(test['Filename']),list(test['ClassId'])):\n",
    "\t    img_path = os.path.join(data_path,file_name)\n",
    "\t    X_test.append(preprocess_image(io.imread(img_path), IMG_SIZE))\n",
    "\t    y_test.append(class_id)\n",
    "\t    i = i+1\n",
    "\t    print('loaded image {}'.format(i))\n",
    "\t    \n",
    "\tX_test = np.array(X_test)\n",
    "\ty_test = np.array(y_test)\n",
    "\n",
    "\treturn X_test, y_test\n",
    "\n",
    "\n",
    "print('start')\n",
    "\n",
    "model = create_resnet50(NUM_CLASSES, IMG_SIZE)\n",
    "\n",
    "weight_file = 'gtsrb_cnn_augmentation.h5'\n",
    "weight_file = 'gtsrb_resnet.h5'\n",
    "model.load_weights(weight_file)\n",
    "\n",
    "test_x, test_y = get_test_data('./GTSRB/GT-final_test.csv', DATA_PATH)\n",
    "\n",
    "correct_ans = 0.0\n",
    "for i in range(len(test_x)):\n",
    "\tx = test_x[i]\n",
    "\ty = test_y[i]\n",
    "\ty_pred =  np.argmax(model.predict([[x]]))\n",
    "# \tif y_pred == y:\n",
    "# \t\tcorrect_ans = correct_ans + 1.0\n",
    "\n",
    "y_pred = model.predict_classes(test_x)\n",
    "acc = np.sum(y_pred==test_y)/np.size(y_pred)\n",
    "# acc = correct_ans / float(len(test_y))\n",
    "print(\"Test accuracy = {}\".format(acc))"
   ]
  }
 ],
 "metadata": {
  "kernelspec": {
   "display_name": "Python 3",
   "language": "python",
   "name": "python3"
  },
  "language_info": {
   "codemirror_mode": {
    "name": "ipython",
    "version": 3
   },
   "file_extension": ".py",
   "mimetype": "text/x-python",
   "name": "python",
   "nbconvert_exporter": "python",
   "pygments_lexer": "ipython3",
   "version": "3.7.3"
  },
  "varInspector": {
   "cols": {
    "lenName": 16,
    "lenType": 16,
    "lenVar": 40
   },
   "kernels_config": {
    "python": {
     "delete_cmd_postfix": "",
     "delete_cmd_prefix": "del ",
     "library": "var_list.py",
     "varRefreshCmd": "print(var_dic_list())"
    },
    "r": {
     "delete_cmd_postfix": ") ",
     "delete_cmd_prefix": "rm(",
     "library": "var_list.r",
     "varRefreshCmd": "cat(var_dic_list()) "
    }
   },
   "types_to_exclude": [
    "module",
    "function",
    "builtin_function_or_method",
    "instance",
    "_Feature"
   ],
   "window_display": false
  }
 },
 "nbformat": 4,
 "nbformat_minor": 4
}
