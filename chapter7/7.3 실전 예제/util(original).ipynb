{
 "cells": [
  {
   "cell_type": "code",
   "execution_count": 1,
   "metadata": {
    "ExecuteTime": {
     "end_time": "2021-08-07T14:07:24.283579Z",
     "start_time": "2021-08-07T14:07:19.290609Z"
    }
   },
   "outputs": [],
   "source": [
    "import numpy as np\n",
    "import os\n",
    "\n",
    "from skimage import transform\n",
    "\n",
    "from tensorflow.keras.models import Sequential, Model, model_from_json\n",
    "from tensorflow.keras.preprocessing.image import ImageDataGenerator\n",
    "from tensorflow.keras.layers import Dense, Dropout, Activation, Flatten\n",
    "from tensorflow.keras.layers import Conv2D\n",
    "from tensorflow.keras.layers import MaxPooling2D\n",
    "\n",
    "\n",
    "def preprocess_image(image, size):\n",
    "\timg = transform.resize(image, (size, size))\n",
    "\treturn img\n",
    "\n",
    "\n",
    "def create_model(num_classes, img_size):\n",
    "\tmodel = Sequential()\n",
    "\tmodel.add(Conv2D(32, (3, 3), padding='same', activation='relu', input_shape=(img_size, img_size, 3)))\n",
    "\tmodel.add(Conv2D(32, (3, 3), padding='same', activation='relu'))\n",
    "\tmodel.add(MaxPooling2D(pool_size=(2,2)))\t\n",
    "\tmodel.add(Dropout(0.2))\t\n",
    "\n",
    "\tmodel.add(Conv2D(64, (3, 3), padding='same', activation='relu'))\n",
    "\tmodel.add(Conv2D(64, (3, 3), padding='same', activation='relu'))\n",
    "\tmodel.add(MaxPooling2D(pool_size=(2,2)))\t\n",
    "\tmodel.add(Dropout(0.2))\t\n",
    "\n",
    "\tmodel.add(Conv2D(128, (3, 3), padding='same', activation='relu'))\n",
    "\tmodel.add(Conv2D(128, (3, 3), padding='same', activation='relu'))\n",
    "\tmodel.add(MaxPooling2D(pool_size=(2,2)))\t\n",
    "\tmodel.add(Dropout(0.2))\t\n",
    "\n",
    "\tmodel.add(Flatten())\n",
    "\tmodel.add(Dense(512, activation='relu'))\n",
    "\tmodel.add(Dropout(0.5))\n",
    "\tmodel.add(Dense(num_classes, activation='softmax'))\n",
    "\n",
    "\tmodel.summary()\t\n",
    "\tplot_model(model, to_file='training_model.png', show_shapes=True)\n",
    "\n",
    "\treturn model"
   ]
  },
  {
   "cell_type": "code",
   "execution_count": null,
   "metadata": {},
   "outputs": [],
   "source": []
  }
 ],
 "metadata": {
  "kernelspec": {
   "display_name": "Python 3",
   "language": "python",
   "name": "python3"
  },
  "language_info": {
   "codemirror_mode": {
    "name": "ipython",
    "version": 3
   },
   "file_extension": ".py",
   "mimetype": "text/x-python",
   "name": "python",
   "nbconvert_exporter": "python",
   "pygments_lexer": "ipython3",
   "version": "3.7.3"
  },
  "varInspector": {
   "cols": {
    "lenName": 16,
    "lenType": 16,
    "lenVar": 40
   },
   "kernels_config": {
    "python": {
     "delete_cmd_postfix": "",
     "delete_cmd_prefix": "del ",
     "library": "var_list.py",
     "varRefreshCmd": "print(var_dic_list())"
    },
    "r": {
     "delete_cmd_postfix": ") ",
     "delete_cmd_prefix": "rm(",
     "library": "var_list.r",
     "varRefreshCmd": "cat(var_dic_list()) "
    }
   },
   "types_to_exclude": [
    "module",
    "function",
    "builtin_function_or_method",
    "instance",
    "_Feature"
   ],
   "window_display": false
  }
 },
 "nbformat": 4,
 "nbformat_minor": 4
}
