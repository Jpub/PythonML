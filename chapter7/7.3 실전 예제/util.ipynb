{
 "cells": [
  {
   "cell_type": "code",
   "execution_count": null,
   "metadata": {},
   "outputs": [],
   "source": [
    "import numpy as np\n",
    "import os\n",
    "\n",
    "from skimage import transform\n",
    "\n",
    "from tensorflow.keras.models import Sequential, Model, model_from_json\n",
    "from tensorflow.keras.preprocessing.image import ImageDataGenerator\n",
    "from tensorflow.keras.layers import Dense, Dropout, Activation, Flatten\n",
    "from tensorflow.keras.layers import Conv2D\n",
    "from tensorflow.keras.layers import MaxPooling2D\n",
    "from tensorflow.keras.layers import GlobalAveragePooling2D\n",
    "from tensorflow.keras.applications import resnet50\n",
    "from tensorflow.keras.utils import plot_model\n",
    "\n",
    "\n",
    "def preprocess_image(image, size):\n",
    "\timg = transform.resize(image, (size, size))\n",
    "\treturn img\n",
    "\n",
    "\n",
    "def create_model(num_classes, img_size):\n",
    "\tmodel = Sequential()\n",
    "\tmodel.add(Conv2D(32, (3, 3), padding='same', activation='relu', input_shape=(img_size, img_size, 3)))\n",
    "\tmodel.add(Conv2D(32, (3, 3), padding='same', activation='relu'))\n",
    "\tmodel.add(MaxPooling2D(pool_size=(2,2)))\t\n",
    "\tmodel.add(Dropout(0.2))\t\n",
    "\n",
    "\tmodel.add(Conv2D(64, (3, 3), padding='same', activation='relu'))\n",
    "\tmodel.add(Conv2D(64, (3, 3), padding='same', activation='relu'))\n",
    "\tmodel.add(MaxPooling2D(pool_size=(2,2)))\t\n",
    "\tmodel.add(Dropout(0.2))\t\n",
    "\n",
    "\tmodel.add(Conv2D(128, (3, 3), padding='same', activation='relu'))\n",
    "\tmodel.add(Conv2D(128, (3, 3), padding='same', activation='relu'))\n",
    "\tmodel.add(MaxPooling2D(pool_size=(2,2)))\t\n",
    "\tmodel.add(Dropout(0.2))\t\n",
    "\n",
    "\tmodel.add(Flatten())\n",
    "\tmodel.add(Dense(512, activation='relu'))\n",
    "\tmodel.add(Dropout(0.5))\n",
    "\tmodel.add(Dense(num_classes, activation='softmax'))\n",
    "\n",
    "\tmodel.summary()\t\n",
    "\tplot_model(model, to_file='training_model.png', show_shapes=True)\n",
    "\n",
    "\treturn model\n",
    "\n",
    "def create_resnet50(num_classes, img_size):\n",
    "\tbase_model = resnet50.ResNet50(weights= None, include_top=False, input_shape= (img_size, img_size, 3))\n",
    "\tx = base_model.output\n",
    "\tx = GlobalAveragePooling2D()(x)\n",
    "\tx = Dropout(0.7)(x)\n",
    "\tpredictions = Dense(num_classes, activation= 'softmax')(x)\n",
    "\tmodel = Model(inputs = base_model.input, outputs = predictions)\n",
    "\treturn model\n"
   ]
  }
 ],
 "metadata": {
  "kernelspec": {
   "display_name": "Python 3",
   "language": "python",
   "name": "python3"
  },
  "language_info": {
   "codemirror_mode": {
    "name": "ipython",
    "version": 3
   },
   "file_extension": ".py",
   "mimetype": "text/x-python",
   "name": "python",
   "nbconvert_exporter": "python",
   "pygments_lexer": "ipython3",
   "version": "3.7.3"
  },
  "varInspector": {
   "cols": {
    "lenName": 16,
    "lenType": 16,
    "lenVar": 40
   },
   "kernels_config": {
    "python": {
     "delete_cmd_postfix": "",
     "delete_cmd_prefix": "del ",
     "library": "var_list.py",
     "varRefreshCmd": "print(var_dic_list())"
    },
    "r": {
     "delete_cmd_postfix": ") ",
     "delete_cmd_prefix": "rm(",
     "library": "var_list.r",
     "varRefreshCmd": "cat(var_dic_list()) "
    }
   },
   "types_to_exclude": [
    "module",
    "function",
    "builtin_function_or_method",
    "instance",
    "_Feature"
   ],
   "window_display": false
  }
 },
 "nbformat": 4,
 "nbformat_minor": 4
}
