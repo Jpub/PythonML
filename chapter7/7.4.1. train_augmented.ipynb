{
 "cells": [
  {
   "cell_type": "code",
   "execution_count": null,
   "metadata": {},
   "outputs": [],
   "source": [
    "import numpy as np\n",
    "import glob\n",
    "import os, sys\n",
    "\n",
    "from skimage import io\n",
    "from sklearn.model_selection import train_test_split\n",
    "\n",
    "from tensorflow.keras.optimizers import SGD\n",
    "from tensorflow.keras.preprocessing.image import ImageDataGenerator\n",
    "from util import preprocess_image, create_model\n",
    "\n",
    "def get_label_from_image_path(image_path, data_path):\n",
    "\tpath = image_path.replace(data_path, \"\");\n",
    "\tpaths = path.split(\"/\")\n",
    "\tlabel = int(paths[0])\n",
    "\treturn label\n",
    "\n",
    "\n",
    "def get_training_data(data_path, num_classes, img_size):\n",
    "\timages = []\n",
    "\tlabels = []\n",
    "\n",
    "\tall_image_paths = glob.glob(os.path.join(data_path, '*/*.ppm'))\n",
    "\tnp.random.shuffle(all_image_paths)\n",
    "\tprint(data_path)\n",
    "\ti = 0\n",
    "\tfor image_path in all_image_paths:\n",
    "\t\ttry:\n",
    "\t\t\timg = preprocess_image(io.imread(image_path), img_size)\n",
    "\t\t\tlabel = get_label_from_image_path(image_path, data_path)\n",
    "\t\t\timages.append(img)\n",
    "\t\t\tlabels.append(label)\n",
    "\t\t\tprint(\"load images: {}\".format(i))\n",
    "\t\t\ti = i+1\n",
    "\t\texcept(IOError, OSError):\n",
    "\t\t\tprint(\"failed to process {}\".format(image_path))\n",
    "\n",
    "\n",
    "\tX = np.array(images, dtype='float32')\n",
    "\ty = np.eye(num_classes, dtype='uint8')[labels]\n",
    "\n",
    "\treturn X, y\n",
    "\n",
    "\n",
    "NUM_CLASSES = 43\n",
    "IMG_SIZE = 48\n",
    "\n",
    "TRAINING_DATA_PATH = \"./GTSRB/Final_Training/Images/\"\n",
    "\n",
    "\n",
    "model = create_model(NUM_CLASSES, IMG_SIZE)\n",
    "X, y = get_training_data(TRAINING_DATA_PATH, NUM_CLASSES, IMG_SIZE)\n",
    "\n",
    "X_train, X_val, Y_train, Y_val = train_test_split(X, y, test_size=0.2, random_state=42)\n",
    "datagen = ImageDataGenerator(featurewise_center=False, \n",
    "                            featurewise_std_normalization=False, \n",
    "                            rotation_range=10.,\n",
    "                            width_shift_range=0.1,\n",
    "                            height_shift_range=0.1,                             \n",
    "                            shear_range=0.1,\n",
    "                            zoom_range=0.2,\n",
    "                            )\n",
    "datagen.fit(X)\n",
    "\n",
    "\n",
    "learning_rate = 0.01\n",
    "sgd = SGD(lr=learning_rate, decay=1e-6, momentum=0.9, nesterov=True)\n",
    "\n",
    "model.compile(loss='categorical_crossentropy',\n",
    "              optimizer=sgd,\n",
    "              metrics=['accuracy'])\n",
    "\n",
    "batch_size = 32\n",
    "epochs = 30\n",
    "\n",
    "history = model.fit_generator(datagen.flow(X_train, Y_train, batch_size=batch_size),\n",
    "\t\t\t\t\tsteps_per_epoch=X_train.shape[0]/batch_size,\n",
    "\t\t\t        epochs=epochs,\n",
    "\t\t\t        validation_data=(X_val, Y_val))\n",
    "model.save(sys.argv[1])\n",
    "\n"
   ]
  }
 ],
 "metadata": {
  "kernelspec": {
   "display_name": "Python 3",
   "language": "python",
   "name": "python3"
  },
  "language_info": {
   "codemirror_mode": {
    "name": "ipython",
    "version": 3
   },
   "file_extension": ".py",
   "mimetype": "text/x-python",
   "name": "python",
   "nbconvert_exporter": "python",
   "pygments_lexer": "ipython3",
   "version": "3.7.3"
  },
  "varInspector": {
   "cols": {
    "lenName": 16,
    "lenType": 16,
    "lenVar": 40
   },
   "kernels_config": {
    "python": {
     "delete_cmd_postfix": "",
     "delete_cmd_prefix": "del ",
     "library": "var_list.py",
     "varRefreshCmd": "print(var_dic_list())"
    },
    "r": {
     "delete_cmd_postfix": ") ",
     "delete_cmd_prefix": "rm(",
     "library": "var_list.r",
     "varRefreshCmd": "cat(var_dic_list()) "
    }
   },
   "types_to_exclude": [
    "module",
    "function",
    "builtin_function_or_method",
    "instance",
    "_Feature"
   ],
   "window_display": false
  }
 },
 "nbformat": 4,
 "nbformat_minor": 4
}
