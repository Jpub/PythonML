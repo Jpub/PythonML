{
 "cells": [
  {
   "cell_type": "code",
   "execution_count": null,
   "metadata": {},
   "outputs": [],
   "source": [
    "from numpy import array\n",
    "from numpy import argmax\n",
    "from numpy import array_equal\n",
    "from tensorflow.keras.models import Sequential, Model\n",
    "from tensorflow.keras.layers import LSTM, Input, Dense, RepeatVector, Flatten\n",
    "from tensorflow.keras.layers import Activation, Permute, multiply\n",
    "\n",
    "# 랜덤 정수 시퀀스 생성\n",
    "def generate_sequence(length, n_unique):\n",
    "\treturn [randint(0, n_unique-1) for _ in range(length)]\n",
    " \n",
    "# 원-핫 인코드 시퀀스 생성\n",
    "def one_hot_encode(sequence, n_unique):\n",
    "\tencoding = list()\n",
    "\tfor value in sequence:\n",
    "\t\tvector = [0 for _ in range(n_unique)]\n",
    "\t\tvector[value] = 1\n",
    "\t\tencoding.append(vector)\n",
    "\treturn array(encoding)\n",
    " \n",
    "# 원-핫 인코딩 스트링을 디코드한다\n",
    "def one_hot_decode(encoded_seq):\n",
    "\treturn [argmax(vector) for vector in encoded_seq]\n",
    "\n",
    "\n",
    "def get_pair(n_in, n_out, cardinality):\n",
    "\t# 랜덤 시퀀스 생성\n",
    "\tsequence_in = generate_sequence(n_in, cardinality)\n",
    "\n",
    "\tsequence_out = sequence_in[:n_out] + [0 for _ in range(n_in-n_out)]\n",
    "\t# 원-핫 인코딩\n",
    "\tX = one_hot_encode(sequence_in, cardinality)\n",
    "\ty = one_hot_encode(sequence_out, cardinality)\n",
    "\t# 3차원으로 변환(reshape)\n",
    "\tX = X.reshape((1, X.shape[0], X.shape[1]))\n",
    "\ty = y.reshape((1, y.shape[0], y.shape[1]))\n",
    "\treturn X,y\n",
    "\n",
    "def attention_model(n_timesteps_in, n_features):\n",
    "    units = 50\n",
    "    inputs = Input(shape=(n_timesteps_in, n_features))\n",
    "\n",
    "    encoder = LSTM(units, return_sequences=True, return_state=True)\n",
    "    encoder_outputs, encoder_states, _ = encoder(inputs)\n",
    "\n",
    "    a = Dense(1, activation='tanh', bias_initializer='zeros')(encoder_outputs)\n",
    "    a = Flatten()(a)\n",
    "    annotation = Activation('softmax')(a)\n",
    "    annotation = RepeatVector(units)(annotation)\n",
    "    annotation = Permute((2, 1))(annotation)\n",
    "\n",
    "    context = multiply([encoder_outputs, annotation])\n",
    "    output = Dense(n_features, activation='softmax', name='final_dense')(context)\n",
    "\n",
    "    model = Model([inputs], output)\t\n",
    "    model.compile(loss='categorical_crossentropy', optimizer='adam', \n",
    "                     metrics=['acc'])\n",
    "       return model\n",
    "def train_evaluate_model(model, n_timesteps_in, n_timesteps_out, n_features):\n",
    "       for epoch in range(5000):\n",
    "\tX,y = get_pair(n_timesteps_in, n_timesteps_out, n_features)\n",
    "\tmodel.fit(X, y, epochs=1, verbose=0)\n",
    "\n",
    "           total, correct = 100, 0\n",
    "           for _ in range(total):\n",
    "        X,y = get_pair(n_timesteps_in, n_timesteps_out, n_features)\n",
    "        yhat = model.predict(X, verbose=0)\n",
    "        result = one_hot_decode(yhat[0])\n",
    "        expected = one_hot_decode(y[0])\n",
    "        if array_equal(expected, result):\n",
    "       \t    correct += 1\n",
    "\n",
    "             return float(correct)/float(total)*100.0\n",
    "\n",
    "n_features = 50\n",
    "n_timesteps_in = 6\n",
    "n_timesteps_out = 3\n",
    "n_repeats = 5\n",
    "\n",
    "for _ in range(n_repeats):\n",
    "    model = attention_model(n_timesteps_in, n_features)\n",
    "    accuracy = train_evaluate_model(model, n_timesteps_in, n_timesteps_out, \n",
    "                                    n_features)\n",
    "    print(accuracy)\n",
    "\n"
   ]
  }
 ],
 "metadata": {
  "kernelspec": {
   "display_name": "Python 3",
   "language": "python",
   "name": "python3"
  },
  "language_info": {
   "codemirror_mode": {
    "name": "ipython",
    "version": 3
   },
   "file_extension": ".py",
   "mimetype": "text/x-python",
   "name": "python",
   "nbconvert_exporter": "python",
   "pygments_lexer": "ipython3",
   "version": "3.7.3"
  },
  "varInspector": {
   "cols": {
    "lenName": 16,
    "lenType": 16,
    "lenVar": 40
   },
   "kernels_config": {
    "python": {
     "delete_cmd_postfix": "",
     "delete_cmd_prefix": "del ",
     "library": "var_list.py",
     "varRefreshCmd": "print(var_dic_list())"
    },
    "r": {
     "delete_cmd_postfix": ") ",
     "delete_cmd_prefix": "rm(",
     "library": "var_list.r",
     "varRefreshCmd": "cat(var_dic_list()) "
    }
   },
   "types_to_exclude": [
    "module",
    "function",
    "builtin_function_or_method",
    "instance",
    "_Feature"
   ],
   "window_display": false
  }
 },
 "nbformat": 4,
 "nbformat_minor": 4
}
